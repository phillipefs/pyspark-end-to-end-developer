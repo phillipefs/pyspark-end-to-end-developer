{
 "cells": [
  {
   "cell_type": "markdown",
   "metadata": {},
   "source": [
    "Examples Spark Submit\n",
    "\n",
    "</br> spark-submit file.py  | Aplicação Simples\n",
    "</br> spark-submit --deploy-mode client file.py | Selecionando o tipo de deploy, client é default\n",
    "</br> spark-submit --conf spark.sql.shuffle.partitions=300 file.py | Deploy alterando configuração de shuffle partitions"
   ]
  },
  {
   "attachments": {},
   "cell_type": "markdown",
   "metadata": {},
   "source": [
    "Spark Submit Configuration Driver/Memory\n",
    "\n",
    "spark-submit\n",
    "</br> --master “yarn” \n",
    "</br> --deploy-mode “client”\n",
    "</br> --conf spark.sql.shuffle.partitions=300\n",
    "</br> --conf spark.yarn.appMasterEnv.HDFS_PATH=“practice/retail_db/orders”\n",
    "</br> --driver-memory 1024M\n",
    "</br> --executor-memory 1024M\n",
    "</br> --num-executors 2\n",
    "</br> --jars /devl/src/main/python/lib/ojdbc7.jar, fil2.jar, file3.jar\n",
    "</br> --packages org.apache.spark:spark-avro_2.11:2.4.4\n",
    "</br> --py-files file1.py, file2.py,file3.zip\n",
    "</br> /dev/example1/src/main/python/bin/basic.py arg1 arg2 arg3\n"
   ]
  }
 ],
 "metadata": {
  "kernelspec": {
   "display_name": "Python 3.8.10 ('env': venv)",
   "language": "python",
   "name": "python3"
  },
  "language_info": {
   "codemirror_mode": {
    "name": "ipython",
    "version": 3
   },
   "file_extension": ".py",
   "mimetype": "text/x-python",
   "name": "python",
   "nbconvert_exporter": "python",
   "pygments_lexer": "ipython3",
   "version": "3.8.10"
  },
  "orig_nbformat": 4,
  "vscode": {
   "interpreter": {
    "hash": "8f7758469e02c66e66ef6baa44a1ee4a1b31a148355c9ccd5c920a6cac049391"
   }
  }
 },
 "nbformat": 4,
 "nbformat_minor": 2
}
