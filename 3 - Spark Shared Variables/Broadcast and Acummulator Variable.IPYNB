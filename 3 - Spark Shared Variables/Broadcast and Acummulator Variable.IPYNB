{
 "cells": [
  {
   "cell_type": "code",
   "execution_count": 2,
   "metadata": {},
   "outputs": [],
   "source": [
    "from pyspark.sql import SparkSession\n",
    "\n",
    "spark = SparkSession \\\n",
    "    .builder \\\n",
    "    .getOrCreate()\n",
    "\n",
    "sc = spark.sparkContext"
   ]
  },
  {
   "attachments": {},
   "cell_type": "markdown",
   "metadata": {},
   "source": [
    "- Shared variables are the variables that are required to be used by functions and methods in parallel.\n",
    "- Shared variables can be used in parallel operations.\n",
    "- Spark provides two types of shared variables −\n",
    "   - Broadcast\n",
    "   - Accumulator \n",
    "</br>\n",
    "- Broadcast variables allow the programmer to keep a read-only variable cached on each machine rather than\n",
    "shipping a copy of it with tasks.\n",
    "- Immutable and cached on each worker nodes only once.\n",
    "- Efficient manner to give a copy of a large dataset to each node.\n",
    "- They should fit in memory.\n"
   ]
  },
  {
   "attachments": {},
   "cell_type": "markdown",
   "metadata": {},
   "source": [
    "#### When to use Broadcast Variable:\n",
    "- For processing, the executors need information regarding variables or methods. This information is serialized by Spark and\n",
    "sent to each executor and is known as CLOSURE.\n",
    "- If we have a huge array that is accessed from spark CLOSURES, for example - if we have 5 nodes cluster with 100 partitions\n",
    "(20 partitions per node), this Array will be distributed at least 100 times (20 times to each node). If we broadcast it\n",
    "will be distributed once per node using efficient p2p protocol.\n",
    "#### What not to do:\n",
    "- Once we broadcasted the value to the nodes, we shouldn’t make changes to its value to make sure each node have\n",
    "exact same copy of data. The modified value might be sent to another node later that would give unexpected results."
   ]
  },
  {
   "cell_type": "code",
   "execution_count": 5,
   "metadata": {},
   "outputs": [
    {
     "data": {
      "text/plain": [
       "'Sunday'"
      ]
     },
     "execution_count": 5,
     "metadata": {},
     "output_type": "execute_result"
    }
   ],
   "source": [
    "#Broadcast a Dictionary\n",
    "days={\"sun\": \"Sunday\", \"mon\" : \"Monday\", \"tue\":\"Tuesday\"}\n",
    "bcDays = spark.sparkContext.broadcast(days)\n",
    "bcDays.value\n",
    "bcDays.value['sun']\n"
   ]
  },
  {
   "cell_type": "code",
   "execution_count": 6,
   "metadata": {},
   "outputs": [
    {
     "data": {
      "text/plain": [
       "1"
      ]
     },
     "execution_count": 6,
     "metadata": {},
     "output_type": "execute_result"
    }
   ],
   "source": [
    "#Broadcast a list\n",
    "numbers = (1,2,3)\n",
    "broadcastNumbers=spark.sparkContext.broadcast(numbers)\n",
    "broadcastNumbers.value\n",
    "broadcastNumbers.value[0]"
   ]
  },
  {
   "attachments": {},
   "cell_type": "markdown",
   "metadata": {},
   "source": [
    "Convert into full days"
   ]
  },
  {
   "cell_type": "code",
   "execution_count": 32,
   "metadata": {},
   "outputs": [
    {
     "data": {
      "text/plain": [
       "[('James', 'Smith', 'USA', 'Monday'),\n",
       " ('Michael', 'Rose', 'USA', 'Tuesday'),\n",
       " ('Robert', 'Williams', 'USA', 'Sunday'),\n",
       " ('Maria', 'Jones', 'USA', 'Tuesday')]"
      ]
     },
     "execution_count": 32,
     "metadata": {},
     "output_type": "execute_result"
    }
   ],
   "source": [
    "data= ((\"James\",\"Smith\",\"USA\",\"mon\"),\n",
    "(\"Michael\",\"Rose\",\"USA\",\"tue\"),\n",
    "(\"Robert\",\"Williams\",\"USA\",\"sun\"),\n",
    "(\"Maria\",\"Jones\",\"USA\",\"tue\")\n",
    ")\n",
    "days={\"sun\": \"Sunday\", \"mon\" : \"Monday\", \"tue\":\"Tuesday\"}\n",
    "bcDays = spark.sparkContext.broadcast(days)\n",
    "\n",
    "rdd = spark.sparkContext.parallelize(data)\n",
    "\n",
    "def days_convert(dict_key):\n",
    "    return bcDays.value[dict_key]\n",
    "\n",
    "rdd.map(lambda x: (x[0],x[1],x[2],days_convert(x[3]))).collect()"
   ]
  },
  {
   "attachments": {},
   "cell_type": "markdown",
   "metadata": {},
   "source": [
    "#### Accumulator Variables\n",
    "- Accumulator is a shared variable to perform sum and counter operations.\n",
    "- These variables are shared by all executors to update and add information through associative or commutative\n",
    "operations."
   ]
  },
  {
   "cell_type": "code",
   "execution_count": 34,
   "metadata": {},
   "outputs": [
    {
     "name": "stdout",
     "output_type": "stream",
     "text": [
      "0\n"
     ]
    }
   ],
   "source": [
    "counter = 0\n",
    "def f1(x):\n",
    "    global counter\n",
    "    counter += 1\n",
    "rdd = spark.sparkContext.parallelize((1,2,3))\n",
    "rdd.foreach(f1)\n",
    "print(counter)"
   ]
  },
  {
   "cell_type": "code",
   "execution_count": 35,
   "metadata": {},
   "outputs": [
    {
     "data": {
      "text/plain": [
       "3"
      ]
     },
     "execution_count": 35,
     "metadata": {},
     "output_type": "execute_result"
    }
   ],
   "source": [
    "### sparkContext.accumulator() is used to define accumulator variables\n",
    "counter = spark.sparkContext.accumulator(0)\n",
    "def f2(x):\n",
    "    global counter\n",
    "    counter.add(1) ### add() function is used to add/update a value in accumulator\n",
    "rdd.foreach(f1)\n",
    "counter.value ### Only accessed by Driver"
   ]
  }
 ],
 "metadata": {
  "kernelspec": {
   "display_name": "Python 3",
   "language": "python",
   "name": "python3"
  },
  "language_info": {
   "codemirror_mode": {
    "name": "ipython",
    "version": 3
   },
   "file_extension": ".py",
   "mimetype": "text/x-python",
   "name": "python",
   "nbconvert_exporter": "python",
   "pygments_lexer": "ipython3",
   "version": "3.8.10"
  },
  "orig_nbformat": 4
 },
 "nbformat": 4,
 "nbformat_minor": 2
}
