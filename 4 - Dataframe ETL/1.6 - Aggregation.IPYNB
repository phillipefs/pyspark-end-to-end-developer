{
 "cells": [
  {
   "cell_type": "code",
   "execution_count": 2,
   "metadata": {},
   "outputs": [],
   "source": [
    "from pyspark.sql import SparkSession\n",
    "from pyspark.sql.functions import *\n",
    "from pyspark.sql.types import *\n",
    "\n",
    "spark = SparkSession \\\n",
    "    .builder \\\n",
    "    .getOrCreate()"
   ]
  },
  {
   "attachments": {},
   "cell_type": "markdown",
   "metadata": {},
   "source": [
    "Function Summary"
   ]
  },
  {
   "cell_type": "code",
   "execution_count": 12,
   "metadata": {},
   "outputs": [
    {
     "name": "stderr",
     "output_type": "stream",
     "text": [
      "[Stage 11:=============================>                            (1 + 1) / 2]\r"
     ]
    },
    {
     "name": "stdout",
     "output_type": "stream",
     "text": [
      "+-------+-----------------+------------------+-----------------+------------------+------------------+------------------+\n",
      "|summary|    order_item_id|        order_item|       product_id|          quantity|          subtotal|             price|\n",
      "+-------+-----------------+------------------+-----------------+------------------+------------------+------------------+\n",
      "|  count|           172198|            172198|           172198|            172198|            172198|            172198|\n",
      "|   mean|          86099.5| 34442.56682423721|660.4877176273824|2.1821275508426345|199.32066922046081|133.75906959048717|\n",
      "| stddev|49709.42516431533|19883.325171992343| 310.514472790008|1.4663523175387134|112.74303987146804|118.55893633258484|\n",
      "|    min|                1|                 1|               19|                 1|              9.99|              9.99|\n",
      "|    25%|            43033|             17204|              403|                 1|            119.98|              50.0|\n",
      "|    50%|            86085|             34464|              627|                 1|            199.92|             59.99|\n",
      "|    75%|           129134|             51682|             1004|                 3|            299.95|            199.99|\n",
      "|    max|           172198|             68883|             1073|                 5|           1999.99|           1999.99|\n",
      "+-------+-----------------+------------------+-----------------+------------------+------------------+------------------+\n",
      "\n"
     ]
    },
    {
     "name": "stderr",
     "output_type": "stream",
     "text": [
      "                                                                                \r"
     ]
    }
   ],
   "source": [
    "df_orders = spark.read.csv(\"/home/phillipefs/spark_dev/pyspark-end-to-end-developer/0 - PracticeFiles/Order_items/part-00000\", schema=\"order_item_id int, order_item int, product_id int, quantity int, subtotal float, price float\")\n",
    "df_orders.summary().show()"
   ]
  },
  {
   "attachments": {},
   "cell_type": "markdown",
   "metadata": {},
   "source": [
    "avg, max, min"
   ]
  },
  {
   "cell_type": "code",
   "execution_count": 17,
   "metadata": {},
   "outputs": [
    {
     "name": "stdout",
     "output_type": "stream",
     "text": [
      "+---------+\n",
      "|avg_price|\n",
      "+---------+\n",
      "|   133.76|\n",
      "+---------+\n",
      "\n",
      "+----------+\n",
      "|max(price)|\n",
      "+----------+\n",
      "|   1999.99|\n",
      "+----------+\n",
      "\n",
      "+----------+\n",
      "|min(price)|\n",
      "+----------+\n",
      "|      9.99|\n",
      "+----------+\n",
      "\n"
     ]
    }
   ],
   "source": [
    "df_orders.select(round(avg('price'),2).alias('avg_price')).show()\n",
    "df_orders.select(max('price')).show()\n",
    "df_orders.select(min('price')).show()"
   ]
  },
  {
   "attachments": {},
   "cell_type": "markdown",
   "metadata": {},
   "source": [
    "sum, sumDistinct"
   ]
  },
  {
   "cell_type": "code",
   "execution_count": 20,
   "metadata": {},
   "outputs": [
    {
     "name": "stdout",
     "output_type": "stream",
     "text": [
      "+--------------------+-------------------+\n",
      "|          sum(price)|sum(DISTINCT price)|\n",
      "+--------------------+-------------------+\n",
      "|2.3033044265342712E7|   9832.41999053955|\n",
      "+--------------------+-------------------+\n",
      "\n"
     ]
    }
   ],
   "source": [
    "df_orders.select(sum('price'), sum_distinct('price')).show()"
   ]
  },
  {
   "attachments": {},
   "cell_type": "markdown",
   "metadata": {},
   "source": [
    "count, count_distinct"
   ]
  },
  {
   "cell_type": "code",
   "execution_count": 21,
   "metadata": {},
   "outputs": [
    {
     "name": "stdout",
     "output_type": "stream",
     "text": [
      "+------------+---------------------+\n",
      "|count(price)|count(DISTINCT price)|\n",
      "+------------+---------------------+\n",
      "|      172198|                   57|\n",
      "+------------+---------------------+\n",
      "\n"
     ]
    }
   ],
   "source": [
    "df_orders.select(count('price'), count_distinct('price')).show()"
   ]
  },
  {
   "attachments": {},
   "cell_type": "markdown",
   "metadata": {},
   "source": [
    "first, last"
   ]
  },
  {
   "cell_type": "code",
   "execution_count": 56,
   "metadata": {},
   "outputs": [
    {
     "name": "stdout",
     "output_type": "stream",
     "text": [
      "+------------+-----------+\n",
      "|first(price)|last(price)|\n",
      "+------------+-----------+\n",
      "|        9.99|    1999.99|\n",
      "+------------+-----------+\n",
      "\n"
     ]
    }
   ],
   "source": [
    "df_orders.sort(col('price').asc()).first()\n",
    "df_orders.sort(col('price').asc()).select(first('price'), last('price')).show()"
   ]
  },
  {
   "attachments": {},
   "cell_type": "markdown",
   "metadata": {},
   "source": [
    "collect_set, collect_list"
   ]
  },
  {
   "cell_type": "code",
   "execution_count": 53,
   "metadata": {},
   "outputs": [
    {
     "name": "stdout",
     "output_type": "stream",
     "text": [
      "+-----------------------+-------------------+\n",
      "|list                   |set                |\n",
      "+-----------------------+-------------------+\n",
      "|[100, 150, 200, 50, 50]|[150, 100, 50, 200]|\n",
      "+-----------------------+-------------------+\n",
      "\n"
     ]
    }
   ],
   "source": [
    "df = spark.createDataFrame([(1,100), (2,150), (3,200), (4,50), (5,50)], schema='id int, salary int')\n",
    "df.select(collect_list('salary').alias('list'), collect_set('salary').alias('set')).show(truncate=False)"
   ]
  }
 ],
 "metadata": {
  "kernelspec": {
   "display_name": "Python 3",
   "language": "python",
   "name": "python3"
  },
  "language_info": {
   "codemirror_mode": {
    "name": "ipython",
    "version": 3
   },
   "file_extension": ".py",
   "mimetype": "text/x-python",
   "name": "python",
   "nbconvert_exporter": "python",
   "pygments_lexer": "ipython3",
   "version": "3.8.10"
  },
  "orig_nbformat": 4
 },
 "nbformat": 4,
 "nbformat_minor": 2
}
