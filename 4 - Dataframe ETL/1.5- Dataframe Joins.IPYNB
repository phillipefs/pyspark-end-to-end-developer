{
 "cells": [
  {
   "cell_type": "code",
   "execution_count": 2,
   "metadata": {},
   "outputs": [],
   "source": [
    "from pyspark.sql import SparkSession\n",
    "from pyspark.sql.functions import *\n",
    "from pyspark.sql.types import *\n",
    "\n",
    "spark = SparkSession \\\n",
    "    .builder \\\n",
    "    .getOrCreate()"
   ]
  },
  {
   "attachments": {},
   "cell_type": "markdown",
   "metadata": {},
   "source": [
    "Create Dataframe"
   ]
  },
  {
   "cell_type": "code",
   "execution_count": 79,
   "metadata": {},
   "outputs": [
    {
     "name": "stdout",
     "output_type": "stream",
     "text": [
      "+---+-------+\n",
      "| id|empname|\n",
      "+---+-------+\n",
      "|  1| Robert|\n",
      "|  2|    Ria|\n",
      "|  3|  James|\n",
      "+---+-------+\n",
      "\n",
      "+---+-------+\n",
      "| id|country|\n",
      "+---+-------+\n",
      "|  2|    USA|\n",
      "|  4|  India|\n",
      "+---+-------+\n",
      "\n"
     ]
    }
   ],
   "source": [
    "df1 = spark.createDataFrame(data=((1,'Robert'),(2,'Ria'),(3,'James')), schema='id int,empname string')\n",
    "df2 = spark.createDataFrame(data=((2,'USA'),(4,'India')), schema='id int,country string')\n",
    "df1.show()\n",
    "df2.show()"
   ]
  },
  {
   "attachments": {},
   "cell_type": "markdown",
   "metadata": {},
   "source": [
    "inner join"
   ]
  },
  {
   "cell_type": "code",
   "execution_count": 65,
   "metadata": {},
   "outputs": [
    {
     "name": "stdout",
     "output_type": "stream",
     "text": [
      "+---+-------+-------+\n",
      "| id|empname|country|\n",
      "+---+-------+-------+\n",
      "|  2|    Ria|    USA|\n",
      "+---+-------+-------+\n",
      "\n",
      "+---+-------+\n",
      "| id|country|\n",
      "+---+-------+\n",
      "|  2|    USA|\n",
      "+---+-------+\n",
      "\n"
     ]
    }
   ],
   "source": [
    "df1.join(df2,df1.id == df2.id,'inner').select(df1['*'], df2.country).show()\n",
    "df1.join(df2,df1.id == df2.id,'inner').select(df1.id, df2.country).show()"
   ]
  },
  {
   "attachments": {},
   "cell_type": "markdown",
   "metadata": {},
   "source": [
    "left join"
   ]
  },
  {
   "cell_type": "code",
   "execution_count": 72,
   "metadata": {},
   "outputs": [
    {
     "name": "stdout",
     "output_type": "stream",
     "text": [
      "+---+-------+-------+\n",
      "| id|empname|country|\n",
      "+---+-------+-------+\n",
      "|  1| Robert|   null|\n",
      "|  2|    Ria|    USA|\n",
      "|  3|  James|   null|\n",
      "+---+-------+-------+\n",
      "\n"
     ]
    }
   ],
   "source": [
    "df1.join(df2,df1.id == df2.id,'left')\\\n",
    "    .select(df1['*'], df2.country)\\\n",
    "    .show()"
   ]
  },
  {
   "attachments": {},
   "cell_type": "markdown",
   "metadata": {},
   "source": [
    "cross join"
   ]
  },
  {
   "cell_type": "code",
   "execution_count": 77,
   "metadata": {},
   "outputs": [
    {
     "name": "stdout",
     "output_type": "stream",
     "text": [
      "+---+-------+---+-------+\n",
      "| id|empname| id|country|\n",
      "+---+-------+---+-------+\n",
      "|  1| Robert|  2|    USA|\n",
      "|  1| Robert|  4|  India|\n",
      "|  2|    Ria|  2|    USA|\n",
      "|  2|    Ria|  4|  India|\n",
      "|  3|  James|  2|    USA|\n",
      "|  3|  James|  4|  India|\n",
      "+---+-------+---+-------+\n",
      "\n"
     ]
    }
   ],
   "source": [
    "df1.crossJoin(df2).show()"
   ]
  },
  {
   "attachments": {},
   "cell_type": "markdown",
   "metadata": {},
   "source": [
    "leftanti\n",
    "\n",
    "Retorna os elementos da esqueda que não foram encontrados"
   ]
  },
  {
   "cell_type": "code",
   "execution_count": 78,
   "metadata": {},
   "outputs": [
    {
     "name": "stdout",
     "output_type": "stream",
     "text": [
      "+---+-------+\n",
      "| id|empname|\n",
      "+---+-------+\n",
      "|  1| Robert|\n",
      "|  3|  James|\n",
      "+---+-------+\n",
      "\n"
     ]
    }
   ],
   "source": [
    "df1.join(df2,df1.id == df2.id,'leftanti').show()"
   ]
  },
  {
   "attachments": {},
   "cell_type": "markdown",
   "metadata": {},
   "source": [
    "join multiple columns"
   ]
  },
  {
   "cell_type": "code",
   "execution_count": 80,
   "metadata": {},
   "outputs": [
    {
     "name": "stdout",
     "output_type": "stream",
     "text": [
      "+-----+------+-------+-----+------+-------+\n",
      "|empid|deptid|empname|empid|deptid|country|\n",
      "+-----+------+-------+-----+------+-------+\n",
      "|    2|   102|    Ria|    2|   102|    USA|\n",
      "+-----+------+-------+-----+------+-------+\n",
      "\n"
     ]
    }
   ],
   "source": [
    "df1 =spark.createDataFrame (data=((1,101,'Robert'),(2,102,'Ria'),(3,103,'James')), schema='empid int,deptid int,empname string')\n",
    "df2 =spark.createDataFrame (data=((2,102,'USA'),(4,104,'India')), schema='empid int,deptid int,country string')\n",
    "df1.join(df2,(df1.empid == df2.empid) & (df1.deptid == df2.deptid)).show()"
   ]
  },
  {
   "attachments": {},
   "cell_type": "markdown",
   "metadata": {},
   "source": [
    "join multiple dataframes"
   ]
  },
  {
   "cell_type": "code",
   "execution_count": 81,
   "metadata": {},
   "outputs": [
    {
     "name": "stdout",
     "output_type": "stream",
     "text": [
      "+-----+-------+-----+-------+-----+-----------+\n",
      "|empid|empname|empid|country|empid|   joindate|\n",
      "+-----+-------+-----+-------+-----+-----------+\n",
      "|    2|    Ria|    2|    USA|    2|01 feb 2021|\n",
      "+-----+-------+-----+-------+-----+-----------+\n",
      "\n"
     ]
    }
   ],
   "source": [
    "df1 =spark.createDataFrame (data=((1,'Robert'),(2,'Ria'),(3,'James')), schema='empid int,empname string')\n",
    "df2 =spark.createDataFrame (data=((2,'USA'),(4,'India')), schema='empid int,country string')\n",
    "df3 =spark.createDataFrame (data=((1,'01 jan 2021'),(2,'01 feb 2021'),(3,'01 mar 2021')),schema='empid int,joindate string')\n",
    "df1.join(df2,df1.empid==df2.empid).join(df3,df1.empid == df3.empid).show()"
   ]
  }
 ],
 "metadata": {
  "kernelspec": {
   "display_name": "Python 3",
   "language": "python",
   "name": "python3"
  },
  "language_info": {
   "codemirror_mode": {
    "name": "ipython",
    "version": 3
   },
   "file_extension": ".py",
   "mimetype": "text/x-python",
   "name": "python",
   "nbconvert_exporter": "python",
   "pygments_lexer": "ipython3",
   "version": "3.8.10"
  },
  "orig_nbformat": 4
 },
 "nbformat": 4,
 "nbformat_minor": 2
}
