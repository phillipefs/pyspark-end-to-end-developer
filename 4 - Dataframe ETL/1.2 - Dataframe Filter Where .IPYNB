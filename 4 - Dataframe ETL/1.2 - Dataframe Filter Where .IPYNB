{
 "cells": [
  {
   "cell_type": "code",
   "execution_count": 3,
   "metadata": {},
   "outputs": [],
   "source": [
    "from pyspark.sql import SparkSession\n",
    "from pyspark.sql.functions import *\n",
    "from pyspark.sql.types import *\n",
    "\n",
    "spark = SparkSession \\\n",
    "    .builder \\\n",
    "    .getOrCreate()\n",
    "\n",
    "sc = spark.sparkContext"
   ]
  },
  {
   "attachments": {},
   "cell_type": "markdown",
   "metadata": {},
   "source": [
    "Create Dataframe"
   ]
  },
  {
   "cell_type": "code",
   "execution_count": 4,
   "metadata": {},
   "outputs": [],
   "source": [
    "df_ord = spark.read.csv(\"/home/phillipefs/spark_dev/pyspark-end-to-end-developer/0 - PracticeFiles/Orders\", schema=\"order_id INT, order_date STRING, order_customer_id INT, order_status STRING\")"
   ]
  },
  {
   "attachments": {},
   "cell_type": "markdown",
   "metadata": {},
   "source": [
    "#### filter(condition): (Its alias 'where')\n",
    "- Filter rows using a given condition\n",
    "- use & for and | for or (boolean expressions)\n",
    "- use column function isin() for multiple search\n",
    "- Or use IN operator for sql stype syntax"
   ]
  },
  {
   "cell_type": "code",
   "execution_count": 17,
   "metadata": {},
   "outputs": [
    {
     "name": "stdout",
     "output_type": "stream",
     "text": [
      "+--------+--------------------+-----------------+--------------+\n",
      "|order_id|          order_date|order_customer_id|  order_status|\n",
      "+--------+--------------------+-----------------+--------------+\n",
      "|      11|2013-07-25 00:00:...|              918|PAYMENT_REVIEW|\n",
      "+--------+--------------------+-----------------+--------------+\n",
      "only showing top 1 row\n",
      "\n",
      "+--------+--------------------+-----------------+--------------+\n",
      "|order_id|          order_date|order_customer_id|  order_status|\n",
      "+--------+--------------------+-----------------+--------------+\n",
      "|      11|2013-07-25 00:00:...|              918|PAYMENT_REVIEW|\n",
      "+--------+--------------------+-----------------+--------------+\n",
      "only showing top 1 row\n",
      "\n"
     ]
    }
   ],
   "source": [
    "df_ord.filter((df_ord.order_id > 10) & (df_ord.order_id < 15)).show(1)\n",
    "df_ord.filter('order_id > 10 and order_id < 15').show(1)"
   ]
  },
  {
   "cell_type": "code",
   "execution_count": 24,
   "metadata": {},
   "outputs": [
    {
     "name": "stdout",
     "output_type": "stream",
     "text": [
      "+--------+--------------------+-----------------+------------+\n",
      "|order_id|          order_date|order_customer_id|order_status|\n",
      "+--------+--------------------+-----------------+------------+\n",
      "|       1|2013-07-25 00:00:...|            11599|      CLOSED|\n",
      "|       3|2013-07-25 00:00:...|            12111|    COMPLETE|\n",
      "+--------+--------------------+-----------------+------------+\n",
      "only showing top 2 rows\n",
      "\n",
      "+--------+--------------------+-----------------+------------+\n",
      "|order_id|          order_date|order_customer_id|order_status|\n",
      "+--------+--------------------+-----------------+------------+\n",
      "|       1|2013-07-25 00:00:...|            11599|      CLOSED|\n",
      "|       3|2013-07-25 00:00:...|            12111|    COMPLETE|\n",
      "+--------+--------------------+-----------------+------------+\n",
      "only showing top 2 rows\n",
      "\n"
     ]
    }
   ],
   "source": [
    "df_ord.filter(col('order_status').isin(['COMPLETE', 'CLOSED'])).show(2)\n",
    "df_ord.filter(\"order_status in('COMPLETE', 'CLOSED')\").show(2)"
   ]
  }
 ],
 "metadata": {
  "kernelspec": {
   "display_name": "Python 3",
   "language": "python",
   "name": "python3"
  },
  "language_info": {
   "codemirror_mode": {
    "name": "ipython",
    "version": 3
   },
   "file_extension": ".py",
   "mimetype": "text/x-python",
   "name": "python",
   "nbconvert_exporter": "python",
   "pygments_lexer": "ipython3",
   "version": "3.8.10"
  },
  "orig_nbformat": 4
 },
 "nbformat": 4,
 "nbformat_minor": 2
}
