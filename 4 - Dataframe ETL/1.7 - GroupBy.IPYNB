{
 "cells": [
  {
   "cell_type": "code",
   "execution_count": 2,
   "metadata": {},
   "outputs": [],
   "source": [
    "from pyspark.sql import SparkSession\n",
    "from pyspark.sql.functions import *\n",
    "from pyspark.sql.types import *\n",
    "\n",
    "spark = SparkSession \\\n",
    "    .builder \\\n",
    "    .getOrCreate()"
   ]
  },
  {
   "attachments": {},
   "cell_type": "markdown",
   "metadata": {},
   "source": [
    "Read file"
   ]
  },
  {
   "cell_type": "code",
   "execution_count": 16,
   "metadata": {},
   "outputs": [
    {
     "name": "stdout",
     "output_type": "stream",
     "text": [
      "+-------+---------+-----+------+---+\n",
      "|empname|     dept|state|salary|age|\n",
      "+-------+---------+-----+------+---+\n",
      "|  James|    Sales|   NY|  9000| 34|\n",
      "| Alicia|    Sales|   NY|  8600| 56|\n",
      "| Robert|    Sales|   CA|  8100| 30|\n",
      "|   Lisa|  Finance|   CA|  9000| 24|\n",
      "|   Deja|  Finance|   CA|  9900| 40|\n",
      "|  Sugie|  Finance|   NY|  8300| 36|\n",
      "|    Ram|  Finance|   NY|  7900| 53|\n",
      "|   Kyle|Marketing|   CA|  8000| 25|\n",
      "|   Reid|Marketing|   NY|  9100| 50|\n",
      "+-------+---------+-----+------+---+\n",
      "\n"
     ]
    }
   ],
   "source": [
    "data = ((\"James\",\"Sales\",\"NY\",9000,34),\n",
    "(\"Alicia\",\"Sales\",\"NY\",8600,56),\n",
    "(\"Robert\",\"Sales\",\"CA\",8100,30),\n",
    "(\"Lisa\",\"Finance\",\"CA\",9000,24),\n",
    "(\"Deja\",\"Finance\",\"CA\",9900,40),\n",
    "(\"Sugie\",\"Finance\",\"NY\",8300,36),\n",
    "(\"Ram\",\"Finance\",\"NY\",7900,53),\n",
    "(\"Kyle\",\"Marketing\",\"CA\",8000,25),\n",
    "(\"Reid\",\"Marketing\",\"NY\",9100,50))\n",
    "\n",
    "schema=(\"empname\", \"dept\", \"state\",\"salary\",\"age\")\n",
    "df = spark.createDataFrame (data,schema =schema)\n",
    "df.show()"
   ]
  },
  {
   "attachments": {},
   "cell_type": "markdown",
   "metadata": {},
   "source": [
    "Using avg(), sum(), min(), max(), count(), agg()"
   ]
  },
  {
   "cell_type": "code",
   "execution_count": 23,
   "metadata": {},
   "outputs": [
    {
     "name": "stdout",
     "output_type": "stream",
     "text": [
      "+---------+-----------------+\n",
      "|     dept|      avg(salary)|\n",
      "+---------+-----------------+\n",
      "|    Sales|8566.666666666666|\n",
      "|  Finance|           8775.0|\n",
      "|Marketing|           8550.0|\n",
      "+---------+-----------------+\n",
      "\n",
      "+---------+-----------+\n",
      "|     dept|max(salary)|\n",
      "+---------+-----------+\n",
      "|    Sales|       9000|\n",
      "|  Finance|       9900|\n",
      "|Marketing|       9100|\n",
      "+---------+-----------+\n",
      "\n"
     ]
    }
   ],
   "source": [
    "df.groupBy(\"dept\").avg(\"salary\").show()\n",
    "df.groupBy(\"dept\").max(\"salary\").show()"
   ]
  },
  {
   "attachments": {},
   "cell_type": "markdown",
   "metadata": {},
   "source": [
    "Ex2 - Multiple Columns"
   ]
  },
  {
   "cell_type": "code",
   "execution_count": 24,
   "metadata": {},
   "outputs": [
    {
     "name": "stdout",
     "output_type": "stream",
     "text": [
      "+---------+-----+-----------+--------+\n",
      "|     dept|state|min(salary)|min(age)|\n",
      "+---------+-----+-----------+--------+\n",
      "|    Sales|   NY|       8600|      34|\n",
      "|    Sales|   CA|       8100|      30|\n",
      "|  Finance|   CA|       9000|      24|\n",
      "|  Finance|   NY|       7900|      36|\n",
      "|Marketing|   CA|       8000|      25|\n",
      "|Marketing|   NY|       9100|      50|\n",
      "+---------+-----+-----------+--------+\n",
      "\n"
     ]
    }
   ],
   "source": [
    "df.groupBy(\"dept\", \"state\").min(\"salary\", \"age\").show()"
   ]
  },
  {
   "attachments": {},
   "cell_type": "markdown",
   "metadata": {},
   "source": [
    "Ex3 - Using agg() many aggregation"
   ]
  },
  {
   "cell_type": "code",
   "execution_count": 29,
   "metadata": {},
   "outputs": [
    {
     "name": "stdout",
     "output_type": "stream",
     "text": [
      "+---------+----------+----------+----------+\n",
      "|     dept|max_salary|min_salary|avg_salary|\n",
      "+---------+----------+----------+----------+\n",
      "|    Sales|      9000|      8100|   8566.67|\n",
      "|  Finance|      9900|      7900|    8775.0|\n",
      "|Marketing|      9100|      8000|    8550.0|\n",
      "+---------+----------+----------+----------+\n",
      "\n"
     ]
    }
   ],
   "source": [
    "df.groupBy(\"dept\")\\\n",
    "    .agg(\n",
    "        max(\"salary\").alias(\"max_salary\"),\n",
    "        min(\"salary\").alias(\"min_salary\"),\n",
    "        round(avg(\"salary\"),2).alias(\"avg_salary\")\n",
    "    )\\\n",
    ".show()"
   ]
  },
  {
   "attachments": {},
   "cell_type": "markdown",
   "metadata": {},
   "source": [
    "Using filter or where"
   ]
  },
  {
   "cell_type": "code",
   "execution_count": 33,
   "metadata": {},
   "outputs": [
    {
     "name": "stdout",
     "output_type": "stream",
     "text": [
      "+---------+----------+\n",
      "|     dept|min_salary|\n",
      "+---------+----------+\n",
      "|    Sales|      8600|\n",
      "|Marketing|      9100|\n",
      "+---------+----------+\n",
      "\n"
     ]
    }
   ],
   "source": [
    "df.filter(\"state == 'NY'\")\\\n",
    "    .groupBy(\"dept\")\\\n",
    "    .agg(\n",
    "        min(\"salary\").alias(\"min_salary\")\n",
    "    )\\\n",
    "    .filter(\"min_salary > 8000\")\\\n",
    ".show()"
   ]
  },
  {
   "attachments": {},
   "cell_type": "markdown",
   "metadata": {},
   "source": [
    "pivot()"
   ]
  },
  {
   "cell_type": "code",
   "execution_count": 42,
   "metadata": {},
   "outputs": [
    {
     "name": "stdout",
     "output_type": "stream",
     "text": [
      "+---------+-----+-----+\n",
      "|     dept|   CA|   NY|\n",
      "+---------+-----+-----+\n",
      "|    Sales| 8100|17600|\n",
      "|  Finance|18900|16200|\n",
      "|Marketing| 8000| 9100|\n",
      "+---------+-----+-----+\n",
      "\n"
     ]
    }
   ],
   "source": [
    "df_pivot = df.groupBy(\"dept\")\\\n",
    "    .pivot(\"state\")\\\n",
    "    .sum(\"salary\")\n",
    "\n",
    "df.groupBy(\"dept\")\\\n",
    "    .pivot(\"state\")\\\n",
    "    .sum(\"salary\")\\\n",
    "    .show()"
   ]
  },
  {
   "attachments": {},
   "cell_type": "markdown",
   "metadata": {},
   "source": [
    "unpivot()"
   ]
  },
  {
   "cell_type": "code",
   "execution_count": 55,
   "metadata": {},
   "outputs": [
    {
     "name": "stdout",
     "output_type": "stream",
     "text": [
      "+---------+-----+------+\n",
      "|     dept|state|salary|\n",
      "+---------+-----+------+\n",
      "|    Sales|   CA|  8100|\n",
      "|    Sales|   NY| 17600|\n",
      "|  Finance|   CA| 18900|\n",
      "|  Finance|   NY| 16200|\n",
      "|Marketing|   CA|  8000|\n",
      "|Marketing|   NY|  9100|\n",
      "+---------+-----+------+\n",
      "\n"
     ]
    }
   ],
   "source": [
    "df_pivot.selectExpr(\"dept\", \"stack(2, 'CA', CA, 'NY', NY) as (state, salary)\").show()\n"
   ]
  },
  {
   "cell_type": "code",
   "execution_count": null,
   "metadata": {},
   "outputs": [],
   "source": []
  }
 ],
 "metadata": {
  "kernelspec": {
   "display_name": "Python 3",
   "language": "python",
   "name": "python3"
  },
  "language_info": {
   "codemirror_mode": {
    "name": "ipython",
    "version": 3
   },
   "file_extension": ".py",
   "mimetype": "text/x-python",
   "name": "python",
   "nbconvert_exporter": "python",
   "pygments_lexer": "ipython3",
   "version": "3.8.10"
  },
  "orig_nbformat": 4
 },
 "nbformat": 4,
 "nbformat_minor": 2
}
