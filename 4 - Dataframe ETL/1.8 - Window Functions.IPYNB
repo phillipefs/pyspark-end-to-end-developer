{
 "cells": [
  {
   "cell_type": "code",
   "execution_count": 7,
   "metadata": {},
   "outputs": [],
   "source": [
    "from pyspark.sql import SparkSession\n",
    "from pyspark.sql.functions import *\n",
    "from pyspark.sql.types import *\n",
    "from pyspark.sql.window import *\n",
    "\n",
    "spark = SparkSession \\\n",
    "    .builder \\\n",
    "    .getOrCreate()"
   ]
  },
  {
   "attachments": {},
   "cell_type": "markdown",
   "metadata": {},
   "source": [
    "Create Dataframe"
   ]
  },
  {
   "cell_type": "code",
   "execution_count": 5,
   "metadata": {},
   "outputs": [
    {
     "name": "stdout",
     "output_type": "stream",
     "text": [
      "+-------+---------+-----+------+---+\n",
      "|empname|     dept|state|salary|age|\n",
      "+-------+---------+-----+------+---+\n",
      "|  James|    Sales|   NY|  9000| 34|\n",
      "| Alicia|    Sales|   NY|  8600| 56|\n",
      "| Robert|    Sales|   CA|  8100| 30|\n",
      "|   John|    Sales|   AZ|  8600| 30|\n",
      "|   Ross|    Sales|   AZ|  8100| 33|\n",
      "|  Khaty|    Sales|   AZ|  1000| 39|\n",
      "|   Lisa|  Finance|   CA|  9000| 24|\n",
      "|   Deja|  Finance|   CA|  9900| 40|\n",
      "|  Sugie|  Finance|   NY|  8300| 36|\n",
      "|    Ram|  Finance|   NY|  7900| 53|\n",
      "|  Sugie|  Finance|   NY|  8300| 36|\n",
      "|   Kyle|Marketing|   CA|  8000| 25|\n",
      "|   Reid|Marketing|   NY|  9100| 50|\n",
      "+-------+---------+-----+------+---+\n",
      "\n"
     ]
    }
   ],
   "source": [
    "data = ((\"James\",\"Sales\",\"NY\",9000,34),\n",
    "(\"Alicia\",\"Sales\",\"NY\",8600,56),\n",
    "(\"Robert\",\"Sales\",\"CA\",8100,30),\n",
    "(\"John\",\"Sales\",\"AZ\",8600,30),\n",
    "(\"Ross\",\"Sales\",\"AZ\",8100,33),\n",
    "(\"Khaty\",\"Sales\",\"AZ\",1000,39),\n",
    "(\"Lisa\",\"Finance\",\"CA\",9000,24),\n",
    "(\"Deja\",\"Finance\",\"CA\",9900,40),\n",
    "(\"Sugie\",\"Finance\",\"NY\",8300,36),\n",
    "(\"Ram\",\"Finance\",\"NY\",7900,53),\n",
    "(\"Sugie\",\"Finance\",\"NY\",8300,36),\n",
    "(\"Kyle\",\"Marketing\",\"CA\",8000,25),\n",
    "(\"Reid\",\"Marketing\",\"NY\",9100,50))\n",
    "\n",
    "schema=(\"empname\", \"dept\", \"state\",\"salary\",\"age\")\n",
    "df = spark.createDataFrame (data,schema =schema)\n",
    "df.show()"
   ]
  },
  {
   "attachments": {},
   "cell_type": "markdown",
   "metadata": {},
   "source": [
    "Ranking Window Functions\n",
    "- row_number() - Ranking sequencial.\n",
    "- rank() - Em caso de empate, deixa um gap na sequencia.\n",
    "- dense_rank() - Em caso de empate, não deixa gap na sequencia.\n",
    "- percent_rank()\n",
    "- ntile() - Ranking em grupos\n",
    "- cume_dist() - Distribuição acumulativa"
   ]
  },
  {
   "attachments": {},
   "cell_type": "markdown",
   "metadata": {},
   "source": [
    "row_number()"
   ]
  },
  {
   "cell_type": "code",
   "execution_count": 6,
   "metadata": {},
   "outputs": [
    {
     "name": "stdout",
     "output_type": "stream",
     "text": [
      "+---------+------+---------------+----+----------+------------+----------+-------------------+\n",
      "|     dept|salary|row_number_rank|rank|dense_rank|percent_rank|ntile_rank|     cume_dist_rank|\n",
      "+---------+------+---------------+----+----------+------------+----------+-------------------+\n",
      "|  Finance|  9900|              1|   1|         1|         0.0|         1|                0.2|\n",
      "|  Finance|  9000|              2|   2|         2|        0.25|         1|                0.4|\n",
      "|  Finance|  8300|              3|   3|         3|         0.5|         2|                0.8|\n",
      "|  Finance|  8300|              4|   3|         3|         0.5|         2|                0.8|\n",
      "|  Finance|  7900|              5|   5|         4|         1.0|         3|                1.0|\n",
      "|Marketing|  9100|              1|   1|         1|         0.0|         1|                0.5|\n",
      "|Marketing|  8000|              2|   2|         2|         1.0|         2|                1.0|\n",
      "|    Sales|  9000|              1|   1|         1|         0.0|         1|0.16666666666666666|\n",
      "|    Sales|  8600|              2|   2|         2|         0.2|         1|                0.5|\n",
      "|    Sales|  8600|              3|   2|         2|         0.2|         2|                0.5|\n",
      "|    Sales|  8100|              4|   4|         3|         0.6|         2| 0.8333333333333334|\n",
      "|    Sales|  8100|              5|   4|         3|         0.6|         3| 0.8333333333333334|\n",
      "|    Sales|  1000|              6|   6|         4|         1.0|         3|                1.0|\n",
      "+---------+------+---------------+----+----------+------------+----------+-------------------+\n",
      "\n"
     ]
    }
   ],
   "source": [
    "spec = Window.partitionBy(col('dept')).orderBy(col('salary').desc())\n",
    "\n",
    "df.select('dept', 'salary')\\\n",
    "    .withColumn(\"row_number_rank\", row_number().over(spec))\\\n",
    "    .withColumn(\"rank\", rank().over(spec))\\\n",
    "    .withColumn(\"dense_rank\", dense_rank().over(spec))\\\n",
    "    .withColumn(\"percent_rank\", percent_rank().over(spec))\\\n",
    "    .withColumn(\"ntile_rank\", ntile(3).over(spec))\\\n",
    "    .withColumn(\"cume_dist_rank\", cume_dist().over(spec))\\\n",
    "    .show()"
   ]
  },
  {
   "attachments": {},
   "cell_type": "markdown",
   "metadata": {},
   "source": [
    "Function lead(), lag()"
   ]
  },
  {
   "cell_type": "code",
   "execution_count": 17,
   "metadata": {},
   "outputs": [
    {
     "name": "stdout",
     "output_type": "stream",
     "text": [
      "+---------+------+---------------+----------------+\n",
      "|     dept|salary|lag_prev_salary|lead_prev_salary|\n",
      "+---------+------+---------------+----------------+\n",
      "|  Finance|  7900|              0|            8300|\n",
      "|  Finance|  8300|           7900|            9000|\n",
      "|  Finance|  8300|           8300|            9900|\n",
      "|  Finance|  9000|           8300|            9999|\n",
      "|  Finance|  9900|           9000|            9999|\n",
      "|Marketing|  8000|              0|            9999|\n",
      "|Marketing|  9100|           8000|            9999|\n",
      "|    Sales|  1000|              0|            8100|\n",
      "|    Sales|  8100|           1000|            8600|\n",
      "|    Sales|  8100|           8100|            8600|\n",
      "|    Sales|  8600|           8100|            9000|\n",
      "|    Sales|  8600|           8600|            9999|\n",
      "|    Sales|  9000|           8600|            9999|\n",
      "+---------+------+---------------+----------------+\n",
      "\n"
     ]
    }
   ],
   "source": [
    "spec = Window.partitionBy(col('dept')).orderBy(col('salary'))\n",
    "df.select(\"dept\", \"salary\")\\\n",
    "    .withColumn(\"lag_prev_salary\", lag(\"salary\", 1, 0).over(spec))\\\n",
    "    .withColumn(\"lead_prev_salary\", lead(\"salary\", 2, 9999).over(spec))\\\n",
    "    .show()"
   ]
  },
  {
   "attachments": {},
   "cell_type": "markdown",
   "metadata": {},
   "source": [
    "Aggregate Window Functions: </br>\n",
    "- avg\n",
    "- sum()\n",
    "- min()\n",
    "- max()\n",
    "- count()\n",
    "- first()\n",
    "- last()"
   ]
  },
  {
   "attachments": {},
   "cell_type": "markdown",
   "metadata": {},
   "source": [
    "sum()"
   ]
  },
  {
   "cell_type": "code",
   "execution_count": 32,
   "metadata": {},
   "outputs": [
    {
     "name": "stdout",
     "output_type": "stream",
     "text": [
      "+---------+------+----------------+----------------+----------------+------------------+\n",
      "|     dept|salary|sum_sal_per_dept|max_sal_per_dept|min_sal_per_dept|count_sal_per_dept|\n",
      "+---------+------+----------------+----------------+----------------+------------------+\n",
      "|  Finance|  9000|           43400|            9900|            7900|                 5|\n",
      "|  Finance|  9900|           43400|            9900|            7900|                 5|\n",
      "|  Finance|  8300|           43400|            9900|            7900|                 5|\n",
      "|  Finance|  7900|           43400|            9900|            7900|                 5|\n",
      "|  Finance|  8300|           43400|            9900|            7900|                 5|\n",
      "|Marketing|  8000|           17100|            9100|            8000|                 2|\n",
      "|Marketing|  9100|           17100|            9100|            8000|                 2|\n",
      "|    Sales|  9000|           43400|            9000|            1000|                 6|\n",
      "|    Sales|  8600|           43400|            9000|            1000|                 6|\n",
      "|    Sales|  8100|           43400|            9000|            1000|                 6|\n",
      "|    Sales|  8600|           43400|            9000|            1000|                 6|\n",
      "|    Sales|  8100|           43400|            9000|            1000|                 6|\n",
      "|    Sales|  1000|           43400|            9000|            1000|                 6|\n",
      "+---------+------+----------------+----------------+----------------+------------------+\n",
      "\n"
     ]
    }
   ],
   "source": [
    "spec = Window.partitionBy(\"dept\")\n",
    "\n",
    "df.select(\"dept\", \"salary\")\\\n",
    "    .withColumn(\"sum_sal_per_dept\", sum(\"salary\").over(spec))\\\n",
    "    .withColumn(\"max_sal_per_dept\", max(\"salary\").over(spec))\\\n",
    "    .withColumn(\"min_sal_per_dept\", min(\"salary\").over(spec))\\\n",
    "    .withColumn(\"count_sal_per_dept\", count(\"salary\").over(spec))\\\n",
    "    .show()"
   ]
  },
  {
   "attachments": {},
   "cell_type": "markdown",
   "metadata": {},
   "source": [
    "first()"
   ]
  },
  {
   "cell_type": "code",
   "execution_count": 27,
   "metadata": {},
   "outputs": [
    {
     "name": "stdout",
     "output_type": "stream",
     "text": [
      "+---------+------+-----------+----------+-----------------+\n",
      "|     dept|salary|high_salary|low_salary|       avg_salary|\n",
      "+---------+------+-----------+----------+-----------------+\n",
      "|  Finance|  9900|       9900|      9900|           9900.0|\n",
      "|  Finance|  9000|       9900|      9000|           9450.0|\n",
      "|  Finance|  8300|       9900|      8300|           8875.0|\n",
      "|  Finance|  8300|       9900|      8300|           8875.0|\n",
      "|  Finance|  7900|       9900|      7900|           8680.0|\n",
      "|Marketing|  9100|       9100|      9100|           9100.0|\n",
      "|Marketing|  8000|       9100|      8000|           8550.0|\n",
      "|    Sales|  9000|       9000|      9000|           9000.0|\n",
      "|    Sales|  8600|       9000|      8600|8733.333333333334|\n",
      "|    Sales|  8600|       9000|      8600|8733.333333333334|\n",
      "|    Sales|  8100|       9000|      8100|           8480.0|\n",
      "|    Sales|  8100|       9000|      8100|           8480.0|\n",
      "|    Sales|  1000|       9000|      1000|7233.333333333333|\n",
      "+---------+------+-----------+----------+-----------------+\n",
      "\n"
     ]
    }
   ],
   "source": [
    "spec = Window.partitionBy(\"dept\").orderBy(col(\"salary\").desc())\n",
    "\n",
    "df.select(\"dept\", \"salary\")\\\n",
    "    .withColumn(\"high_salary\",first(\"salary\").over(spec))\\\n",
    "    .withColumn(\"low_salary\",last(\"salary\").over(spec))\\\n",
    "    .withColumn(\"avg_salary\", avg(\"salary\").over(spec))\\\n",
    "    .show()"
   ]
  }
 ],
 "metadata": {
  "kernelspec": {
   "display_name": "Python 3",
   "language": "python",
   "name": "python3"
  },
  "language_info": {
   "codemirror_mode": {
    "name": "ipython",
    "version": 3
   },
   "file_extension": ".py",
   "mimetype": "text/x-python",
   "name": "python",
   "nbconvert_exporter": "python",
   "pygments_lexer": "ipython3",
   "version": "3.8.10"
  },
  "orig_nbformat": 4
 },
 "nbformat": 4,
 "nbformat_minor": 2
}
