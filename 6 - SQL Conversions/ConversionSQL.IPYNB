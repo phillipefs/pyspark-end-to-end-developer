{
 "cells": [
  {
   "cell_type": "code",
   "execution_count": 6,
   "metadata": {},
   "outputs": [],
   "source": [
    "from pyspark.sql import SparkSession\n",
    "from pyspark.sql.types import StructType, StructField, IntegerType, StringType, BooleanType, FloatType\n",
    "from pyspark.sql.functions import *\n",
    "import random\n",
    "from pyspark.sql import Row\n",
    "# Criando uma sessão Spark\n",
    "spark = SparkSession.builder.appName(\"SQL\").getOrCreate()\n",
    "\n",
    "# Criando DataFrame de clientes\n",
    "schema_clientes = StructType([\n",
    "    StructField('cliente_id', IntegerType(), True),\n",
    "    StructField('nome', StringType(), True),\n",
    "    StructField('idade', IntegerType(), True),\n",
    "    StructField('cidade', StringType(), True),\n",
    "    StructField('genero', StringType(), True)\n",
    "])\n",
    "\n",
    "clientes_data = [\n",
    "    (i, 'Cliente' + str(i), random.randint(18, 65),\n",
    "     random.choice(['São Paulo', 'Rio de Janeiro', 'Belo Horizonte', 'Brasília']),\n",
    "     random.choice(['M', 'F']))\n",
    "    for i in range(1, 1000000)\n",
    "]\n",
    "\n",
    "df_clientes = spark.createDataFrame(clientes_data, schema=schema_clientes)\n",
    "\n",
    "# Criando DataFrame de produtos\n",
    "schema_produtos = StructType([\n",
    "    StructField('produto_id', IntegerType(), True),\n",
    "    StructField('nome_produto', StringType(), True),\n",
    "    StructField('categoria', StringType(), True),\n",
    "    StructField('preco', FloatType(), True)\n",
    "   \n",
    "])\n",
    "\n",
    "produtos_data = [\n",
    "    Row(\n",
    "        produto_id=i,\n",
    "        nome_produto='Produto' + str(i),\n",
    "        categoria=random.choice(['Eletrônicos', 'Roupas', 'Alimentos', 'Acessórios']),\n",
    "        preco=random.uniform(10, 1000),  # Convertendo para float\n",
    "        disponibilidade=random.choice([True, False])\n",
    "    )\n",
    "    for i in range(1, 1000000)\n",
    "]\n",
    "\n",
    "# Criando o DataFrame de produtos\n",
    "df_produtos = spark.createDataFrame(produtos_data)\n",
    "\n",
    "# # Criando DataFrame de vendas\n",
    "schema_vendas = StructType([\n",
    "    StructField('venda_id', IntegerType(), True),\n",
    "    StructField('cliente_id', IntegerType(), True),\n",
    "    StructField('produto_id', IntegerType(), True),\n",
    "    StructField('quantidade', IntegerType(), True),\n",
    "    StructField('data_venda', StringType(), True)\n",
    "])\n",
    "\n",
    "vendas_data = [\n",
    "    (i, random.randint(1, 100), random.randint(1, 50), random.randint(1, 5), '2023-01-01')\n",
    "    for i in range(1, 1000000)\n",
    "]\n",
    "\n",
    "df_vendas = spark.createDataFrame(vendas_data, schema=schema_vendas)\n",
    "\n",
    "# Criando DataFrame de transações\n",
    "schema_transacoes = StructType([\n",
    "    StructField('transacao_id', IntegerType(), True),\n",
    "    StructField('produto_id', IntegerType(), True),\n",
    "    StructField('valor', FloatType(), True),\n",
    "    StructField('tipo', StringType(), True),\n",
    "    StructField('status', StringType(), True)\n",
    "])\n",
    "\n",
    "transacoes_data = [\n",
    "    (i, random.randint(1, 50), random.uniform(50, 500),\n",
    "     random.choice(['Débito', 'Crédito']), random.choice(['Aprovado', 'Pendente', 'Rejeitado']))\n",
    "    for i in range(1, 1000000)\n",
    "]\n",
    "\n",
    "df_transacoes = spark.createDataFrame(transacoes_data, schema=schema_transacoes)"
   ]
  },
  {
   "cell_type": "code",
   "execution_count": 2,
   "metadata": {},
   "outputs": [],
   "source": [
    "# Criando visões temporárias para os DataFrames\n",
    "df_clientes.createOrReplaceTempView(\"clientes_view\")\n",
    "df_vendas.createOrReplaceTempView(\"vendas_view\")\n",
    "df_produtos.createOrReplaceTempView(\"produtos_view\")\n",
    "df_transacoes.createOrReplaceTempView(\"transacoes_view\")"
   ]
  },
  {
   "cell_type": "code",
   "execution_count": 3,
   "metadata": {},
   "outputs": [],
   "source": [
    "query = \"\"\"\n",
    "    SELECT c.nome AS cliente,t.status,\n",
    "       COUNT(v.venda_id) AS total_vendas,\n",
    "       AVG(p.preco) AS media_preco,\n",
    "       COUNT(t.transacao_id) AS total_transacoes\n",
    "FROM clientes_view c\n",
    "INNER JOIN vendas_view v ON c.cliente_id = v.cliente_id\n",
    "LEFT JOIN produtos_view p ON v.produto_id = p.produto_id\n",
    "LEFT JOIN transacoes_view t ON p.produto_id = t.produto_id\n",
    "WHERE p.disponibilidade = True\n",
    "  AND (t.status NOT IN ('Aprovado') OR t.status IS NULL)\n",
    "GROUP BY c.nome,t.status\n",
    "HAVING AVG(p.preco) > 400\n",
    "   AND COUNT(t.transacao_id) > 3;\n",
    "\n",
    "\"\"\"\n",
    "result = spark.sql(query)\n",
    "result.show()\n"
   ]
  },
  {
   "cell_type": "code",
   "execution_count": 7,
   "metadata": {},
   "outputs": [],
   "source": [
    "df_parcial = df_clientes.alias(\"c\").join(df_vendas.alias(\"v\"), on=col(\"c.cliente_id\") == col(\"v.cliente_id\"))\\\n",
    "    .join(df_produtos.alias('p'), col(\"v.produto_id\")==col(\"p.produto_id\"))\\\n",
    "    .join(df_transacoes.alias('t'), col(\"p.produto_id\")==col(\"t.produto_id\"))\\\n",
    "    .filter((col(\"p.disponibilidade\")==True) & (~col(\"t.status\").isin([\"Aprovado\"])))\\\n",
    "    .select(\"c.nome\", \"v.venda_id\", \"p.preco\", \"t.transacao_id\", \"t.status\")"
   ]
  },
  {
   "cell_type": "code",
   "execution_count": 8,
   "metadata": {},
   "outputs": [
    {
     "name": "stderr",
     "output_type": "stream",
     "text": [
      "23/12/09 12:12:15 WARN TaskSetManager: Stage 20 contains a task of very large size (2220 KiB). The maximum recommended task size is 1000 KiB.\n",
      "23/12/09 12:12:15 WARN TaskSetManager: Stage 21 contains a task of very large size (1175 KiB). The maximum recommended task size is 1000 KiB.\n",
      "23/12/09 12:12:16 WARN TaskSetManager: Stage 22 contains a task of very large size (2705 KiB). The maximum recommended task size is 1000 KiB.\n",
      "23/12/09 12:12:16 WARN TaskSetManager: Stage 23 contains a task of very large size (1744 KiB). The maximum recommended task size is 1000 KiB.\n",
      "[Stage 32:====================================================>   (13 + 1) / 14]\r"
     ]
    },
    {
     "name": "stdout",
     "output_type": "stream",
     "text": [
      "+---------+---------+------------+-----------------+----------------+\n",
      "|     nome|   status|total_vendas|      media_preco|total_transacoes|\n",
      "+---------+---------+------------+-----------------+----------------+\n",
      "|Cliente82|Rejeitado|    35163571| 523.180852500736|        35163571|\n",
      "|Cliente99|Rejeitado|    35059123|524.9147684735557|        35059123|\n",
      "|Cliente78|Rejeitado|    34624150|522.3526077709688|        34624150|\n",
      "| Cliente3|Rejeitado|    35511268|523.8185485095164|        35511268|\n",
      "|Cliente76|Rejeitado|    35052701|524.2689257934233|        35052701|\n",
      "| Cliente4|Rejeitado|    35382635|513.3462237628655|        35382635|\n",
      "|Cliente82| Pendente|    35071692| 523.680556959179|        35071692|\n",
      "|Cliente48|Rejeitado|    35059161| 522.113491204983|        35059161|\n",
      "|Cliente94|Rejeitado|    35002647|522.2100555180605|        35002647|\n",
      "|Cliente19| Pendente|    33429130|523.7999881036228|        33429130|\n",
      "|Cliente61|Rejeitado|    34550154|522.0394626721434|        34550154|\n",
      "|Cliente89| Pendente|    34229906| 528.772422468819|        34229906|\n",
      "|Cliente89|Rejeitado|    34307653|528.3126426428381|        34307653|\n",
      "| Cliente6|Rejeitado|    34140181| 524.153400653434|        34140181|\n",
      "|Cliente49| Pendente|    34812097| 522.523137809447|        34812097|\n",
      "|Cliente51|Rejeitado|    34312870|518.2506700451407|        34312870|\n",
      "|Cliente71|Rejeitado|    34369731|525.5516392433996|        34369731|\n",
      "|Cliente14|Rejeitado|    35073154|519.8020864369169|        35073154|\n",
      "|Cliente83|Rejeitado|    34359283|521.5177340562676|        34359283|\n",
      "| Cliente1| Pendente|    34471541|520.3799898470297|        34471541|\n",
      "+---------+---------+------------+-----------------+----------------+\n",
      "only showing top 20 rows\n",
      "\n"
     ]
    },
    {
     "name": "stderr",
     "output_type": "stream",
     "text": [
      "                                                                                \r"
     ]
    }
   ],
   "source": [
    "df_parcial.groupBy('nome', 'status')\\\n",
    "    .agg(\n",
    "        count('venda_id').alias(\"total_vendas\"),\n",
    "        avg(\"preco\").alias(\"media_preco\"),\n",
    "        count(\"transacao_id\").alias(\"total_transacoes\")\n",
    "    )\\\n",
    "    .filter(\"total_transacoes > 3 and media_preco > 400\")\\\n",
    "    .show()"
   ]
  }
 ],
 "metadata": {
  "kernelspec": {
   "display_name": "Python 3",
   "language": "python",
   "name": "python3"
  },
  "language_info": {
   "codemirror_mode": {
    "name": "ipython",
    "version": 3
   },
   "file_extension": ".py",
   "mimetype": "text/x-python",
   "name": "python",
   "nbconvert_exporter": "python",
   "pygments_lexer": "ipython3",
   "version": "3.8.10"
  }
 },
 "nbformat": 4,
 "nbformat_minor": 2
}
