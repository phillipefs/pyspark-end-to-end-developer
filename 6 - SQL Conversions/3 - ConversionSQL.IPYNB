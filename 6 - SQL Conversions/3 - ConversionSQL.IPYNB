{
 "cells": [
  {
   "cell_type": "code",
   "execution_count": 18,
   "metadata": {},
   "outputs": [],
   "source": [
    "from pyspark.sql import SparkSession\n",
    "from  pyspark.sql.functions import *\n",
    "import random\n",
    "\n",
    "# Criando uma SparkSession\n",
    "spark = SparkSession.builder.appName(\"Exemplo\").getOrCreate()\n",
    "\n",
    "# Gerando dados simulados para clientes\n",
    "num_clientes = 1000\n",
    "clientes_data = [\n",
    "    (i, f\"Cliente {i}\", f\"Cidade {random.randint(1, 10)}\", random.choice([\"Masculino\", \"Feminino\"]), random.randint(18, 80))\n",
    "    for i in range(1, num_clientes + 1)\n",
    "]\n",
    "\n",
    "# Criando o DataFrame de clientes\n",
    "df_clientes = spark.createDataFrame(clientes_data, [\"cliente_id\", \"nome\", \"cidade\", \"genero\", \"idade\"])\n",
    "\n",
    "# Gerando dados simulados para creditos\n",
    "num_creditos = 5000\n",
    "creditos_data = [\n",
    "    (i, random.randint(1, num_creditos), random.uniform(100, 5000), random.choice([\"A\", \"B\", \"C\"]), random.randint(1, 12))\n",
    "    for i in range(1, num_creditos + 1)\n",
    "]\n",
    "\n",
    "# Criando o DataFrame de creditos\n",
    "df_creditos = spark.createDataFrame(creditos_data, [\"credito_id\", \"cliente_id\", \"valor_credito\", \"tipo_credito\", \"mes\"])\n",
    "\n",
    "# Gerando dados simulados para contas\n",
    "df_contas = spark.createDataFrame([\n",
    "    (i, random.randint(1, num_clientes), random.uniform(1000, 10000))\n",
    "    for i in range(1, num_clientes + 1)\n",
    "], [\"conta_id\", \"cliente_id\", \"saldo\"])\n",
    "\n",
    "# Gerando dados simulados para transacoes\n",
    "df_transacoes = spark.createDataFrame([\n",
    "    (i, random.randint(1, num_clientes), random.randint(1, num_clientes))\n",
    "    for i in range(1, num_creditos + 1)\n",
    "], [\"transacao_id\", \"conta_id\", \"cliente_id\"])\n",
    "\n",
    "# Gerando dados simulados para pagamentos\n",
    "df_pagamentos = spark.createDataFrame([\n",
    "    (i, random.randint(1, num_creditos), random.uniform(10, 500))\n",
    "    for i in range(1, num_creditos + 1)\n",
    "], [\"pagamento_id\", \"transacao_id\", \"valor_pago\"])\n"
   ]
  },
  {
   "cell_type": "code",
   "execution_count": 19,
   "metadata": {},
   "outputs": [],
   "source": [
    "df_clientes.createOrReplaceTempView(\"clientes\")\n",
    "df_creditos.createOrReplaceTempView(\"creditos\")\n",
    "df_contas.createOrReplaceTempView(\"contas\")\n",
    "df_transacoes.createOrReplaceTempView(\"transacoes\")\n",
    "df_pagamentos.createOrReplaceTempView(\"pagamentos\")"
   ]
  },
  {
   "cell_type": "code",
   "execution_count": 62,
   "metadata": {},
   "outputs": [
    {
     "name": "stdout",
     "output_type": "stream",
     "text": [
      "+-----------+--------+------------------+------------------+---------------+--------------+------------------+\n",
      "|       nome|conta_id|             saldo|     total_credito|numero_creditos|  status_conta|        total_pago|\n",
      "+-----------+--------+------------------+------------------+---------------+--------------+------------------+\n",
      "|Cliente 584|     798| 5143.314872215231|10353.713722927709|              4|Saldo Negativo|3335.1251336939213|\n",
      "|Cliente 560|     250| 7415.003460306226|14973.319295762205|              4|Saldo Negativo|1413.3086499248807|\n",
      "|Cliente 283|     878|2160.2019823070873|13631.995883266703|              3|Saldo Negativo| 1380.078137660024|\n",
      "+-----------+--------+------------------+------------------+---------------+--------------+------------------+\n",
      "only showing top 3 rows\n",
      "\n"
     ]
    }
   ],
   "source": [
    "resultado = spark.sql(\"\"\"\n",
    "WITH credit_summary AS (\n",
    "    SELECT\n",
    "        c.cliente_id,\n",
    "        SUM(cr.valor_credito) AS total_credito,\n",
    "        COUNT(cr.credito_id) AS numero_creditos\n",
    "    FROM\n",
    "        creditos cr\n",
    "    JOIN clientes c ON cr.cliente_id = c.cliente_id\n",
    "    GROUP BY\n",
    "        c.cliente_id\n",
    "    HAVING\n",
    "        SUM(cr.valor_credito) > 10000\n",
    ")\n",
    "\n",
    "SELECT\n",
    "    cl.nome,\n",
    "    ct.conta_id,\n",
    "    ct.saldo,\n",
    "    cs.total_credito,\n",
    "    cs.numero_creditos,\n",
    "    CASE\n",
    "        WHEN ct.saldo - cs.total_credito < 0 THEN 'Saldo Negativo'\n",
    "        ELSE 'Saldo Positivo'\n",
    "    END AS status_conta,\n",
    "    SUM(p.valor_pago) AS total_pago\n",
    "FROM\n",
    "    clientes cl\n",
    "JOIN contas ct ON cl.cliente_id = ct.cliente_id\n",
    "JOIN credit_summary cs ON cl.cliente_id = cs.cliente_id\n",
    "JOIN transacoes tr ON ct.conta_id = tr.conta_id\n",
    "JOIN pagamentos p ON tr.transacao_id = p.transacao_id\n",
    "--WHERE\n",
    "   -- cl.cliente_id IN (SELECT cliente_id FROM credit_summary)\n",
    "GROUP BY\n",
    "    cl.nome, ct.conta_id, ct.saldo, cs.total_credito, cs.numero_creditos\n",
    "ORDER BY SUM(p.valor_pago) DESC\n",
    "\"\"\")\n",
    "\n",
    "# Exibindo o resultado da consulta\n",
    "resultado.show(3)"
   ]
  },
  {
   "cell_type": "code",
   "execution_count": 30,
   "metadata": {},
   "outputs": [],
   "source": [
    "df_credit_summary = df_creditos.alias(\"cr\")\\\n",
    "    .join(df_clientes.alias(\"c\"), \"cliente_id\", \"inner\")\\\n",
    "    .groupBy(\"cliente_id\")\\\n",
    "    .agg(sum(\"valor_credito\").alias(\"total_credito\"), count(\"credito_id\").alias(\"numero_creditos\"))\\\n",
    "    .filter(\"total_credito > 10000\")"
   ]
  },
  {
   "cell_type": "code",
   "execution_count": 66,
   "metadata": {},
   "outputs": [
    {
     "name": "stdout",
     "output_type": "stream",
     "text": [
      "+-----------+--------+------------------+------------------+---------------+--------------+------------------+\n",
      "|       nome|conta_id|             saldo|     total_credito|numero_creditos|  status_conta|        total_pago|\n",
      "+-----------+--------+------------------+------------------+---------------+--------------+------------------+\n",
      "|Cliente 584|     798| 5143.314872215231|10353.713722927709|              4|Saldo Negativo|3335.1251336939217|\n",
      "|Cliente 560|     250| 7415.003460306226|14973.319295762205|              4|Saldo Negativo|1413.3086499248807|\n",
      "|Cliente 283|     878|2160.2019823070873|13631.995883266703|              3|Saldo Negativo| 1380.078137660024|\n",
      "+-----------+--------+------------------+------------------+---------------+--------------+------------------+\n",
      "only showing top 3 rows\n",
      "\n"
     ]
    }
   ],
   "source": [
    "df_clientes.alias(\"cl\")\\\n",
    "    .join(df_contas.alias(\"ct\"), \"cliente_id\")\\\n",
    "    .join(df_credit_summary.alias(\"cs\"), \"cliente_id\")\\\n",
    "    .join(df_transacoes.alias(\"tr\"), \"conta_id\")\\\n",
    "    .join(df_pagamentos.alias(\"p\"), \"transacao_id\")\\\n",
    "    .groupBy(\"cl.nome\", \"ct.conta_id\", \"ct.saldo\", \"cs.total_credito\", \"cs.numero_creditos\")\\\n",
    "    .agg(sum(\"p.valor_pago\").alias(\"total_pago\"))\\\n",
    "    .select(\n",
    "        \"nome\",\n",
    "        \"conta_id\",\n",
    "        \"saldo\",\n",
    "        \"total_credito\",\n",
    "        \"numero_creditos\",\n",
    "        when(\n",
    "            col(\"saldo\") - col(\"total_credito\") < 0, \"Saldo Negativo\"\n",
    "        ).otherwise(\"Saldo Positivo\").alias(\"status_conta\"),\n",
    "        \"total_pago\"\n",
    "    )\\\n",
    "    .orderBy(col(\"total_pago\").desc())\\\n",
    "    .show(3)"
   ]
  }
 ],
 "metadata": {
  "kernelspec": {
   "display_name": "Python 3",
   "language": "python",
   "name": "python3"
  },
  "language_info": {
   "codemirror_mode": {
    "name": "ipython",
    "version": 3
   },
   "file_extension": ".py",
   "mimetype": "text/x-python",
   "name": "python",
   "nbconvert_exporter": "python",
   "pygments_lexer": "ipython3",
   "version": "3.8.10"
  }
 },
 "nbformat": 4,
 "nbformat_minor": 2
}
