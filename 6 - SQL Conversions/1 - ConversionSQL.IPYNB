{
 "cells": [
  {
   "cell_type": "code",
   "execution_count": 1,
   "metadata": {},
   "outputs": [
    {
     "name": "stderr",
     "output_type": "stream",
     "text": [
      "23/12/24 16:36:53 WARN Utils: Your hostname, DESKTOP-0KANSSR resolves to a loopback address: 127.0.1.1; using 192.168.189.146 instead (on interface eth0)\n",
      "23/12/24 16:36:53 WARN Utils: Set SPARK_LOCAL_IP if you need to bind to another address\n",
      "23/12/24 16:36:55 WARN NativeCodeLoader: Unable to load native-hadoop library for your platform... using builtin-java classes where applicable\n",
      "23/12/24 16:36:56 WARN Utils: Service 'SparkUI' could not bind on port 4040. Attempting port 4041.\n"
     ]
    }
   ],
   "source": [
    "from pyspark.sql import SparkSession\n",
    "from pyspark.sql.types import StructType, StructField, IntegerType, StringType, BooleanType, FloatType\n",
    "from pyspark.sql.functions import *\n",
    "import random\n",
    "from pyspark.sql import Row\n",
    "# Criando uma sessão Spark\n",
    "spark = SparkSession.builder \\\n",
    "    .appName(\"SQL\") \\\n",
    "    .config(\"spark.executor.instances\", \"2\") \\\n",
    "    .config(\"spark.executor.memory\", \"3g\") \\\n",
    "    .config(\"spark.driver.memory\", \"3g\")\\\n",
    "    .getOrCreate()\n",
    "\n",
    "# Criando DataFrame de clientes\n",
    "schema_clientes = StructType([\n",
    "    StructField('cliente_id', IntegerType(), True),\n",
    "    StructField('nome', StringType(), True),\n",
    "    StructField('idade', IntegerType(), True),\n",
    "    StructField('cidade', StringType(), True),\n",
    "    StructField('genero', StringType(), True)\n",
    "])\n",
    "\n",
    "clientes_data = [\n",
    "    (i, 'Cliente' + str(i), random.randint(18, 65),\n",
    "     random.choice(['São Paulo', 'Rio de Janeiro', 'Belo Horizonte', 'Brasília']),\n",
    "     random.choice(['M', 'F']))\n",
    "    for i in range(1, 1000)\n",
    "]\n",
    "\n",
    "df_clientes = spark.createDataFrame(clientes_data, schema=schema_clientes)\n",
    "\n",
    "# Criando DataFrame de produtos\n",
    "schema_produtos = StructType([\n",
    "    StructField('produto_id', IntegerType(), True),\n",
    "    StructField('nome_produto', StringType(), True),\n",
    "    StructField('categoria', StringType(), True),\n",
    "    StructField('preco', FloatType(), True)\n",
    "   \n",
    "])\n",
    "\n",
    "produtos_data = [\n",
    "    Row(\n",
    "        produto_id=i,\n",
    "        nome_produto='Produto' + str(i),\n",
    "        categoria=random.choice(['Eletrônicos', 'Roupas', 'Alimentos', 'Acessórios']),\n",
    "        preco=random.uniform(10, 1000),  # Convertendo para float\n",
    "        disponibilidade=random.choice([True, False])\n",
    "    )\n",
    "    for i in range(1, 1000)\n",
    "]\n",
    "\n",
    "# Criando o DataFrame de produtos\n",
    "df_produtos = spark.createDataFrame(produtos_data)\n",
    "\n",
    "# # Criando DataFrame de vendas\n",
    "schema_vendas = StructType([\n",
    "    StructField('venda_id', IntegerType(), True),\n",
    "    StructField('cliente_id', IntegerType(), True),\n",
    "    StructField('produto_id', IntegerType(), True),\n",
    "    StructField('quantidade', IntegerType(), True),\n",
    "    StructField('data_venda', StringType(), True)\n",
    "])\n",
    "\n",
    "vendas_data = [\n",
    "    (i, random.randint(1, 100), random.randint(1, 50), random.randint(1, 5), '2023-01-01')\n",
    "    for i in range(1, 1000)\n",
    "]\n",
    "\n",
    "df_vendas = spark.createDataFrame(vendas_data, schema=schema_vendas)\n",
    "\n",
    "# Criando DataFrame de transações\n",
    "schema_transacoes = StructType([\n",
    "    StructField('transacao_id', IntegerType(), True),\n",
    "    StructField('produto_id', IntegerType(), True),\n",
    "    StructField('valor', FloatType(), True),\n",
    "    StructField('tipo', StringType(), True),\n",
    "    StructField('status', StringType(), True)\n",
    "])\n",
    "\n",
    "transacoes_data = [\n",
    "    (i, random.randint(1, 50), random.uniform(50, 500),\n",
    "     random.choice(['Débito', 'Crédito']), random.choice(['Aprovado', 'Pendente', 'Rejeitado']))\n",
    "    for i in range(1, 1000)\n",
    "]\n",
    "\n",
    "df_transacoes = spark.createDataFrame(transacoes_data, schema=schema_transacoes)"
   ]
  },
  {
   "cell_type": "code",
   "execution_count": 2,
   "metadata": {},
   "outputs": [],
   "source": [
    "# Criando visões temporárias para os DataFrames\n",
    "df_clientes.createOrReplaceTempView(\"clientes_view\")\n",
    "df_vendas.createOrReplaceTempView(\"vendas_view\")\n",
    "df_produtos.createOrReplaceTempView(\"produtos_view\")\n",
    "df_transacoes.createOrReplaceTempView(\"transacoes_view\")"
   ]
  },
  {
   "cell_type": "code",
   "execution_count": 3,
   "metadata": {},
   "outputs": [],
   "source": [
    "query = \"\"\"\n",
    "    SELECT c.nome AS cliente,t.status,\n",
    "       COUNT(v.venda_id) AS total_vendas,\n",
    "       AVG(p.preco) AS media_preco,\n",
    "       COUNT(t.transacao_id) AS total_transacoes\n",
    "FROM clientes_view c\n",
    "INNER JOIN vendas_view v ON c.cliente_id = v.cliente_id\n",
    "LEFT JOIN produtos_view p ON v.produto_id = p.produto_id\n",
    "LEFT JOIN transacoes_view t ON p.produto_id = t.produto_id\n",
    "WHERE p.disponibilidade = True\n",
    "  AND (t.status NOT IN ('Aprovado') OR t.status IS NULL)\n",
    "GROUP BY c.nome,t.status\n",
    "HAVING AVG(p.preco) > 400\n",
    "   AND COUNT(t.transacao_id) > 3;\n",
    "\n",
    "\"\"\"\n",
    "result = spark.sql(query)\n",
    "result.show()\n"
   ]
  },
  {
   "cell_type": "code",
   "execution_count": 7,
   "metadata": {},
   "outputs": [],
   "source": [
    "df_parcial = df_clientes.alias(\"c\").join(df_vendas.alias(\"v\"), on=col(\"c.cliente_id\") == col(\"v.cliente_id\"))\\\n",
    "    .join(df_produtos.alias('p'), col(\"v.produto_id\")==col(\"p.produto_id\"))\\\n",
    "    .join(df_transacoes.alias('t'), col(\"p.produto_id\")==col(\"t.produto_id\"))\\\n",
    "    .filter((col(\"p.disponibilidade\")==True) & (~col(\"t.status\").isin([\"Aprovado\"])))\\\n",
    "    .select(\"c.nome\", \"v.venda_id\", \"p.preco\", \"t.transacao_id\", \"t.status\")"
   ]
  },
  {
   "cell_type": "code",
   "execution_count": 8,
   "metadata": {},
   "outputs": [
    {
     "name": "stderr",
     "output_type": "stream",
     "text": [
      "23/12/09 12:12:15 WARN TaskSetManager: Stage 20 contains a task of very large size (2220 KiB). The maximum recommended task size is 1000 KiB.\n",
      "23/12/09 12:12:15 WARN TaskSetManager: Stage 21 contains a task of very large size (1175 KiB). The maximum recommended task size is 1000 KiB.\n",
      "23/12/09 12:12:16 WARN TaskSetManager: Stage 22 contains a task of very large size (2705 KiB). The maximum recommended task size is 1000 KiB.\n",
      "23/12/09 12:12:16 WARN TaskSetManager: Stage 23 contains a task of very large size (1744 KiB). The maximum recommended task size is 1000 KiB.\n",
      "[Stage 32:====================================================>   (13 + 1) / 14]\r"
     ]
    },
    {
     "name": "stdout",
     "output_type": "stream",
     "text": [
      "+---------+---------+------------+-----------------+----------------+\n",
      "|     nome|   status|total_vendas|      media_preco|total_transacoes|\n",
      "+---------+---------+------------+-----------------+----------------+\n",
      "|Cliente82|Rejeitado|    35163571| 523.180852500736|        35163571|\n",
      "|Cliente99|Rejeitado|    35059123|524.9147684735557|        35059123|\n",
      "|Cliente78|Rejeitado|    34624150|522.3526077709688|        34624150|\n",
      "| Cliente3|Rejeitado|    35511268|523.8185485095164|        35511268|\n",
      "|Cliente76|Rejeitado|    35052701|524.2689257934233|        35052701|\n",
      "| Cliente4|Rejeitado|    35382635|513.3462237628655|        35382635|\n",
      "|Cliente82| Pendente|    35071692| 523.680556959179|        35071692|\n",
      "|Cliente48|Rejeitado|    35059161| 522.113491204983|        35059161|\n",
      "|Cliente94|Rejeitado|    35002647|522.2100555180605|        35002647|\n",
      "|Cliente19| Pendente|    33429130|523.7999881036228|        33429130|\n",
      "|Cliente61|Rejeitado|    34550154|522.0394626721434|        34550154|\n",
      "|Cliente89| Pendente|    34229906| 528.772422468819|        34229906|\n",
      "|Cliente89|Rejeitado|    34307653|528.3126426428381|        34307653|\n",
      "| Cliente6|Rejeitado|    34140181| 524.153400653434|        34140181|\n",
      "|Cliente49| Pendente|    34812097| 522.523137809447|        34812097|\n",
      "|Cliente51|Rejeitado|    34312870|518.2506700451407|        34312870|\n",
      "|Cliente71|Rejeitado|    34369731|525.5516392433996|        34369731|\n",
      "|Cliente14|Rejeitado|    35073154|519.8020864369169|        35073154|\n",
      "|Cliente83|Rejeitado|    34359283|521.5177340562676|        34359283|\n",
      "| Cliente1| Pendente|    34471541|520.3799898470297|        34471541|\n",
      "+---------+---------+------------+-----------------+----------------+\n",
      "only showing top 20 rows\n",
      "\n"
     ]
    },
    {
     "name": "stderr",
     "output_type": "stream",
     "text": [
      "                                                                                \r"
     ]
    }
   ],
   "source": [
    "df_parcial.groupBy('nome', 'status')\\\n",
    "    .agg(\n",
    "        count('venda_id').alias(\"total_vendas\"),\n",
    "        avg(\"preco\").alias(\"media_preco\"),\n",
    "        count(\"transacao_id\").alias(\"total_transacoes\")\n",
    "    )\\\n",
    "    .filter(\"total_transacoes > 3 and media_preco > 400\")\\\n",
    "    .show()"
   ]
  },
  {
   "cell_type": "code",
   "execution_count": 5,
   "metadata": {},
   "outputs": [
    {
     "name": "stdout",
     "output_type": "stream",
     "text": [
      "== Physical Plan ==\n",
      "AdaptiveSparkPlan isFinalPlan=false\n",
      "+- BroadcastHashJoin [produto_id#10L], [cast(produto_id#31 as bigint)], Inner, BuildRight, false\n",
      "   :- BroadcastHashJoin [cast(produto_id#22 as bigint)], [produto_id#10L], Inner, BuildRight, false\n",
      "   :  :- BroadcastHashJoin [cliente_id#0], [cliente_id#21], Inner, BuildRight, false\n",
      "   :  :  :- Filter isnotnull(cliente_id#0)\n",
      "   :  :  :  +- Scan ExistingRDD[cliente_id#0,nome#1,idade#2,cidade#3,genero#4]\n",
      "   :  :  +- BroadcastExchange HashedRelationBroadcastMode(List(cast(input[1, int, false] as bigint)),false), [id=#651]\n",
      "   :  :     +- Filter (isnotnull(cliente_id#21) AND isnotnull(produto_id#22))\n",
      "   :  :        +- Scan ExistingRDD[venda_id#20,cliente_id#21,produto_id#22,quantidade#23,data_venda#24]\n",
      "   :  +- BroadcastExchange HashedRelationBroadcastMode(List(input[0, bigint, false]),false), [id=#654]\n",
      "   :     +- Filter isnotnull(produto_id#10L)\n",
      "   :        +- Scan ExistingRDD[produto_id#10L,nome_produto#11,categoria#12,preco#13,disponibilidade#14]\n",
      "   +- BroadcastExchange HashedRelationBroadcastMode(List(cast(input[1, int, false] as bigint)),false), [id=#657]\n",
      "      +- Filter isnotnull(produto_id#31)\n",
      "         +- Scan ExistingRDD[transacao_id#30,produto_id#31,valor#32,tipo#33,status#34]\n",
      "\n",
      "\n"
     ]
    }
   ],
   "source": [
    "df_clientes.alias(\"c\")\\\n",
    "    .join(broadcast(df_vendas.alias(\"v\")), on=col(\"c.cliente_id\") == col(\"v.cliente_id\"))\\\n",
    "    .join(broadcast(df_produtos.alias('p')), col(\"v.produto_id\") == col(\"p.produto_id\"))\\\n",
    "    .join(broadcast(df_transacoes.alias('t')), col(\"p.produto_id\") == col(\"t.produto_id\"))\\\n",
    "    .explain()"
   ]
  },
  {
   "cell_type": "code",
   "execution_count": 6,
   "metadata": {},
   "outputs": [
    {
     "name": "stdout",
     "output_type": "stream",
     "text": [
      "+----------+---------+-----+--------+------+--------+----------+----------+----------+----------+----------+------------+----------+-----------------+---------------+------------+----------+---------+-------+---------+\n",
      "|cliente_id|     nome|idade|  cidade|genero|venda_id|cliente_id|produto_id|quantidade|data_venda|produto_id|nome_produto| categoria|            preco|disponibilidade|transacao_id|produto_id|    valor|   tipo|   status|\n",
      "+----------+---------+-----+--------+------+--------+----------+----------+----------+----------+----------+------------+----------+-----------------+---------------+------------+----------+---------+-------+---------+\n",
      "|        53|Cliente53|   57|Brasília|     M|       7|        53|        26|         3|2023-01-01|        26|   Produto26|Acessórios|796.4301535017191|          false|         908|        26|405.86133|Crédito| Pendente|\n",
      "|        53|Cliente53|   57|Brasília|     M|       7|        53|        26|         3|2023-01-01|        26|   Produto26|Acessórios|796.4301535017191|          false|         881|        26|385.99457| Débito|Rejeitado|\n",
      "|        53|Cliente53|   57|Brasília|     M|       7|        53|        26|         3|2023-01-01|        26|   Produto26|Acessórios|796.4301535017191|          false|         850|        26|225.33994| Débito| Pendente|\n",
      "|        53|Cliente53|   57|Brasília|     M|       7|        53|        26|         3|2023-01-01|        26|   Produto26|Acessórios|796.4301535017191|          false|         837|        26|205.99525| Débito|Rejeitado|\n",
      "|        53|Cliente53|   57|Brasília|     M|       7|        53|        26|         3|2023-01-01|        26|   Produto26|Acessórios|796.4301535017191|          false|         781|        26|370.26428|Crédito| Aprovado|\n",
      "|        53|Cliente53|   57|Brasília|     M|       7|        53|        26|         3|2023-01-01|        26|   Produto26|Acessórios|796.4301535017191|          false|         694|        26|  258.421| Débito| Pendente|\n",
      "|        53|Cliente53|   57|Brasília|     M|       7|        53|        26|         3|2023-01-01|        26|   Produto26|Acessórios|796.4301535017191|          false|         629|        26|386.66586|Crédito| Aprovado|\n",
      "|        53|Cliente53|   57|Brasília|     M|       7|        53|        26|         3|2023-01-01|        26|   Produto26|Acessórios|796.4301535017191|          false|         505|        26|336.24814| Débito|Rejeitado|\n",
      "|        53|Cliente53|   57|Brasília|     M|       7|        53|        26|         3|2023-01-01|        26|   Produto26|Acessórios|796.4301535017191|          false|         435|        26| 282.5188|Crédito| Aprovado|\n",
      "|        53|Cliente53|   57|Brasília|     M|       7|        53|        26|         3|2023-01-01|        26|   Produto26|Acessórios|796.4301535017191|          false|         369|        26|359.46063|Crédito| Aprovado|\n",
      "|        53|Cliente53|   57|Brasília|     M|       7|        53|        26|         3|2023-01-01|        26|   Produto26|Acessórios|796.4301535017191|          false|         296|        26| 267.1282| Débito|Rejeitado|\n",
      "|        53|Cliente53|   57|Brasília|     M|       7|        53|        26|         3|2023-01-01|        26|   Produto26|Acessórios|796.4301535017191|          false|         217|        26|311.86758| Débito| Aprovado|\n",
      "|        53|Cliente53|   57|Brasília|     M|       7|        53|        26|         3|2023-01-01|        26|   Produto26|Acessórios|796.4301535017191|          false|          52|        26| 491.2336| Débito| Pendente|\n",
      "|        53|Cliente53|   57|Brasília|     M|      42|        53|         6|         2|2023-01-01|         6|    Produto6|Acessórios|350.2279932561627|           true|         923|         6| 426.6557|Crédito| Aprovado|\n",
      "|        53|Cliente53|   57|Brasília|     M|      42|        53|         6|         2|2023-01-01|         6|    Produto6|Acessórios|350.2279932561627|           true|         904|         6|  274.607|Crédito| Aprovado|\n",
      "|        53|Cliente53|   57|Brasília|     M|      42|        53|         6|         2|2023-01-01|         6|    Produto6|Acessórios|350.2279932561627|           true|         902|         6|121.31295|Crédito| Aprovado|\n",
      "|        53|Cliente53|   57|Brasília|     M|      42|        53|         6|         2|2023-01-01|         6|    Produto6|Acessórios|350.2279932561627|           true|         860|         6| 351.5376|Crédito| Aprovado|\n",
      "|        53|Cliente53|   57|Brasília|     M|      42|        53|         6|         2|2023-01-01|         6|    Produto6|Acessórios|350.2279932561627|           true|         787|         6|280.51053| Débito| Pendente|\n",
      "|        53|Cliente53|   57|Brasília|     M|      42|        53|         6|         2|2023-01-01|         6|    Produto6|Acessórios|350.2279932561627|           true|         609|         6| 87.43203|Crédito|Rejeitado|\n",
      "|        53|Cliente53|   57|Brasília|     M|      42|        53|         6|         2|2023-01-01|         6|    Produto6|Acessórios|350.2279932561627|           true|         555|         6|324.13025| Débito| Aprovado|\n",
      "+----------+---------+-----+--------+------+--------+----------+----------+----------+----------+----------+------------+----------+-----------------+---------------+------------+----------+---------+-------+---------+\n",
      "only showing top 20 rows\n",
      "\n"
     ]
    }
   ],
   "source": [
    "df_clientes.alias(\"c\")\\\n",
    "    .join(df_vendas.alias(\"v\"), on=col(\"c.cliente_id\") == col(\"v.cliente_id\"))\\\n",
    "    .join(df_produtos.alias('p'), col(\"v.produto_id\") == col(\"p.produto_id\"))\\\n",
    "    .join(df_transacoes.alias('t'), col(\"p.produto_id\") == col(\"t.produto_id\"))\\\n",
    "    .show()"
   ]
  }
 ],
 "metadata": {
  "kernelspec": {
   "display_name": "Python 3",
   "language": "python",
   "name": "python3"
  },
  "language_info": {
   "codemirror_mode": {
    "name": "ipython",
    "version": 3
   },
   "file_extension": ".py",
   "mimetype": "text/x-python",
   "name": "python",
   "nbconvert_exporter": "python",
   "pygments_lexer": "ipython3",
   "version": "3.8.10"
  }
 },
 "nbformat": 4,
 "nbformat_minor": 2
}
