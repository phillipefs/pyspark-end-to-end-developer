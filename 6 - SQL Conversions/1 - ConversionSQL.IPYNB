{
 "cells": [
  {
   "cell_type": "code",
   "execution_count": 1,
   "metadata": {},
   "outputs": [
    {
     "name": "stderr",
     "output_type": "stream",
     "text": [
      "23/12/24 16:21:26 WARN Utils: Your hostname, DESKTOP-0KANSSR resolves to a loopback address: 127.0.1.1; using 192.168.189.146 instead (on interface eth0)\n",
      "23/12/24 16:21:26 WARN Utils: Set SPARK_LOCAL_IP if you need to bind to another address\n",
      "23/12/24 16:21:27 WARN NativeCodeLoader: Unable to load native-hadoop library for your platform... using builtin-java classes where applicable\n"
     ]
    }
   ],
   "source": [
    "from pyspark.sql import SparkSession\n",
    "from pyspark.sql.types import StructType, StructField, IntegerType, StringType, BooleanType, FloatType\n",
    "from pyspark.sql.functions import *\n",
    "import random\n",
    "from pyspark.sql import Row\n",
    "# Criando uma sessão Spark\n",
    "spark = SparkSession.builder \\\n",
    "    .appName(\"SQL\") \\\n",
    "    .config(\"spark.executor.instances\", \"2\") \\\n",
    "    .config(\"spark.executor.memory\", \"3g\") \\\n",
    "    .config(\"spark.driver.memory\", \"3g\")\\\n",
    "    .getOrCreate()\n",
    "\n",
    "# Criando DataFrame de clientes\n",
    "schema_clientes = StructType([\n",
    "    StructField('cliente_id', IntegerType(), True),\n",
    "    StructField('nome', StringType(), True),\n",
    "    StructField('idade', IntegerType(), True),\n",
    "    StructField('cidade', StringType(), True),\n",
    "    StructField('genero', StringType(), True)\n",
    "])\n",
    "\n",
    "clientes_data = [\n",
    "    (i, 'Cliente' + str(i), random.randint(18, 65),\n",
    "     random.choice(['São Paulo', 'Rio de Janeiro', 'Belo Horizonte', 'Brasília']),\n",
    "     random.choice(['M', 'F']))\n",
    "    for i in range(1, 3000000)\n",
    "]\n",
    "\n",
    "df_clientes = spark.createDataFrame(clientes_data, schema=schema_clientes)\n",
    "\n",
    "# Criando DataFrame de produtos\n",
    "schema_produtos = StructType([\n",
    "    StructField('produto_id', IntegerType(), True),\n",
    "    StructField('nome_produto', StringType(), True),\n",
    "    StructField('categoria', StringType(), True),\n",
    "    StructField('preco', FloatType(), True)\n",
    "   \n",
    "])\n",
    "\n",
    "produtos_data = [\n",
    "    Row(\n",
    "        produto_id=i,\n",
    "        nome_produto='Produto' + str(i),\n",
    "        categoria=random.choice(['Eletrônicos', 'Roupas', 'Alimentos', 'Acessórios']),\n",
    "        preco=random.uniform(10, 1000),  # Convertendo para float\n",
    "        disponibilidade=random.choice([True, False])\n",
    "    )\n",
    "    for i in range(1, 3000000)\n",
    "]\n",
    "\n",
    "# Criando o DataFrame de produtos\n",
    "df_produtos = spark.createDataFrame(produtos_data)\n",
    "\n",
    "# # Criando DataFrame de vendas\n",
    "schema_vendas = StructType([\n",
    "    StructField('venda_id', IntegerType(), True),\n",
    "    StructField('cliente_id', IntegerType(), True),\n",
    "    StructField('produto_id', IntegerType(), True),\n",
    "    StructField('quantidade', IntegerType(), True),\n",
    "    StructField('data_venda', StringType(), True)\n",
    "])\n",
    "\n",
    "vendas_data = [\n",
    "    (i, random.randint(1, 100), random.randint(1, 50), random.randint(1, 5), '2023-01-01')\n",
    "    for i in range(1, 3000000)\n",
    "]\n",
    "\n",
    "df_vendas = spark.createDataFrame(vendas_data, schema=schema_vendas)\n",
    "\n",
    "# Criando DataFrame de transações\n",
    "schema_transacoes = StructType([\n",
    "    StructField('transacao_id', IntegerType(), True),\n",
    "    StructField('produto_id', IntegerType(), True),\n",
    "    StructField('valor', FloatType(), True),\n",
    "    StructField('tipo', StringType(), True),\n",
    "    StructField('status', StringType(), True)\n",
    "])\n",
    "\n",
    "transacoes_data = [\n",
    "    (i, random.randint(1, 50), random.uniform(50, 500),\n",
    "     random.choice(['Débito', 'Crédito']), random.choice(['Aprovado', 'Pendente', 'Rejeitado']))\n",
    "    for i in range(1, 3000000)\n",
    "]\n",
    "\n",
    "df_transacoes = spark.createDataFrame(transacoes_data, schema=schema_transacoes)"
   ]
  },
  {
   "cell_type": "code",
   "execution_count": 2,
   "metadata": {},
   "outputs": [],
   "source": [
    "# Criando visões temporárias para os DataFrames\n",
    "df_clientes.createOrReplaceTempView(\"clientes_view\")\n",
    "df_vendas.createOrReplaceTempView(\"vendas_view\")\n",
    "df_produtos.createOrReplaceTempView(\"produtos_view\")\n",
    "df_transacoes.createOrReplaceTempView(\"transacoes_view\")"
   ]
  },
  {
   "cell_type": "code",
   "execution_count": 3,
   "metadata": {},
   "outputs": [],
   "source": [
    "query = \"\"\"\n",
    "    SELECT c.nome AS cliente,t.status,\n",
    "       COUNT(v.venda_id) AS total_vendas,\n",
    "       AVG(p.preco) AS media_preco,\n",
    "       COUNT(t.transacao_id) AS total_transacoes\n",
    "FROM clientes_view c\n",
    "INNER JOIN vendas_view v ON c.cliente_id = v.cliente_id\n",
    "LEFT JOIN produtos_view p ON v.produto_id = p.produto_id\n",
    "LEFT JOIN transacoes_view t ON p.produto_id = t.produto_id\n",
    "WHERE p.disponibilidade = True\n",
    "  AND (t.status NOT IN ('Aprovado') OR t.status IS NULL)\n",
    "GROUP BY c.nome,t.status\n",
    "HAVING AVG(p.preco) > 400\n",
    "   AND COUNT(t.transacao_id) > 3;\n",
    "\n",
    "\"\"\"\n",
    "result = spark.sql(query)\n",
    "result.show()\n"
   ]
  },
  {
   "cell_type": "code",
   "execution_count": 7,
   "metadata": {},
   "outputs": [],
   "source": [
    "df_parcial = df_clientes.alias(\"c\").join(df_vendas.alias(\"v\"), on=col(\"c.cliente_id\") == col(\"v.cliente_id\"))\\\n",
    "    .join(df_produtos.alias('p'), col(\"v.produto_id\")==col(\"p.produto_id\"))\\\n",
    "    .join(df_transacoes.alias('t'), col(\"p.produto_id\")==col(\"t.produto_id\"))\\\n",
    "    .filter((col(\"p.disponibilidade\")==True) & (~col(\"t.status\").isin([\"Aprovado\"])))\\\n",
    "    .select(\"c.nome\", \"v.venda_id\", \"p.preco\", \"t.transacao_id\", \"t.status\")"
   ]
  },
  {
   "cell_type": "code",
   "execution_count": 8,
   "metadata": {},
   "outputs": [
    {
     "name": "stderr",
     "output_type": "stream",
     "text": [
      "23/12/09 12:12:15 WARN TaskSetManager: Stage 20 contains a task of very large size (2220 KiB). The maximum recommended task size is 1000 KiB.\n",
      "23/12/09 12:12:15 WARN TaskSetManager: Stage 21 contains a task of very large size (1175 KiB). The maximum recommended task size is 1000 KiB.\n",
      "23/12/09 12:12:16 WARN TaskSetManager: Stage 22 contains a task of very large size (2705 KiB). The maximum recommended task size is 1000 KiB.\n",
      "23/12/09 12:12:16 WARN TaskSetManager: Stage 23 contains a task of very large size (1744 KiB). The maximum recommended task size is 1000 KiB.\n",
      "[Stage 32:====================================================>   (13 + 1) / 14]\r"
     ]
    },
    {
     "name": "stdout",
     "output_type": "stream",
     "text": [
      "+---------+---------+------------+-----------------+----------------+\n",
      "|     nome|   status|total_vendas|      media_preco|total_transacoes|\n",
      "+---------+---------+------------+-----------------+----------------+\n",
      "|Cliente82|Rejeitado|    35163571| 523.180852500736|        35163571|\n",
      "|Cliente99|Rejeitado|    35059123|524.9147684735557|        35059123|\n",
      "|Cliente78|Rejeitado|    34624150|522.3526077709688|        34624150|\n",
      "| Cliente3|Rejeitado|    35511268|523.8185485095164|        35511268|\n",
      "|Cliente76|Rejeitado|    35052701|524.2689257934233|        35052701|\n",
      "| Cliente4|Rejeitado|    35382635|513.3462237628655|        35382635|\n",
      "|Cliente82| Pendente|    35071692| 523.680556959179|        35071692|\n",
      "|Cliente48|Rejeitado|    35059161| 522.113491204983|        35059161|\n",
      "|Cliente94|Rejeitado|    35002647|522.2100555180605|        35002647|\n",
      "|Cliente19| Pendente|    33429130|523.7999881036228|        33429130|\n",
      "|Cliente61|Rejeitado|    34550154|522.0394626721434|        34550154|\n",
      "|Cliente89| Pendente|    34229906| 528.772422468819|        34229906|\n",
      "|Cliente89|Rejeitado|    34307653|528.3126426428381|        34307653|\n",
      "| Cliente6|Rejeitado|    34140181| 524.153400653434|        34140181|\n",
      "|Cliente49| Pendente|    34812097| 522.523137809447|        34812097|\n",
      "|Cliente51|Rejeitado|    34312870|518.2506700451407|        34312870|\n",
      "|Cliente71|Rejeitado|    34369731|525.5516392433996|        34369731|\n",
      "|Cliente14|Rejeitado|    35073154|519.8020864369169|        35073154|\n",
      "|Cliente83|Rejeitado|    34359283|521.5177340562676|        34359283|\n",
      "| Cliente1| Pendente|    34471541|520.3799898470297|        34471541|\n",
      "+---------+---------+------------+-----------------+----------------+\n",
      "only showing top 20 rows\n",
      "\n"
     ]
    },
    {
     "name": "stderr",
     "output_type": "stream",
     "text": [
      "                                                                                \r"
     ]
    }
   ],
   "source": [
    "df_parcial.groupBy('nome', 'status')\\\n",
    "    .agg(\n",
    "        count('venda_id').alias(\"total_vendas\"),\n",
    "        avg(\"preco\").alias(\"media_preco\"),\n",
    "        count(\"transacao_id\").alias(\"total_transacoes\")\n",
    "    )\\\n",
    "    .filter(\"total_transacoes > 3 and media_preco > 400\")\\\n",
    "    .show()"
   ]
  },
  {
   "cell_type": "code",
   "execution_count": 11,
   "metadata": {},
   "outputs": [
    {
     "name": "stderr",
     "output_type": "stream",
     "text": [
      "23/12/24 16:26:54 WARN TaskSetManager: Stage 60 contains a task of very large size (3789 KiB). The maximum recommended task size is 1000 KiB.\n",
      "23/12/24 16:26:55 WARN TaskSetManager: Stage 62 contains a task of very large size (8568 KiB). The maximum recommended task size is 1000 KiB.\n",
      "23/12/24 16:26:55 WARN TaskSetManager: Stage 61 contains a task of very large size (5505 KiB). The maximum recommended task size is 1000 KiB.\n",
      "23/12/24 16:26:58 WARN TaskSetManager: Stage 63 contains a task of very large size (7107 KiB). The maximum recommended task size is 1000 KiB.\n",
      "ERROR:root:KeyboardInterrupt while sending command.                 (0 + 1) / 1]\n",
      "Traceback (most recent call last):\n",
      "  File \"/home/phillipefs/.local/lib/python3.8/site-packages/py4j/java_gateway.py\", line 1038, in send_command\n",
      "    response = connection.send_command(command)\n",
      "  File \"/home/phillipefs/.local/lib/python3.8/site-packages/py4j/clientserver.py\", line 511, in send_command\n",
      "    answer = smart_decode(self.stream.readline()[:-1])\n",
      "  File \"/usr/lib/python3.8/socket.py\", line 669, in readinto\n",
      "    return self._sock.recv_into(b)\n",
      "KeyboardInterrupt\n"
     ]
    },
    {
     "ename": "KeyboardInterrupt",
     "evalue": "",
     "output_type": "error",
     "traceback": [
      "\u001b[0;31m---------------------------------------------------------------------------\u001b[0m",
      "\u001b[0;31mKeyboardInterrupt\u001b[0m                         Traceback (most recent call last)",
      "Cell \u001b[0;32mIn[11], line 1\u001b[0m\n\u001b[0;32m----> 1\u001b[0m \u001b[43mdf_clientes\u001b[49m\u001b[38;5;241;43m.\u001b[39;49m\u001b[43malias\u001b[49m\u001b[43m(\u001b[49m\u001b[38;5;124;43m\"\u001b[39;49m\u001b[38;5;124;43mc\u001b[39;49m\u001b[38;5;124;43m\"\u001b[39;49m\u001b[43m)\u001b[49m\u001b[43m\\\u001b[49m\n\u001b[1;32m      2\u001b[0m \u001b[43m    \u001b[49m\u001b[38;5;241;43m.\u001b[39;49m\u001b[43mjoin\u001b[49m\u001b[43m(\u001b[49m\u001b[43mbroadcast\u001b[49m\u001b[43m(\u001b[49m\u001b[43mdf_vendas\u001b[49m\u001b[38;5;241;43m.\u001b[39;49m\u001b[43malias\u001b[49m\u001b[43m(\u001b[49m\u001b[38;5;124;43m\"\u001b[39;49m\u001b[38;5;124;43mv\u001b[39;49m\u001b[38;5;124;43m\"\u001b[39;49m\u001b[43m)\u001b[49m\u001b[43m)\u001b[49m\u001b[43m,\u001b[49m\u001b[43m \u001b[49m\u001b[43mon\u001b[49m\u001b[38;5;241;43m=\u001b[39;49m\u001b[43mcol\u001b[49m\u001b[43m(\u001b[49m\u001b[38;5;124;43m\"\u001b[39;49m\u001b[38;5;124;43mc.cliente_id\u001b[39;49m\u001b[38;5;124;43m\"\u001b[39;49m\u001b[43m)\u001b[49m\u001b[43m \u001b[49m\u001b[38;5;241;43m==\u001b[39;49m\u001b[43m \u001b[49m\u001b[43mcol\u001b[49m\u001b[43m(\u001b[49m\u001b[38;5;124;43m\"\u001b[39;49m\u001b[38;5;124;43mv.cliente_id\u001b[39;49m\u001b[38;5;124;43m\"\u001b[39;49m\u001b[43m)\u001b[49m\u001b[43m)\u001b[49m\u001b[43m\\\u001b[49m\n\u001b[1;32m      3\u001b[0m \u001b[43m    \u001b[49m\u001b[38;5;241;43m.\u001b[39;49m\u001b[43mjoin\u001b[49m\u001b[43m(\u001b[49m\u001b[43mbroadcast\u001b[49m\u001b[43m(\u001b[49m\u001b[43mdf_produtos\u001b[49m\u001b[38;5;241;43m.\u001b[39;49m\u001b[43malias\u001b[49m\u001b[43m(\u001b[49m\u001b[38;5;124;43m'\u001b[39;49m\u001b[38;5;124;43mp\u001b[39;49m\u001b[38;5;124;43m'\u001b[39;49m\u001b[43m)\u001b[49m\u001b[43m)\u001b[49m\u001b[43m,\u001b[49m\u001b[43m \u001b[49m\u001b[43mcol\u001b[49m\u001b[43m(\u001b[49m\u001b[38;5;124;43m\"\u001b[39;49m\u001b[38;5;124;43mv.produto_id\u001b[39;49m\u001b[38;5;124;43m\"\u001b[39;49m\u001b[43m)\u001b[49m\u001b[43m \u001b[49m\u001b[38;5;241;43m==\u001b[39;49m\u001b[43m \u001b[49m\u001b[43mcol\u001b[49m\u001b[43m(\u001b[49m\u001b[38;5;124;43m\"\u001b[39;49m\u001b[38;5;124;43mp.produto_id\u001b[39;49m\u001b[38;5;124;43m\"\u001b[39;49m\u001b[43m)\u001b[49m\u001b[43m)\u001b[49m\u001b[43m\\\u001b[49m\n\u001b[1;32m      4\u001b[0m \u001b[43m    \u001b[49m\u001b[38;5;241;43m.\u001b[39;49m\u001b[43mjoin\u001b[49m\u001b[43m(\u001b[49m\u001b[43mbroadcast\u001b[49m\u001b[43m(\u001b[49m\u001b[43mdf_transacoes\u001b[49m\u001b[38;5;241;43m.\u001b[39;49m\u001b[43malias\u001b[49m\u001b[43m(\u001b[49m\u001b[38;5;124;43m'\u001b[39;49m\u001b[38;5;124;43mt\u001b[39;49m\u001b[38;5;124;43m'\u001b[39;49m\u001b[43m)\u001b[49m\u001b[43m)\u001b[49m\u001b[43m,\u001b[49m\u001b[43m \u001b[49m\u001b[43mcol\u001b[49m\u001b[43m(\u001b[49m\u001b[38;5;124;43m\"\u001b[39;49m\u001b[38;5;124;43mp.produto_id\u001b[39;49m\u001b[38;5;124;43m\"\u001b[39;49m\u001b[43m)\u001b[49m\u001b[43m \u001b[49m\u001b[38;5;241;43m==\u001b[39;49m\u001b[43m \u001b[49m\u001b[43mcol\u001b[49m\u001b[43m(\u001b[49m\u001b[38;5;124;43m\"\u001b[39;49m\u001b[38;5;124;43mt.produto_id\u001b[39;49m\u001b[38;5;124;43m\"\u001b[39;49m\u001b[43m)\u001b[49m\u001b[43m)\u001b[49m\u001b[43m\\\u001b[49m\n\u001b[1;32m      5\u001b[0m \u001b[43m    \u001b[49m\u001b[38;5;241;43m.\u001b[39;49m\u001b[43mshow\u001b[49m\u001b[43m(\u001b[49m\u001b[43m)\u001b[49m\n",
      "File \u001b[0;32m~/.local/lib/python3.8/site-packages/pyspark/sql/dataframe.py:606\u001b[0m, in \u001b[0;36mDataFrame.show\u001b[0;34m(self, n, truncate, vertical)\u001b[0m\n\u001b[1;32m    603\u001b[0m     \u001b[38;5;28;01mraise\u001b[39;00m \u001b[38;5;167;01mTypeError\u001b[39;00m(\u001b[38;5;124m\"\u001b[39m\u001b[38;5;124mParameter \u001b[39m\u001b[38;5;124m'\u001b[39m\u001b[38;5;124mvertical\u001b[39m\u001b[38;5;124m'\u001b[39m\u001b[38;5;124m must be a bool\u001b[39m\u001b[38;5;124m\"\u001b[39m)\n\u001b[1;32m    605\u001b[0m \u001b[38;5;28;01mif\u001b[39;00m \u001b[38;5;28misinstance\u001b[39m(truncate, \u001b[38;5;28mbool\u001b[39m) \u001b[38;5;129;01mand\u001b[39;00m truncate:\n\u001b[0;32m--> 606\u001b[0m     \u001b[38;5;28mprint\u001b[39m(\u001b[38;5;28;43mself\u001b[39;49m\u001b[38;5;241;43m.\u001b[39;49m\u001b[43m_jdf\u001b[49m\u001b[38;5;241;43m.\u001b[39;49m\u001b[43mshowString\u001b[49m\u001b[43m(\u001b[49m\u001b[43mn\u001b[49m\u001b[43m,\u001b[49m\u001b[43m \u001b[49m\u001b[38;5;241;43m20\u001b[39;49m\u001b[43m,\u001b[49m\u001b[43m \u001b[49m\u001b[43mvertical\u001b[49m\u001b[43m)\u001b[49m)\n\u001b[1;32m    607\u001b[0m \u001b[38;5;28;01melse\u001b[39;00m:\n\u001b[1;32m    608\u001b[0m     \u001b[38;5;28;01mtry\u001b[39;00m:\n",
      "File \u001b[0;32m~/.local/lib/python3.8/site-packages/py4j/java_gateway.py:1320\u001b[0m, in \u001b[0;36mJavaMember.__call__\u001b[0;34m(self, *args)\u001b[0m\n\u001b[1;32m   1313\u001b[0m args_command, temp_args \u001b[38;5;241m=\u001b[39m \u001b[38;5;28mself\u001b[39m\u001b[38;5;241m.\u001b[39m_build_args(\u001b[38;5;241m*\u001b[39margs)\n\u001b[1;32m   1315\u001b[0m command \u001b[38;5;241m=\u001b[39m proto\u001b[38;5;241m.\u001b[39mCALL_COMMAND_NAME \u001b[38;5;241m+\u001b[39m\\\n\u001b[1;32m   1316\u001b[0m     \u001b[38;5;28mself\u001b[39m\u001b[38;5;241m.\u001b[39mcommand_header \u001b[38;5;241m+\u001b[39m\\\n\u001b[1;32m   1317\u001b[0m     args_command \u001b[38;5;241m+\u001b[39m\\\n\u001b[1;32m   1318\u001b[0m     proto\u001b[38;5;241m.\u001b[39mEND_COMMAND_PART\n\u001b[0;32m-> 1320\u001b[0m answer \u001b[38;5;241m=\u001b[39m \u001b[38;5;28;43mself\u001b[39;49m\u001b[38;5;241;43m.\u001b[39;49m\u001b[43mgateway_client\u001b[49m\u001b[38;5;241;43m.\u001b[39;49m\u001b[43msend_command\u001b[49m\u001b[43m(\u001b[49m\u001b[43mcommand\u001b[49m\u001b[43m)\u001b[49m\n\u001b[1;32m   1321\u001b[0m return_value \u001b[38;5;241m=\u001b[39m get_return_value(\n\u001b[1;32m   1322\u001b[0m     answer, \u001b[38;5;28mself\u001b[39m\u001b[38;5;241m.\u001b[39mgateway_client, \u001b[38;5;28mself\u001b[39m\u001b[38;5;241m.\u001b[39mtarget_id, \u001b[38;5;28mself\u001b[39m\u001b[38;5;241m.\u001b[39mname)\n\u001b[1;32m   1324\u001b[0m \u001b[38;5;28;01mfor\u001b[39;00m temp_arg \u001b[38;5;129;01min\u001b[39;00m temp_args:\n",
      "File \u001b[0;32m~/.local/lib/python3.8/site-packages/py4j/java_gateway.py:1038\u001b[0m, in \u001b[0;36mGatewayClient.send_command\u001b[0;34m(self, command, retry, binary)\u001b[0m\n\u001b[1;32m   1036\u001b[0m connection \u001b[38;5;241m=\u001b[39m \u001b[38;5;28mself\u001b[39m\u001b[38;5;241m.\u001b[39m_get_connection()\n\u001b[1;32m   1037\u001b[0m \u001b[38;5;28;01mtry\u001b[39;00m:\n\u001b[0;32m-> 1038\u001b[0m     response \u001b[38;5;241m=\u001b[39m \u001b[43mconnection\u001b[49m\u001b[38;5;241;43m.\u001b[39;49m\u001b[43msend_command\u001b[49m\u001b[43m(\u001b[49m\u001b[43mcommand\u001b[49m\u001b[43m)\u001b[49m\n\u001b[1;32m   1039\u001b[0m     \u001b[38;5;28;01mif\u001b[39;00m binary:\n\u001b[1;32m   1040\u001b[0m         \u001b[38;5;28;01mreturn\u001b[39;00m response, \u001b[38;5;28mself\u001b[39m\u001b[38;5;241m.\u001b[39m_create_connection_guard(connection)\n",
      "File \u001b[0;32m~/.local/lib/python3.8/site-packages/py4j/clientserver.py:511\u001b[0m, in \u001b[0;36mClientServerConnection.send_command\u001b[0;34m(self, command)\u001b[0m\n\u001b[1;32m    509\u001b[0m \u001b[38;5;28;01mtry\u001b[39;00m:\n\u001b[1;32m    510\u001b[0m     \u001b[38;5;28;01mwhile\u001b[39;00m \u001b[38;5;28;01mTrue\u001b[39;00m:\n\u001b[0;32m--> 511\u001b[0m         answer \u001b[38;5;241m=\u001b[39m smart_decode(\u001b[38;5;28;43mself\u001b[39;49m\u001b[38;5;241;43m.\u001b[39;49m\u001b[43mstream\u001b[49m\u001b[38;5;241;43m.\u001b[39;49m\u001b[43mreadline\u001b[49m\u001b[43m(\u001b[49m\u001b[43m)\u001b[49m[:\u001b[38;5;241m-\u001b[39m\u001b[38;5;241m1\u001b[39m])\n\u001b[1;32m    512\u001b[0m         logger\u001b[38;5;241m.\u001b[39mdebug(\u001b[38;5;124m\"\u001b[39m\u001b[38;5;124mAnswer received: \u001b[39m\u001b[38;5;132;01m{0}\u001b[39;00m\u001b[38;5;124m\"\u001b[39m\u001b[38;5;241m.\u001b[39mformat(answer))\n\u001b[1;32m    513\u001b[0m         \u001b[38;5;66;03m# Happens when a the other end is dead. There might be an empty\u001b[39;00m\n\u001b[1;32m    514\u001b[0m         \u001b[38;5;66;03m# answer before the socket raises an error.\u001b[39;00m\n",
      "File \u001b[0;32m/usr/lib/python3.8/socket.py:669\u001b[0m, in \u001b[0;36mSocketIO.readinto\u001b[0;34m(self, b)\u001b[0m\n\u001b[1;32m    667\u001b[0m \u001b[38;5;28;01mwhile\u001b[39;00m \u001b[38;5;28;01mTrue\u001b[39;00m:\n\u001b[1;32m    668\u001b[0m     \u001b[38;5;28;01mtry\u001b[39;00m:\n\u001b[0;32m--> 669\u001b[0m         \u001b[38;5;28;01mreturn\u001b[39;00m \u001b[38;5;28;43mself\u001b[39;49m\u001b[38;5;241;43m.\u001b[39;49m\u001b[43m_sock\u001b[49m\u001b[38;5;241;43m.\u001b[39;49m\u001b[43mrecv_into\u001b[49m\u001b[43m(\u001b[49m\u001b[43mb\u001b[49m\u001b[43m)\u001b[49m\n\u001b[1;32m    670\u001b[0m     \u001b[38;5;28;01mexcept\u001b[39;00m timeout:\n\u001b[1;32m    671\u001b[0m         \u001b[38;5;28mself\u001b[39m\u001b[38;5;241m.\u001b[39m_timeout_occurred \u001b[38;5;241m=\u001b[39m \u001b[38;5;28;01mTrue\u001b[39;00m\n",
      "\u001b[0;31mKeyboardInterrupt\u001b[0m: "
     ]
    }
   ],
   "source": [
    "df_clientes.alias(\"c\")\\\n",
    "    .join(broadcast(df_vendas.alias(\"v\")), on=col(\"c.cliente_id\") == col(\"v.cliente_id\"))\\\n",
    "    .join(broadcast(df_produtos.alias('p')), col(\"v.produto_id\") == col(\"p.produto_id\"))\\\n",
    "    .join(broadcast(df_transacoes.alias('t')), col(\"p.produto_id\") == col(\"t.produto_id\"))\\\n",
    "    .show()"
   ]
  },
  {
   "cell_type": "code",
   "execution_count": 8,
   "metadata": {},
   "outputs": [
    {
     "name": "stderr",
     "output_type": "stream",
     "text": [
      "23/12/24 16:26:02 WARN TaskSetManager: Stage 47 contains a task of very large size (7107 KiB). The maximum recommended task size is 1000 KiB.\n",
      "23/12/24 16:26:03 WARN TaskSetManager: Stage 48 contains a task of very large size (3789 KiB). The maximum recommended task size is 1000 KiB.\n",
      "23/12/24 16:26:04 WARN TaskSetManager: Stage 49 contains a task of very large size (8568 KiB). The maximum recommended task size is 1000 KiB.\n",
      "23/12/24 16:26:04 WARN TaskSetManager: Stage 50 contains a task of very large size (5505 KiB). The maximum recommended task size is 1000 KiB.\n",
      "[Stage 53:==========================>                              (6 + 7) / 13]\r"
     ]
    },
    {
     "name": "stdout",
     "output_type": "stream",
     "text": [
      "+----------+---------+-----+--------------+------+--------+----------+----------+----------+----------+----------+------------+---------+-----------------+---------------+------------+----------+---------+-------+---------+\n",
      "|cliente_id|     nome|idade|        cidade|genero|venda_id|cliente_id|produto_id|quantidade|data_venda|produto_id|nome_produto|categoria|            preco|disponibilidade|transacao_id|produto_id|    valor|   tipo|   status|\n",
      "+----------+---------+-----+--------------+------+--------+----------+----------+----------+----------+----------+------------+---------+-----------------+---------------+------------+----------+---------+-------+---------+\n",
      "|        28|Cliente28|   44|Rio de Janeiro|     F|   10868|        28|         7|         1|2023-01-01|         7|    Produto7|   Roupas|897.5166180847426|          false|           9|         7| 356.3681|Crédito| Aprovado|\n",
      "|        28|Cliente28|   44|Rio de Janeiro|     F|   10868|        28|         7|         1|2023-01-01|         7|    Produto7|   Roupas|897.5166180847426|          false|          12|         7| 231.7783|Crédito|Rejeitado|\n",
      "|        28|Cliente28|   44|Rio de Janeiro|     F|   10868|        28|         7|         1|2023-01-01|         7|    Produto7|   Roupas|897.5166180847426|          false|          13|         7|64.358864|Crédito| Pendente|\n",
      "|        28|Cliente28|   44|Rio de Janeiro|     F|   10868|        28|         7|         1|2023-01-01|         7|    Produto7|   Roupas|897.5166180847426|          false|          63|         7| 261.1324|Crédito|Rejeitado|\n",
      "|        28|Cliente28|   44|Rio de Janeiro|     F|   10868|        28|         7|         1|2023-01-01|         7|    Produto7|   Roupas|897.5166180847426|          false|          76|         7|68.090965| Débito|Rejeitado|\n",
      "|        28|Cliente28|   44|Rio de Janeiro|     F|   10868|        28|         7|         1|2023-01-01|         7|    Produto7|   Roupas|897.5166180847426|          false|         141|         7| 458.7085|Crédito| Aprovado|\n",
      "|        28|Cliente28|   44|Rio de Janeiro|     F|   10868|        28|         7|         1|2023-01-01|         7|    Produto7|   Roupas|897.5166180847426|          false|         170|         7|450.62256| Débito| Pendente|\n",
      "|        28|Cliente28|   44|Rio de Janeiro|     F|   10868|        28|         7|         1|2023-01-01|         7|    Produto7|   Roupas|897.5166180847426|          false|         233|         7|289.55273| Débito| Aprovado|\n",
      "|        28|Cliente28|   44|Rio de Janeiro|     F|   10868|        28|         7|         1|2023-01-01|         7|    Produto7|   Roupas|897.5166180847426|          false|         343|         7|370.17706|Crédito|Rejeitado|\n",
      "|        28|Cliente28|   44|Rio de Janeiro|     F|   10868|        28|         7|         1|2023-01-01|         7|    Produto7|   Roupas|897.5166180847426|          false|         503|         7| 85.73414|Crédito| Aprovado|\n",
      "|        28|Cliente28|   44|Rio de Janeiro|     F|   10868|        28|         7|         1|2023-01-01|         7|    Produto7|   Roupas|897.5166180847426|          false|         577|         7|393.74072|Crédito| Aprovado|\n",
      "|        28|Cliente28|   44|Rio de Janeiro|     F|   10868|        28|         7|         1|2023-01-01|         7|    Produto7|   Roupas|897.5166180847426|          false|         601|         7|148.55057|Crédito| Aprovado|\n",
      "|        28|Cliente28|   44|Rio de Janeiro|     F|   10868|        28|         7|         1|2023-01-01|         7|    Produto7|   Roupas|897.5166180847426|          false|         611|         7| 76.32389| Débito| Pendente|\n",
      "|        28|Cliente28|   44|Rio de Janeiro|     F|   10868|        28|         7|         1|2023-01-01|         7|    Produto7|   Roupas|897.5166180847426|          false|         659|         7|98.375656|Crédito| Pendente|\n",
      "|        28|Cliente28|   44|Rio de Janeiro|     F|   10868|        28|         7|         1|2023-01-01|         7|    Produto7|   Roupas|897.5166180847426|          false|         867|         7|50.813744|Crédito| Pendente|\n",
      "|        28|Cliente28|   44|Rio de Janeiro|     F|   10868|        28|         7|         1|2023-01-01|         7|    Produto7|   Roupas|897.5166180847426|          false|         957|         7| 472.0869| Débito| Aprovado|\n",
      "|        28|Cliente28|   44|Rio de Janeiro|     F|   10868|        28|         7|         1|2023-01-01|         7|    Produto7|   Roupas|897.5166180847426|          false|         970|         7| 192.1574| Débito|Rejeitado|\n",
      "|        28|Cliente28|   44|Rio de Janeiro|     F|   10868|        28|         7|         1|2023-01-01|         7|    Produto7|   Roupas|897.5166180847426|          false|        1032|         7| 242.9897| Débito|Rejeitado|\n",
      "|        28|Cliente28|   44|Rio de Janeiro|     F|   10868|        28|         7|         1|2023-01-01|         7|    Produto7|   Roupas|897.5166180847426|          false|        1065|         7|76.747986| Débito| Pendente|\n",
      "|        28|Cliente28|   44|Rio de Janeiro|     F|   10868|        28|         7|         1|2023-01-01|         7|    Produto7|   Roupas|897.5166180847426|          false|        1132|         7|326.33035| Débito| Aprovado|\n",
      "+----------+---------+-----+--------------+------+--------+----------+----------+----------+----------+----------+------------+---------+-----------------+---------------+------------+----------+---------+-------+---------+\n",
      "only showing top 20 rows\n",
      "\n"
     ]
    },
    {
     "name": "stderr",
     "output_type": "stream",
     "text": [
      "                                                                                \r"
     ]
    }
   ],
   "source": [
    "df_clientes.alias(\"c\")\\\n",
    "    .join(df_vendas.alias(\"v\"), on=col(\"c.cliente_id\") == col(\"v.cliente_id\"))\\\n",
    "    .join(df_produtos.alias('p'), col(\"v.produto_id\") == col(\"p.produto_id\"))\\\n",
    "    .join(df_transacoes.alias('t'), col(\"p.produto_id\") == col(\"t.produto_id\"))\\\n",
    "    .show()"
   ]
  }
 ],
 "metadata": {
  "kernelspec": {
   "display_name": "Python 3",
   "language": "python",
   "name": "python3"
  },
  "language_info": {
   "codemirror_mode": {
    "name": "ipython",
    "version": 3
   },
   "file_extension": ".py",
   "mimetype": "text/x-python",
   "name": "python",
   "nbconvert_exporter": "python",
   "pygments_lexer": "ipython3",
   "version": "3.8.10"
  }
 },
 "nbformat": 4,
 "nbformat_minor": 2
}
