{
 "cells": [
  {
   "cell_type": "code",
   "execution_count": 13,
   "metadata": {},
   "outputs": [],
   "source": [
    "from pyspark.sql import SparkSession, DataFrame\n",
    "from pyspark.sql.functions import *\n",
    "from pyspark.sql.types import StructType, StructField, StringType, DateType, FloatType, IntegerType\n",
    "\n",
    "spark = SparkSession.builder.appName(\"Example\").getOrCreate()"
   ]
  },
  {
   "cell_type": "markdown",
   "metadata": {},
   "source": [
    "#### Read Variaveis"
   ]
  },
  {
   "cell_type": "code",
   "execution_count": 14,
   "metadata": {},
   "outputs": [],
   "source": [
    "ultimo_dia = \"2023-12-30\""
   ]
  },
  {
   "cell_type": "markdown",
   "metadata": {},
   "source": [
    "#### Base Fake"
   ]
  },
  {
   "cell_type": "code",
   "execution_count": 32,
   "metadata": {},
   "outputs": [
    {
     "name": "stdout",
     "output_type": "stream",
     "text": [
      "+---------+---------+--------+----+------+-------------+--------------------+------------+----------+-------+------+-----------+--------+--------+------+------+-----+\n",
      "|  sistema|  empresa|  Dt_Ref|idop|  moda|      submoda|      Mod_Bacen_3050|Encargo_3050|Moeda_3050|  cosif|tp_pes|   cpf_cnpj|    dtop|  DTVCTO| risco|  vlop|TXJUR|\n",
      "+---------+---------+--------+----+------+-------------+--------------------+------------+----------+-------+------+-----------+--------+--------+------+------+-----+\n",
      "|Sistema_1|Empresa_1|20230101|   1|MODA_1|Cd_Sub_Modd_1|CARTAO DE CREDITO...|   Encargo_1|   Moeda_1|Cosif_1|     1|11111111111|20230101|20230110|1000.0| 800.0| 0.05|\n",
      "|Sistema_2|Empresa_2|20230102|   2|MODA_2|Cd_Sub_Modd_2|CARTAO DE CREDITO...|   Encargo_2|   Moeda_2|Cosif_2|     2|22222222222|20230102|20230115|2000.0|1500.0| 0.06|\n",
      "|Sistema_3|Empresa_3|20230103|   3|MODA_3|Cd_Sub_Modd_3|CARTAO DE CREDITO...|   Encargo_3|   Moeda_3|Cosif_3|     1|33333333333|20230103|20230120|3000.0|2200.0| 0.07|\n",
      "+---------+---------+--------+----+------+-------------+--------------------+------------+----------+-------+------+-----------+--------+--------+------+------+-----+\n",
      "only showing top 3 rows\n",
      "\n"
     ]
    }
   ],
   "source": [
    "data_cadoc = [\n",
    "    (\"Sistema_1\", \"Empresa_1\", \"20230101\", 1, \"MODA_1\", \"Cd_Sub_Modd_1\", \"CARTAO DE CREDITO ROTATIVO' 'CARTAO DE CREDITO - ROTATIVO EM ATRASO\", \"Encargo_1\", \"Moeda_1\", \"Cosif_1\", \"1\", \"11111111111\", \"20230101\", \"20230110\", 1000.0, 800.0, 0.05),\n",
    "    (\"Sistema_2\", \"Empresa_2\", \"20230102\", 2, \"MODA_2\", \"Cd_Sub_Modd_2\", \"CARTAO DE CREDITO ROTATIVO' 'CARTAO DE CREDITO - ROTATIVO EM ATRASO\", \"Encargo_2\", \"Moeda_2\", \"Cosif_2\", \"2\", \"22222222222\", \"20230102\", \"20230115\", 2000.0, 1500.0, 0.06),\n",
    "    (\"Sistema_3\", \"Empresa_3\", \"20230103\", 3, \"MODA_3\", \"Cd_Sub_Modd_3\", \"CARTAO DE CREDITO ROTATIVO' 'CARTAO DE CREDITO - ROTATIVO EM ATRASO\", \"Encargo_3\", \"Moeda_3\", \"Cosif_3\", \"1\", \"33333333333\", \"20230103\", \"20230120\", 3000.0, 2200.0, 0.07),\n",
    "    (\"Sistema_4\", \"Empresa_4\", \"20230104\", 4, \"MODA_4\", \"Cd_Sub_Modd_4\", \"CARTAO DE CREDITO ROTATIVO' 'CARTAO DE CREDITO - ROTATIVO EM ATRASO\", \"Encargo_4\", \"Moeda_4\", \"Cosif_4\", \"2\", \"44444444444\", \"20230104\", \"20230125\", 4000.0, 3300.0, 0.08),\n",
    "    (\"Sistema_5\", \"Empresa_5\", \"20230105\", 5, \"MODA_5\", \"Cd_Sub_Modd_5\", \"CARTAO DE CREDITO ROTATIVO' 'CARTAO DE CREDITO - ROTATIVO EM ATRASO\", \"Encargo_5\", \"Moeda_5\", \"Cosif_5\", \"1\", \"55555555555\", \"20230105\", \"20230130\", 5000.0, 4400.0, 0.09),\n",
    "    (\"Sistema_6\", \"Empresa_6\", \"20230106\", 6, \"MODA_6\", \"Cd_Sub_Modd_6\", \"CARTAO DE CREDITO ROTATIVO' 'CARTAO DE CREDITO - ROTATIVO EM ATRASO\", \"Encargo_6\", \"Moeda_6\", \"Cosif_6\", \"2\", \"66666666666\", \"20230106\", \"20230201\", 6000.0, 5500.0, 0.1),\n",
    "    (\"Sistema_7\", \"Empresa_7\", \"20230107\", 7, \"MODA_7\", \"Cd_Sub_Modd_7\", \"CARTAO DE CREDITO ROTATIVO' 'CARTAO DE CREDITO - ROTATIVO EM ATRASO\", \"Encargo_7\", \"Moeda_7\", \"Cosif_7\", \"1\", \"77777777777\", \"20230107\", \"20230205\", 7000.0, 6600.0, 0.11),\n",
    "    (\"Sistema_8\", \"Empresa_8\", \"20230108\", 8, \"MODA_8\", \"Cd_Sub_Modd_8\", \"CARTAO DE CREDITO ROTATIVO' 'CARTAO DE CREDITO - ROTATIVO EM ATRASO\", \"Encargo_8\", \"Moeda_8\", \"Cosif_8\", \"2\", \"88888888888\", \"20230108\", \"20230210\", 8000.0, 7700.0, 0.12),\n",
    "    (\"Sistema_9\", \"Empresa_9\", \"20230109\", 9, \"MODA_9\", \"Cd_Sub_Modd_9\", \"CARTAO DE CREDITO ROTATIVO' 'CARTAO DE CREDITO - ROTATIVO EM ATRASO\", \"Encargo_9\", \"Moeda_9\", \"Cosif_9\", \"1\", \"99999999999\", \"20230109\", \"20230215\", 9000.0, 8800.0, 0.13),\n",
    "    (\"Sistema_10\", \"Empresa_10\", \"20230110\", 10, \"MODA_10\", \"Cd_Sub_Modd_10\", \"CARTAO DE CREDITO ROTATIVO' 'CARTAO DE CREDITO - ROTATIVO EM ATRASO\", \"Encargo_10\", \"Moeda_10\", \"Cosif_10\", \"2\", \"10101010101\", \"20230110\", \"20230220\", 10000.0, 9900.0, 0.14)\n",
    "]\n",
    "\n",
    "schema_cadoc = [\n",
    "    \"sistema\", \"empresa\", \"Dt_Ref\", \"idop\", \"moda\", \"submoda\",\n",
    "    \"Mod_Bacen_3050\", \"Encargo_3050\", \"Moeda_3050\", \"cosif\", \"tp_pes\", \"cpf_cnpj\",\n",
    "    \"dtop\", \"DTVCTO\", \"risco\", \"vlop\", \"TXJUR\"\n",
    "]\n",
    "\n",
    "df_base = spark.createDataFrame(data_cadoc, schema_cadoc)\n",
    "df_base.show(3)"
   ]
  },
  {
   "cell_type": "markdown",
   "metadata": {},
   "source": [
    "##### Create DF Ano/Mes"
   ]
  },
  {
   "cell_type": "code",
   "execution_count": 33,
   "metadata": {},
   "outputs": [],
   "source": [
    "df_cadoc_anomes = df_base.select(\n",
    "    col(\"sistema\"),\n",
    "    col(\"empresa\"),\n",
    "    concat_ws(\".\",\n",
    "              substring(col(\"Dt_Ref\"), 7, 2),\n",
    "              substring(col(\"Dt_Ref\"), 5, 2),\n",
    "              substring(col(\"Dt_Ref\"), 1, 4)).alias(\"Dt_Ref\"),\n",
    "    col(\"idop\").alias(\"Id_Oprc\"),\n",
    "    col(\"moda\").alias(\"MODA_SAFRA\"),\n",
    "    col(\"submoda\").alias(\"Cd_Sub_modd\"),\n",
    "    col(\"Mod_Bacen_3050\"),\n",
    "    col(\"Encargo_3050\"),\n",
    "    col(\"Moeda_3050\"),\n",
    "    col(\"cosif\"),\n",
    "    col(\"tp_pes\"),\n",
    "    col(\"cpf_cnpj\"),\n",
    "    concat_ws(\".\",\n",
    "              substring(col(\"dtop\"), 7, 2),\n",
    "              substring(col(\"dtop\"), 5, 2),\n",
    "              substring(col(\"dtop\"), 1, 4)).alias(\"Dt_Inic_Oprc\"),\n",
    "    concat_ws(\".\",\n",
    "              substring(col(\"DTVCTO\"), 7, 2),\n",
    "              substring(col(\"DTVCTO\"), 5, 2),\n",
    "              substring(col(\"DTVCTO\"), 1, 4)).alias(\"Dt_Vcmt_Oprc\"),\n",
    "    col(\"risco\").alias(\"V_Sld_Oprc\"),\n",
    "    col(\"vlop\").alias(\"V_Oprc\"),\n",
    "    col(\"TXJUR\").alias(\"PC_Txa_Jurs_Eftv\")\n",
    ")\\\n",
    ".filter(col(\"Mod_Bacen_3050\").isin(\"CARTAO DE CREDITO ROTATIVO' 'CARTAO DE CREDITO - ROTATIVO EM ATRASO\"))"
   ]
  },
  {
   "cell_type": "markdown",
   "metadata": {},
   "source": [
    "##### Create DF Ano/Mes Ant"
   ]
  },
  {
   "cell_type": "code",
   "execution_count": 34,
   "metadata": {},
   "outputs": [],
   "source": [
    "df_cadoc_anomes_ant = df_base.select(\n",
    "    col(\"sistema\"),\n",
    "    col(\"empresa\"),\n",
    "    concat_ws(\".\",\n",
    "              substring(col(\"Dt_Ref\"), 7, 2),\n",
    "              substring(col(\"Dt_Ref\"), 5, 2),\n",
    "              substring(col(\"Dt_Ref\"), 1, 4)).alias(\"Dt_Ref\"),\n",
    "    col(\"idop\").alias(\"Id_Oprc\"),\n",
    "    col(\"moda\").alias(\"MODA_SAFRA\"),\n",
    "    col(\"submoda\").alias(\"Cd_Sub_modd\"),\n",
    "    col(\"Mod_Bacen_3050\"),\n",
    "    col(\"Encargo_3050\"),\n",
    "    col(\"Moeda_3050\"),\n",
    "    col(\"cosif\"),\n",
    "    col(\"tp_pes\"),\n",
    "    col(\"cpf_cnpj\"),\n",
    "    concat_ws(\".\",\n",
    "              substring(col(\"dtop\"), 7, 2),\n",
    "              substring(col(\"dtop\"), 5, 2),\n",
    "              substring(col(\"dtop\"), 1, 4)).alias(\"Dt_Inic_Oprc\"),\n",
    "    concat_ws(\".\",\n",
    "              substring(col(\"DTVCTO\"), 7, 2),\n",
    "              substring(col(\"DTVCTO\"), 5, 2),\n",
    "              substring(col(\"DTVCTO\"), 1, 4)).alias(\"Dt_Vcmt_Oprc\"),\n",
    "    col(\"risco\").alias(\"V_Sld_Oprc\"),\n",
    "    col(\"vlop\").alias(\"V_Oprc\"),\n",
    "    col(\"TXJUR\").alias(\"PC_Txa_Jurs_Eftv\")\n",
    ")\\\n",
    ".filter(col(\"Mod_Bacen_3050\").isin(\"CARTAO DE CREDITO ROTATIVO' 'CARTAO DE CREDITO - ROTATIVO EM ATRASO\"))"
   ]
  },
  {
   "cell_type": "markdown",
   "metadata": {},
   "source": [
    "#### Bases"
   ]
  },
  {
   "cell_type": "code",
   "execution_count": 35,
   "metadata": {},
   "outputs": [],
   "source": [
    "df_cadoc_anoant1_mesant1_diaant1 = df_cadoc_anomes\n",
    "df_cadoc_ano1_mes1_dia1 = df_cadoc_anomes\n",
    "df_cadoc_ano2_mes2_dia2 = df_cadoc_anomes\n",
    "df_cadoc_ano3_mes3_dia3 = df_cadoc_anomes\n",
    "df_cadoc_ano4_mes4_dia4 = df_cadoc_anomes\n",
    "df_cadoc_ano5_mes5_dia5 = df_cadoc_anomes"
   ]
  },
  {
   "cell_type": "code",
   "execution_count": 53,
   "metadata": {},
   "outputs": [
    {
     "name": "stdout",
     "output_type": "stream",
     "text": [
      "+----------+-------+----------+--------------+------+-----------+------------+--------+------+----------------+--------+---------+----------+-----------+----------+--------------+---------------+----------------+---------+----------+--------------------+------------+-------------+--------------+----------+----+------+\n",
      "|    Dt_Ref|Id_Oprc|MODA_SAFRA|   Cd_Sub_Modd|tp_pes|   cpf_cnpj|Dt_Vcmt_Oprc|   cosif|V_Oprc|Pc_Txa_Jurs_Eftv|data_ref|data_venc|Dt_Ref_ant|Id_Oprc_ant|tp_pes_ant|MODA_SAFRA_ant|Cd_Sub_Modd_ant|Dt_Vcmt_Oprc_ant|Cosif_ant|V_Oprc_ant|Pc_Txa_Jurs_Eftv_ant|data_ref_ant|data_venc_ant|V_Sld_Oprc_ant|V_Sld_Oprc| df1|atraso|\n",
      "+----------+-------+----------+--------------+------+-----------+------------+--------+------+----------------+--------+---------+----------+-----------+----------+--------------+---------------+----------------+---------+----------+--------------------+------------+-------------+--------------+----------+----+------+\n",
      "|01.01.2023|      1|    MODA_1| Cd_Sub_Modd_1|     1|11111111111|  10.01.2023| Cosif_1| 800.0|            0.05|01/01/23| 10/01/23|01.01.2023|          1|         1|        MODA_1|  Cd_Sub_Modd_1|      10.01.2023|  Cosif_1|     800.0|                0.05|    01/01/23|     10/01/23|       1000.00|   1000.00|0.00|    -9|\n",
      "|02.01.2023|      2|    MODA_2| Cd_Sub_Modd_2|     2|22222222222|  15.01.2023| Cosif_2|1500.0|            0.06|02/01/23| 15/01/23|02.01.2023|          2|         2|        MODA_2|  Cd_Sub_Modd_2|      15.01.2023|  Cosif_2|    1500.0|                0.06|    02/01/23|     15/01/23|       2000.00|   2000.00|0.00|   -13|\n",
      "|03.01.2023|      3|    MODA_3| Cd_Sub_Modd_3|     1|33333333333|  20.01.2023| Cosif_3|2200.0|            0.07|03/01/23| 20/01/23|03.01.2023|          3|         1|        MODA_3|  Cd_Sub_Modd_3|      20.01.2023|  Cosif_3|    2200.0|                0.07|    03/01/23|     20/01/23|       3000.00|   3000.00|0.00|   -17|\n",
      "|04.01.2023|      4|    MODA_4| Cd_Sub_Modd_4|     2|44444444444|  25.01.2023| Cosif_4|3300.0|            0.08|04/01/23| 25/01/23|04.01.2023|          4|         2|        MODA_4|  Cd_Sub_Modd_4|      25.01.2023|  Cosif_4|    3300.0|                0.08|    04/01/23|     25/01/23|       4000.00|   4000.00|0.00|   -21|\n",
      "|05.01.2023|      5|    MODA_5| Cd_Sub_Modd_5|     1|55555555555|  30.01.2023| Cosif_5|4400.0|            0.09|05/01/23| 30/01/23|05.01.2023|          5|         1|        MODA_5|  Cd_Sub_Modd_5|      30.01.2023|  Cosif_5|    4400.0|                0.09|    05/01/23|     30/01/23|       5000.00|   5000.00|0.00|   -25|\n",
      "|06.01.2023|      6|    MODA_6| Cd_Sub_Modd_6|     2|66666666666|  01.02.2023| Cosif_6|5500.0|             0.1|06/01/23| 01/02/23|06.01.2023|          6|         2|        MODA_6|  Cd_Sub_Modd_6|      01.02.2023|  Cosif_6|    5500.0|                 0.1|    06/01/23|     01/02/23|       6000.00|   6000.00|0.00|   -26|\n",
      "|07.01.2023|      7|    MODA_7| Cd_Sub_Modd_7|     1|77777777777|  05.02.2023| Cosif_7|6600.0|            0.11|07/01/23| 05/02/23|07.01.2023|          7|         1|        MODA_7|  Cd_Sub_Modd_7|      05.02.2023|  Cosif_7|    6600.0|                0.11|    07/01/23|     05/02/23|       7000.00|   7000.00|0.00|   -29|\n",
      "|08.01.2023|      8|    MODA_8| Cd_Sub_Modd_8|     2|88888888888|  10.02.2023| Cosif_8|7700.0|            0.12|08/01/23| 10/02/23|08.01.2023|          8|         2|        MODA_8|  Cd_Sub_Modd_8|      10.02.2023|  Cosif_8|    7700.0|                0.12|    08/01/23|     10/02/23|       8000.00|   8000.00|0.00|   -33|\n",
      "|09.01.2023|      9|    MODA_9| Cd_Sub_Modd_9|     1|99999999999|  15.02.2023| Cosif_9|8800.0|            0.13|09/01/23| 15/02/23|09.01.2023|          9|         1|        MODA_9|  Cd_Sub_Modd_9|      15.02.2023|  Cosif_9|    8800.0|                0.13|    09/01/23|     15/02/23|       9000.00|   9000.00|0.00|   -37|\n",
      "|10.01.2023|     10|   MODA_10|Cd_Sub_Modd_10|     2|10101010101|  20.02.2023|Cosif_10|9900.0|            0.14|10/01/23| 20/02/23|10.01.2023|         10|         2|       MODA_10| Cd_Sub_Modd_10|      20.02.2023| Cosif_10|    9900.0|                0.14|    10/01/23|     20/02/23|      10000.00|  10000.00|0.00|   -41|\n",
      "+----------+-------+----------+--------------+------+-----------+------------+--------+------+----------------+--------+---------+----------+-----------+----------+--------------+---------------+----------------+---------+----------+--------------------+------------+-------------+--------------+----------+----+------+\n",
      "\n"
     ]
    }
   ],
   "source": [
    "df_cadoc_anoant1_mesant1_diaant1.alias(\"a\")\\\n",
    "    .join(df_cadoc_ano1_mes1_dia1.alias(\"b\"), on=\"Id_Oprc\", how=\"left\")\\\n",
    "    .select(\n",
    "            col(\"a.Dt_Ref\"),\n",
    "            col(\"a.Id_Oprc\"),\n",
    "            col(\"a.MODA_SAFRA\"),\n",
    "            col(\"a.Cd_Sub_Modd\"),\n",
    "            col(\"a.tp_pes\"),\n",
    "            col(\"a.cpf_cnpj\"),\n",
    "            col(\"a.Dt_Vcmt_Oprc\"),\n",
    "            col(\"a.cosif\"),\n",
    "            col(\"a.V_Oprc\"),\n",
    "            col(\"a.Pc_Txa_Jurs_Eftv\"),\n",
    "            date_format(to_date(col(\"a.Dt_Ref\"), format=\"dd.MM.yyyy\"), \"dd/MM/yy\").alias(\"data_ref\"),\n",
    "            date_format(to_date(col(\"a.Dt_Vcmt_Oprc\"), format=\"dd.MM.yyyy\"), \"dd/MM/yy\").alias(\"data_venc\"),\n",
    "            col(\"b.Dt_Ref\").alias(\"Dt_Ref_ant\"),\n",
    "            col(\"b.Id_Oprc\").alias(\"Id_Oprc_ant\"),\n",
    "            col(\"b.tp_pes\").alias(\"tp_pes_ant\"),\n",
    "            col(\"b.MODA_SAFRA\").alias(\"MODA_SAFRA_ant\"),\n",
    "            col(\"b.Cd_Sub_Modd\").alias(\"Cd_Sub_Modd_ant\"),\n",
    "            col(\"b.Dt_Vcmt_Oprc\").alias(\"Dt_Vcmt_Oprc_ant\"),\n",
    "            col(\"b.cosif\").alias(\"Cosif_ant\"),\n",
    "            col(\"b.V_Oprc\").alias(\"V_Oprc_ant\"),\n",
    "            col(\"b.Pc_Txa_Jurs_Eftv\").alias(\"Pc_Txa_Jurs_Eftv_ant\"),\n",
    "            date_format(to_date(col(\"b.Dt_Ref\"), format=\"dd.MM.yyyy\"), \"dd/MM/yy\").alias(\"data_ref_ant\"),\n",
    "            date_format(to_date(col(\"b.Dt_Vcmt_Oprc\"), format=\"dd.MM.yyyy\"), \"dd/MM/yy\").alias(\"data_venc_ant\"),\n",
    "            (when(col(\"b.Id_Oprc\")=='',0).otherwise(col(\"b.V_Sld_Oprc\"))).cast(\"decimal(20,2)\").alias(\"V_Sld_Oprc_ant\"),\n",
    "            col(\"a.V_Sld_Oprc\").cast(\"decimal(20,2)\").alias(\"V_Sld_Oprc\"))\\\n",
    "     .withColumn(\"df1\", col(\"V_Sld_Oprc\") - col(\"V_Sld_Oprc_ant\"))\\\n",
    "     .withColumn(\"atraso\", datediff(to_date(col(\"data_ref\"),format=\"dd/MM/yy\"),to_date(col(\"data_venc\"),format=\"dd/MM/yy\")))"
   ]
  }
 ],
 "metadata": {
  "kernelspec": {
   "display_name": "Python 3",
   "language": "python",
   "name": "python3"
  },
  "language_info": {
   "codemirror_mode": {
    "name": "ipython",
    "version": 3
   },
   "file_extension": ".py",
   "mimetype": "text/x-python",
   "name": "python",
   "nbconvert_exporter": "python",
   "pygments_lexer": "ipython3",
   "version": "3.8.10"
  }
 },
 "nbformat": 4,
 "nbformat_minor": 2
}
