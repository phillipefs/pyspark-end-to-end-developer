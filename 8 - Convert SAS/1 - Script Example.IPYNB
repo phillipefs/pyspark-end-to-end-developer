{
 "cells": [
  {
   "cell_type": "code",
   "execution_count": 4,
   "metadata": {},
   "outputs": [],
   "source": [
    "from pyspark.sql import SparkSession\n",
    "from pyspark.sql.functions import *\n",
    "from pyspark.sql.types import StructType, StructField, StringType, DateType, FloatType, IntegerType\n",
    "\n",
    "# Inicialização da sessão do Spark\n",
    "spark = SparkSession.builder.appName(\"Exemplo\").getOrCreate()\n",
    "\n",
    "# Schema para simular os dados\n",
    "schema = StructType([\n",
    "    StructField(\"dt_ref\", StringType(), True),\n",
    "    StructField(\"tp_pes\", StringType(), True),\n",
    "    StructField(\"V_Sld_Oprc\", FloatType(), True),\n",
    "    StructField(\"qtd_Concessao\", IntegerType(), True),\n",
    "    StructField(\"vlr_Concessao\", FloatType(), True),\n",
    "    StructField(\"taxa_efetiva\", FloatType(), True),\n",
    "    StructField(\"Cartao\", StringType(), True)\n",
    "])\n",
    "\n",
    "# Dados simulados\n",
    "data = [\n",
    "    (\"2023-01-01\", \"1\", 1500.0, 1, 500.0, 0.05, \"Em dia\"),\n",
    "    (\"2023-01-01\", \"2\", 2000.0, 2, 800.0, 0.03, \"Atraso\"),\n",
    "    (\"2023-01-02\", \"1\", 1200.0, 1, 600.0, 0.06, \"Em dia\"),\n",
    "    (\"2023-01-02\", \"1\", 1800.0, 1, 700.0, 0.04, \"Atraso\")\n",
    "]\n",
    "\n",
    "# Criar DataFrame simulado\n",
    "df = spark.createDataFrame(data, schema)"
   ]
  },
  {
   "cell_type": "code",
   "execution_count": 14,
   "metadata": {},
   "outputs": [
    {
     "name": "stdout",
     "output_type": "stream",
     "text": [
      "+----------+-------------+----------+-----------------+--------------------+--------------------+-------------------+\n",
      "|    dt_ref|     Segmento|    dt_ref|V_Sld_Oprc_em_dia|qtd_Concessao_em_dia|vlr_Concessao_em_dia|taxa_efetiva_em_dia|\n",
      "+----------+-------------+----------+-----------------+--------------------+--------------------+-------------------+\n",
      "|2023-01-02|  <pesFisica>|2023-01-02|              1.0|                   1|                 1.0|                0.0|\n",
      "|2023-01-01|  <pesFisica>|2023-01-01|              2.0|                   1|                 1.0|                0.0|\n",
      "|2023-01-01|<pesJuridica>|2023-01-01|             null|                null|                null|               null|\n",
      "+----------+-------------+----------+-----------------+--------------------+--------------------+-------------------+\n",
      "\n"
     ]
    }
   ],
   "source": [
    "result = df.groupBy('dt_ref', when(col('tp_pes') == '1', '<pesFisica>').otherwise('<pesJuridica>').alias('Segmento')) \\\n",
    "    .agg(\n",
    "        expr('date_format(dt_ref, \"yyyy-MM-dd\")').alias('dt_ref'),\n",
    "        round(sum(when(col('Cartao') == 'Em dia', col('V_Sld_Oprc')))/1000).alias('V_Sld_Oprc_em_dia'),\n",
    "        sum(when(col('Cartao') == 'Em dia', col('qtd_Concessao'))).alias('qtd_Concessao_em_dia'),\n",
    "        round(sum(when(col('Cartao') == 'Em dia', col('vlr_Concessao')))/1000).alias('vlr_Concessao_em_dia'),\n",
    "        expr('cast(round((sum(CASE WHEN Cartao = \"Em dia\" AND qtd_Concessao = 1 THEN taxa_efetiva ELSE 0 END) / sum(CASE WHEN Cartao = \"Em dia\" AND qtd_Concessao = 1 THEN vlr_Concessao ELSE 0 END)) * 100) as int) / 100').alias('taxa_efetiva_em_dia'),\n",
    "    ).orderBy('Segmento')\n",
    "\n",
    "# Exibir o resultado\n",
    "result.show()"
   ]
  }
 ],
 "metadata": {
  "kernelspec": {
   "display_name": "Python 3",
   "language": "python",
   "name": "python3"
  },
  "language_info": {
   "codemirror_mode": {
    "name": "ipython",
    "version": 3
   },
   "file_extension": ".py",
   "mimetype": "text/x-python",
   "name": "python",
   "nbconvert_exporter": "python",
   "pygments_lexer": "ipython3",
   "version": "3.8.10"
  }
 },
 "nbformat": 4,
 "nbformat_minor": 2
}
