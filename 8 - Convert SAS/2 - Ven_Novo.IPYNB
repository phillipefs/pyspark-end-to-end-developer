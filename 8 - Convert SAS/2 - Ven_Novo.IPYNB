{
 "cells": [
  {
   "cell_type": "code",
   "execution_count": 1,
   "metadata": {},
   "outputs": [
    {
     "name": "stderr",
     "output_type": "stream",
     "text": [
      "24/01/05 13:13:51 WARN Utils: Your hostname, DESKTOP-0KANSSR resolves to a loopback address: 127.0.1.1; using 192.168.226.179 instead (on interface eth0)\n",
      "24/01/05 13:13:51 WARN Utils: Set SPARK_LOCAL_IP if you need to bind to another address\n",
      "24/01/05 13:13:52 WARN NativeCodeLoader: Unable to load native-hadoop library for your platform... using builtin-java classes where applicable\n"
     ]
    }
   ],
   "source": [
    "from pyspark.sql import SparkSession\n",
    "from pyspark.sql.functions import *\n",
    "from pyspark.sql.types import StructType, StructField, StringType, DateType, FloatType, IntegerType\n",
    "import random\n",
    "\n",
    "# Inicialização da sessão do Spark\n",
    "spark = SparkSession.builder.appName(\"Exemplo\").getOrCreate()"
   ]
  },
  {
   "cell_type": "markdown",
   "metadata": {},
   "source": [
    "### Create Base Fake"
   ]
  },
  {
   "cell_type": "code",
   "execution_count": 90,
   "metadata": {},
   "outputs": [],
   "source": [
    "\n",
    "data_2010_2 = []\n",
    "for _ in range(500):\n",
    "    data_2010_2.append((\n",
    "        random.randint(99999999980, 99999999999),\n",
    "        random.choice(['Física', 'Jurídica']),\n",
    "        random.choice(['0000015', '0000016', '0000019', '0000014']),\n",
    "        random.uniform(1000, 10000),\n",
    "        random.choice(['0110', '0120', '0130', '0140', '0150', '0160', '0165', '0170', '0175', '0180', '0190',\n",
    "                       '0199', '0205', '0210', '0220', '0230', '0240', '0245', '0250', '0255', '0260', '0270',\n",
    "                       '0280', '0290', '0310', '0320']),\n",
    "    ))\n",
    "\n",
    "columns = ['CPF_CNPJ', 'tp_pes', 'MODALIDADE', 'VLR_TOT_RISCO', 'COD_FX_VENCIDO']\n",
    "df_2010_2 = spark.createDataFrame(data_2010_2, columns)\n",
    "\n",
    "\n",
    "data_2010_3 = []\n",
    "for _ in range(500):\n",
    "    data_2010_3.append((\n",
    "        random.randint(99999999980, 99999999999),\n",
    "        random.choice(['Física', 'Jurídica']),\n",
    "        random.choice(['0000015', '0000016', '0000019', '0000014']),\n",
    "        random.uniform(1000, 10000),\n",
    "        random.uniform(1000, 10000)\n",
    "    ))\n",
    "\n",
    "columns = ['CPF_CNPJ', 'tp_pes', 'MODALIDADE', 'bxprj12m48m', 'bxprj_12m']\n",
    "df_2010_3 = spark.createDataFrame(data_2010_3, columns)"
   ]
  },
  {
   "cell_type": "code",
   "execution_count": 91,
   "metadata": {},
   "outputs": [],
   "source": [
    "df_BC_FX_VEN_2_2010_2 = df_2010_2.groupBy(\"CPF_CNPJ\", \"tp_pes\", \"MODALIDADE\")\\\n",
    "    .agg(\n",
    "        sum(when(col(\"COD_FX_VENCIDO\") == '0110', col(\"VLR_TOT_RISCO\")).otherwise(lit(0))).alias(\"vcr30\"),\n",
    "        sum(when(col(\"COD_FX_VENCIDO\") == '0120', col(\"VLR_TOT_RISCO\")).otherwise(lit(0))).alias(\"vcr31_60\"),\n",
    "        sum(when(col(\"COD_FX_VENCIDO\") == '0130', col(\"VLR_TOT_RISCO\")).otherwise(lit(0))).alias(\"vcr61_90\"),\n",
    "        sum(when(col(\"COD_FX_VENCIDO\") == '0140', col(\"VLR_TOT_RISCO\")).otherwise(lit(0))).alias(\"vcr91_180\"),\n",
    "        sum(when(col(\"COD_FX_VENCIDO\") == '0150', col(\"VLR_TOT_RISCO\")).otherwise(lit(0))).alias(\"vcr181_360 \"),\n",
    "        sum(when(col(\"COD_FX_VENCIDO\") == '0160', col(\"VLR_TOT_RISCO\")).otherwise(lit(0))).alias(\"vcr361_720\"),\n",
    "        sum(when(col(\"COD_FX_VENCIDO\") == '0165', col(\"VLR_TOT_RISCO\")).otherwise(lit(0))).alias(\"vcr721_1080\"),\n",
    "        sum(when(col(\"COD_FX_VENCIDO\") == '0170', col(\"VLR_TOT_RISCO\")).otherwise(lit(0))).alias(\"vcr1081_1440\"),\n",
    "        sum(when(col(\"COD_FX_VENCIDO\") == '0175', col(\"VLR_TOT_RISCO\")).otherwise(lit(0))).alias(\"vcr1441_1800\"),\n",
    "        sum(when(col(\"COD_FX_VENCIDO\") == '0180', col(\"VLR_TOT_RISCO\")).otherwise(lit(0))).alias(\"vcr1801_5400\"),\n",
    "        sum(when(col(\"COD_FX_VENCIDO\") == '0190', col(\"VLR_TOT_RISCO\")).otherwise(lit(0))).alias(\"vcr_ac_5400\"),\n",
    "        sum(when(col(\"COD_FX_VENCIDO\") == '0199', col(\"VLR_TOT_RISCO\")).otherwise(lit(0))).alias(\"vcr_pr_ind\"),\n",
    "        sum(when(col(\"COD_FX_VENCIDO\") == '0205', col(\"VLR_TOT_RISCO\")).otherwise(lit(0))).alias(\"vcd1_14\"),\n",
    "        sum(when(col(\"COD_FX_VENCIDO\") == '0210', col(\"VLR_TOT_RISCO\")).otherwise(lit(0))).alias(\"vcd15_30\"),\n",
    "        sum(when(col(\"COD_FX_VENCIDO\") == '0220', col(\"VLR_TOT_RISCO\")).otherwise(lit(0))).alias(\"vcd31_60\"),\n",
    "        sum(when(col(\"COD_FX_VENCIDO\") == '0230', col(\"VLR_TOT_RISCO\")).otherwise(lit(0))).alias(\"vcd61_90\"),\n",
    "        sum(when(col(\"COD_FX_VENCIDO\") == '0240', col(\"VLR_TOT_RISCO\")).otherwise(lit(0))).alias(\"vcd91_120\"),\n",
    "        sum(when(col(\"COD_FX_VENCIDO\") == '0245', col(\"VLR_TOT_RISCO\")).otherwise(lit(0))).alias(\"vcd121_150\"),\n",
    "        sum(when(col(\"COD_FX_VENCIDO\") == '0250', col(\"VLR_TOT_RISCO\")).otherwise(lit(0))).alias(\"vcd151_180\"),\n",
    "        sum(when(col(\"COD_FX_VENCIDO\") == '0255', col(\"VLR_TOT_RISCO\")).otherwise(lit(0))).alias(\"vcd181_240\"),\n",
    "        sum(when(col(\"COD_FX_VENCIDO\") == '0260', col(\"VLR_TOT_RISCO\")).otherwise(lit(0))).alias(\"vcd241_300\"),\n",
    "        sum(when(col(\"COD_FX_VENCIDO\") == '0270', col(\"VLR_TOT_RISCO\")).otherwise(lit(0))).alias(\"vcd301_360\"),\n",
    "        sum(when(col(\"COD_FX_VENCIDO\") == '0280', col(\"VLR_TOT_RISCO\")).otherwise(lit(0))).alias(\"vcd361_540\"),\n",
    "        sum(when(col(\"COD_FX_VENCIDO\") == '0290', col(\"VLR_TOT_RISCO\")).otherwise(lit(0))).alias(\"vcd_ac_540\"),\n",
    "        sum(when(col(\"COD_FX_VENCIDO\") == '0310', col(\"VLR_TOT_RISCO\")).otherwise(lit(0))).alias(\"bxprj_12m\"),\n",
    "        sum(when(col(\"COD_FX_VENCIDO\") == '0320', col(\"VLR_TOT_RISCO\")).otherwise(lit(0))).alias(\"bxprj12m48\"),\n",
    "        sum(when(~col(\"COD_FX_VENCIDO\")\\\n",
    "                 .isin('0110','0120','0130','0140','0150','0160','0165','0170','0175','0180','0190','0199',\n",
    "                       '0205','0210','0220','0230','0240','0245','0250','0255','0260','0270',\n",
    "                        '0280','0290','0310','0320'), col(\"VLR_TOT_RISCO\")).otherwise(lit(0))).alias(\"Outros\")        \n",
    "    )"
   ]
  },
  {
   "cell_type": "code",
   "execution_count": 98,
   "metadata": {},
   "outputs": [
    {
     "name": "stdout",
     "output_type": "stream",
     "text": [
      "+-----------+--------+----------+-----------------+------------------+------------------+\n",
      "|   CPF_CNPJ|  tp_pes|MODALIDADE|     COOBRIGACOES|       VLR_LIBERAR|    REPASSE_INTERF|\n",
      "+-----------+--------+----------+-----------------+------------------+------------------+\n",
      "|99999999982|Jurídica|   0000016|             null| 21755.79035980294|              null|\n",
      "|99999999982|  Física|   0000014|             null|              null|24415.341586783743|\n",
      "|99999999993|Jurídica|   0000019|             null|19264.782915312833|              null|\n",
      "|99999999998|  Física|   0000014|             null|              null| 6929.066935142796|\n",
      "|99999999988|  Física|   0000015|8166.736160542138|              null|              null|\n",
      "|99999999985|Jurídica|   0000019|             null|15685.217297429324|              null|\n",
      "|99999999996|Jurídica|   0000016|             null|20062.931616958092|              null|\n",
      "|99999999981|Jurídica|   0000019|             null|12866.150946160036|              null|\n",
      "|99999999980|  Física|   0000015|12316.70049308503|              null|              null|\n",
      "|99999999983|Jurídica|   0000014|             null|              null|21132.461181322094|\n",
      "|99999999983|  Física|   0000014|             null|              null| 4875.494487891854|\n",
      "|99999999981|  Física|   0000016|             null|20769.929888845487|              null|\n",
      "|99999999980|  Física|   0000014|             null|              null|23502.932989274766|\n",
      "|99999999998|  Física|   0000019|             null|35262.570816353444|              null|\n",
      "|99999999995|Jurídica|   0000019|             null|17108.694100488934|              null|\n",
      "|99999999993|Jurídica|   0000016|             null|21769.567378087835|              null|\n",
      "|99999999991|Jurídica|   0000016|             null|22600.996602571584|              null|\n",
      "|99999999990|Jurídica|   0000016|             null|28530.011830024443|              null|\n",
      "|99999999983|Jurídica|   0000019|             null|29160.859593974244|              null|\n",
      "|99999999997|  Física|   0000016|             null|32380.100220199594|              null|\n",
      "+-----------+--------+----------+-----------------+------------------+------------------+\n",
      "only showing top 20 rows\n",
      "\n"
     ]
    }
   ],
   "source": [
    "list_columns = [column for column in df_BC_FX_VEN_2_2010_2.columns if column not in ['CPF_CNPJ', 'tp_pes', 'MODALIDADE']]\n",
    "\n",
    "sum_expr = \" + \".join(f\"`{col}`\" for col in list_columns)\n",
    "\n",
    "df_BC_FX_VEN_2_2010_2.groupBy(\"CPF_CNPJ\", \"tp_pes\", \"MODALIDADE\")\\\n",
    "    .agg(\n",
    "        sum(when(substring(col(\"MODALIDADE\"), 1, 7).isin([\"0000015\"]), expr(sum_expr))).alias(\"COOBRIGACOES\"),\n",
    "        sum(when(substring(col(\"MODALIDADE\"), 1, 7).isin(['0000016','0000019']), expr(sum_expr))).alias(\"VLR_LIBERAR\"),\n",
    "        sum(when(substring(col(\"MODALIDADE\"), 1, 7).isin([\"0000014\"]), expr(sum_expr))).alias(\"REPASSE_INTERF\")\n",
    "    ).show()"
   ]
  }
 ],
 "metadata": {
  "kernelspec": {
   "display_name": "Python 3",
   "language": "python",
   "name": "python3"
  },
  "language_info": {
   "codemirror_mode": {
    "name": "ipython",
    "version": 3
   },
   "file_extension": ".py",
   "mimetype": "text/x-python",
   "name": "python",
   "nbconvert_exporter": "python",
   "pygments_lexer": "ipython3",
   "version": "3.8.10"
  }
 },
 "nbformat": 4,
 "nbformat_minor": 2
}
