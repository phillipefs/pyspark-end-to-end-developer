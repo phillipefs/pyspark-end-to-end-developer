{
 "cells": [
  {
   "cell_type": "code",
   "execution_count": 5,
   "metadata": {},
   "outputs": [],
   "source": [
    "from pyspark.sql import SparkSession\n",
    "from pyspark.sql.functions import *\n",
    "from pyspark.sql.types import *\n",
    "\n",
    "spark = SparkSession \\\n",
    "    .builder \\\n",
    "    .getOrCreate()"
   ]
  },
  {
   "cell_type": "code",
   "execution_count": 6,
   "metadata": {},
   "outputs": [
    {
     "name": "stdout",
     "output_type": "stream",
     "text": [
      "+--------+-------------------+--------------+\n",
      "|order_id|         order_date|new_order_date|\n",
      "+--------+-------------------+--------------+\n",
      "|       1|2013-07-25 00:00:00|    2013-09-13|\n",
      "|       2|2013-07-25 00:00:00|    2013-09-13|\n",
      "|       3|2013-07-25 00:00:00|    2013-09-13|\n",
      "|       4|2013-07-25 00:00:00|    2013-09-13|\n",
      "|       5|2013-07-25 00:00:00|    2013-09-13|\n",
      "+--------+-------------------+--------------+\n",
      "only showing top 5 rows\n",
      "\n"
     ]
    }
   ],
   "source": [
    "df_order = spark.read.csv(\"/home/phillipefs/spark_dev/pyspark-end-to-end-developer/0 - PracticeFiles/Orders\", \n",
    "                        schema=\"order_id INT, order_date timestamp, order_customer_id INT, order_status STRING\")\n",
    "\n",
    "df_order = df_order.withColumn(\"new_order_date\", date_add(\"order_date\", 50)).drop(\"order_customer_id\",\"order_status\")\n",
    "df_order.show(5)"
   ]
  },
  {
   "cell_type": "code",
   "execution_count": 14,
   "metadata": {},
   "outputs": [
    {
     "name": "stdout",
     "output_type": "stream",
     "text": [
      "+--------+-------------------+--------------+--------------------------+-----------+--------------+--------+---------+--------+----------------+-------------+--------------+--------------+--------------------------+\n",
      "|order_id|order_date         |new_order_date|current_date              |next_monday|last_day_month|day_week|day_month|day_year|second_timestamp|min_timestamp|hour_timestamp|year_timestamp|utc_timestamp             |\n",
      "+--------+-------------------+--------------+--------------------------+-----------+--------------+--------+---------+--------+----------------+-------------+--------------+--------------+--------------------------+\n",
      "|1       |2013-07-25 00:00:00|2013-09-13    |2023-06-24 15:11:36.240238|2023-06-26 |2023-06-30    |7       |24       |175     |36              |11           |15            |2023          |2023-06-24 15:11:36.240238|\n",
      "|2       |2013-07-25 00:00:00|2013-09-13    |2023-06-24 15:11:36.240238|2023-06-26 |2023-06-30    |7       |24       |175     |36              |11           |15            |2023          |2023-06-24 15:11:36.240238|\n",
      "|3       |2013-07-25 00:00:00|2013-09-13    |2023-06-24 15:11:36.240238|2023-06-26 |2023-06-30    |7       |24       |175     |36              |11           |15            |2023          |2023-06-24 15:11:36.240238|\n",
      "|4       |2013-07-25 00:00:00|2013-09-13    |2023-06-24 15:11:36.240238|2023-06-26 |2023-06-30    |7       |24       |175     |36              |11           |15            |2023          |2023-06-24 15:11:36.240238|\n",
      "|5       |2013-07-25 00:00:00|2013-09-13    |2023-06-24 15:11:36.240238|2023-06-26 |2023-06-30    |7       |24       |175     |36              |11           |15            |2023          |2023-06-24 15:11:36.240238|\n",
      "+--------+-------------------+--------------+--------------------------+-----------+--------------+--------+---------+--------+----------------+-------------+--------------+--------------+--------------------------+\n",
      "only showing top 5 rows\n",
      "\n"
     ]
    }
   ],
   "source": [
    "df_order\\\n",
    "    .withColumn(\"current_date\", current_date())\\\n",
    "    .withColumn(\"current_date\", current_timestamp())\\\n",
    "    .withColumn(\"next_monday\", next_day(current_date(),'mon'))\\\n",
    "    .withColumn(\"last_day_month\", last_day(current_date()))\\\n",
    "    .withColumn(\"day_week\", dayofweek(current_date()))\\\n",
    "    .withColumn(\"day_month\", dayofmonth(current_date()))\\\n",
    "    .withColumn(\"day_year\", dayofyear(current_date()))\\\n",
    "    .withColumn(\"second_timestamp\", second(current_timestamp()))\\\n",
    "    .withColumn(\"min_timestamp\", minute(current_timestamp()))\\\n",
    "    .withColumn(\"hour_timestamp\", hour(current_timestamp()))\\\n",
    "    .withColumn(\"year_timestamp\", year(current_timestamp()))\\\n",
    "    .withColumn('utc_timestamp', from_utc_timestamp(current_timestamp(), 'UTC'))\\\n",
    "    .show(5, truncate=False)"
   ]
  },
  {
   "cell_type": "code",
   "execution_count": 15,
   "metadata": {},
   "outputs": [
    {
     "name": "stdout",
     "output_type": "stream",
     "text": [
      "+--------+-------------------+--------------+------------+----------+----------+----------+-------------------+--------------+--------------+-------------------+\n",
      "|order_id|         order_date|new_order_date|current_date|  add_days|  sub_days|add_months|         date_trunc|date_to_string|string_to_date|string_to_timestamp|\n",
      "+--------+-------------------+--------------+------------+----------+----------+----------+-------------------+--------------+--------------+-------------------+\n",
      "|       1|2013-07-25 00:00:00|    2013-09-13|  1.61290323|2013-08-04|2013-07-15|2014-05-25|2023-01-01 00:00:00|    24/06/2023|    2023-06-24|2023-06-24 00:00:00|\n",
      "|       2|2013-07-25 00:00:00|    2013-09-13|  1.61290323|2013-08-04|2013-07-15|2014-05-25|2023-01-01 00:00:00|    24/06/2023|    2023-06-24|2023-06-24 00:00:00|\n",
      "|       3|2013-07-25 00:00:00|    2013-09-13|  1.61290323|2013-08-04|2013-07-15|2014-05-25|2023-01-01 00:00:00|    24/06/2023|    2023-06-24|2023-06-24 00:00:00|\n",
      "|       4|2013-07-25 00:00:00|    2013-09-13|  1.61290323|2013-08-04|2013-07-15|2014-05-25|2023-01-01 00:00:00|    24/06/2023|    2023-06-24|2023-06-24 00:00:00|\n",
      "|       5|2013-07-25 00:00:00|    2013-09-13|  1.61290323|2013-08-04|2013-07-15|2014-05-25|2023-01-01 00:00:00|    24/06/2023|    2023-06-24|2023-06-24 00:00:00|\n",
      "+--------+-------------------+--------------+------------+----------+----------+----------+-------------------+--------------+--------------+-------------------+\n",
      "only showing top 5 rows\n",
      "\n"
     ]
    }
   ],
   "source": [
    "df_order\\\n",
    "    .withColumn(\"current_date\", months_between(\"new_order_date\", \"order_date\", roundOff=True))\\\n",
    "    .withColumn(\"add_days\", date_add(\"order_date\", 10))\\\n",
    "    .withColumn(\"sub_days\", date_sub(\"order_date\", 10))\\\n",
    "    .withColumn(\"add_months\", add_months(\"order_date\", 10))\\\n",
    "    .withColumn(\"date_trunc\", date_trunc('year',current_date()))\\\n",
    "    .withColumn(\"date_to_string\", date_format(current_date(), format='dd/MM/yyyy'))\\\n",
    "    .withColumn(\"string_to_date\", to_date(\"date_to_string\", format='dd/MM/yyyy'))\\\n",
    "    .withColumn(\"string_to_timestamp\", to_timestamp(\"date_to_string\", format='dd/MM/yyyy'))\\\n",
    "    .show(5)"
   ]
  }
 ],
 "metadata": {
  "kernelspec": {
   "display_name": "Python 3",
   "language": "python",
   "name": "python3"
  },
  "language_info": {
   "codemirror_mode": {
    "name": "ipython",
    "version": 3
   },
   "file_extension": ".py",
   "mimetype": "text/x-python",
   "name": "python",
   "nbconvert_exporter": "python",
   "pygments_lexer": "ipython3",
   "version": "3.8.10"
  },
  "orig_nbformat": 4
 },
 "nbformat": 4,
 "nbformat_minor": 2
}
