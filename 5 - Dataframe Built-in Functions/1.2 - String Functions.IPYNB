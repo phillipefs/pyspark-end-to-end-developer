{
 "cells": [
  {
   "cell_type": "code",
   "execution_count": 4,
   "metadata": {},
   "outputs": [],
   "source": [
    "from pyspark.sql import SparkSession\n",
    "from pyspark.sql.functions import *\n",
    "from pyspark.sql.types import *\n",
    "\n",
    "spark = SparkSession \\\n",
    "    .builder \\\n",
    "    .getOrCreate()"
   ]
  },
  {
   "attachments": {},
   "cell_type": "markdown",
   "metadata": {},
   "source": [
    "Create Dataframe"
   ]
  },
  {
   "cell_type": "code",
   "execution_count": 8,
   "metadata": {},
   "outputs": [
    {
     "name": "stdout",
     "output_type": "stream",
     "text": [
      "+--------+---------------------+-----------------+---------------+\n",
      "|order_id|order_date           |order_customer_id|order_status   |\n",
      "+--------+---------------------+-----------------+---------------+\n",
      "|1       |2013-07-25 00:00:00.0|11599            |CLOSED         |\n",
      "|2       |2013-07-25 00:00:00.0|256              |PENDING_PAYMENT|\n",
      "|3       |2013-07-25 00:00:00.0|12111            |COMPLETE       |\n",
      "+--------+---------------------+-----------------+---------------+\n",
      "only showing top 3 rows\n",
      "\n"
     ]
    }
   ],
   "source": [
    "df_ord = spark.read.csv(\n",
    "    path=\"/home/phillipefs/spark_dev/pyspark-end-to-end-developer/0 - PracticeFiles/Orders\", \n",
    "    schema=\"order_id INT, order_date STRING, order_customer_id INT, order_status STRING\")\n",
    "df_ord.show(3, truncate=False)"
   ]
  },
  {
   "attachments": {},
   "cell_type": "markdown",
   "metadata": {},
   "source": [
    "split()"
   ]
  },
  {
   "cell_type": "code",
   "execution_count": 12,
   "metadata": {},
   "outputs": [
    {
     "name": "stdout",
     "output_type": "stream",
     "text": [
      "+--------+---------------------+-----------------+---------------+-------------------------+----+\n",
      "|order_id|order_date           |order_customer_id|order_status   |split_date               |year|\n",
      "+--------+---------------------+-----------------+---------------+-------------------------+----+\n",
      "|1       |2013-07-25 00:00:00.0|11599            |CLOSED         |[2013, 07, 25 00:00:00.0]|2013|\n",
      "|2       |2013-07-25 00:00:00.0|256              |PENDING_PAYMENT|[2013, 07, 25 00:00:00.0]|2013|\n",
      "|3       |2013-07-25 00:00:00.0|12111            |COMPLETE       |[2013, 07, 25 00:00:00.0]|2013|\n",
      "+--------+---------------------+-----------------+---------------+-------------------------+----+\n",
      "only showing top 3 rows\n",
      "\n"
     ]
    }
   ],
   "source": [
    "df_ord\\\n",
    "    .withColumn(\"split_date\", split(\"order_date\", '-'))\\\n",
    "    .withColumn(\"year\", col(\"split_date\")[0])\\\n",
    "    .show(3, truncate=False)"
   ]
  },
  {
   "cell_type": "code",
   "execution_count": 14,
   "metadata": {},
   "outputs": [
    {
     "name": "stdout",
     "output_type": "stream",
     "text": [
      "+--------------------+\n",
      "|split(s, [0-9]+, -1)|\n",
      "+--------------------+\n",
      "|      [ab, cd, fe, ]|\n",
      "+--------------------+\n",
      "\n"
     ]
    }
   ],
   "source": [
    "df = spark.createDataFrame([('ab12cd23fe23',)],['s',])\n",
    "df.select(split('s', '[0-9]+')).show()"
   ]
  },
  {
   "attachments": {},
   "cell_type": "markdown",
   "metadata": {},
   "source": [
    "length(col)"
   ]
  },
  {
   "cell_type": "code",
   "execution_count": 17,
   "metadata": {},
   "outputs": [
    {
     "name": "stdout",
     "output_type": "stream",
     "text": [
      "+--------+--------------------+-----------------+---------------+-----------+\n",
      "|order_id|          order_date|order_customer_id|   order_status|size_status|\n",
      "+--------+--------------------+-----------------+---------------+-----------+\n",
      "|       1|2013-07-25 00:00:...|            11599|         CLOSED|          6|\n",
      "|       2|2013-07-25 00:00:...|              256|PENDING_PAYMENT|         15|\n",
      "|       3|2013-07-25 00:00:...|            12111|       COMPLETE|          8|\n",
      "+--------+--------------------+-----------------+---------------+-----------+\n",
      "only showing top 3 rows\n",
      "\n"
     ]
    }
   ],
   "source": [
    "df_ord\\\n",
    "    .withColumn(\"size_status\", length(\"order_status\"))\\\n",
    "    .show(3)"
   ]
  },
  {
   "attachments": {},
   "cell_type": "markdown",
   "metadata": {},
   "source": [
    "lower(col), upper(col), initcap(col)"
   ]
  },
  {
   "cell_type": "code",
   "execution_count": 18,
   "metadata": {},
   "outputs": [
    {
     "name": "stdout",
     "output_type": "stream",
     "text": [
      "+--------+--------------------+-----------------+---------------+---------------+---------------+---------------+\n",
      "|order_id|          order_date|order_customer_id|   order_status|   lower_status|   upper_status| initcap_status|\n",
      "+--------+--------------------+-----------------+---------------+---------------+---------------+---------------+\n",
      "|       1|2013-07-25 00:00:...|            11599|         CLOSED|         closed|         CLOSED|         Closed|\n",
      "|       2|2013-07-25 00:00:...|              256|PENDING_PAYMENT|pending_payment|PENDING_PAYMENT|Pending_payment|\n",
      "|       3|2013-07-25 00:00:...|            12111|       COMPLETE|       complete|       COMPLETE|       Complete|\n",
      "+--------+--------------------+-----------------+---------------+---------------+---------------+---------------+\n",
      "only showing top 3 rows\n",
      "\n"
     ]
    }
   ],
   "source": [
    "df_ord\\\n",
    "    .withColumn(\"lower_status\", lower(\"order_status\"))\\\n",
    "    .withColumn(\"upper_status\", upper(\"order_status\"))\\\n",
    "    .withColumn(\"initcap_status\", initcap(\"order_status\"))\\\n",
    "    .show(3)"
   ]
  },
  {
   "attachments": {},
   "cell_type": "markdown",
   "metadata": {},
   "source": [
    "ltrim(col), rtrim(col), trim(col)"
   ]
  },
  {
   "cell_type": "code",
   "execution_count": 23,
   "metadata": {},
   "outputs": [
    {
     "name": "stdout",
     "output_type": "stream",
     "text": [
      "+---------------------+----------------+--------------+---------+\n",
      "|col1                 |l_trim          |r_trim        |trim     |\n",
      "+---------------------+----------------+--------------+---------+\n",
      "|     spark           |spark           |     spark    |spark    |\n",
      "|     developer       |developer       |     developer|developer|\n",
      "+---------------------+----------------+--------------+---------+\n",
      "\n"
     ]
    }
   ],
   "source": [
    "df = spark.createDataFrame([('     spark ',), ('     developer       ',)], schema=['col1'])\n",
    "df.withColumn(\"l_trim\", ltrim(\"col1\"))\\\n",
    "    .withColumn(\"r_trim\", rtrim(\"col1\"))\\\n",
    "    .withColumn(\"trim\", trim(\"col1\"))\\\n",
    "    .show(truncate=False)"
   ]
  },
  {
   "attachments": {},
   "cell_type": "markdown",
   "metadata": {},
   "source": [
    "lpad()"
   ]
  },
  {
   "cell_type": "code",
   "execution_count": 29,
   "metadata": {},
   "outputs": [
    {
     "name": "stdout",
     "output_type": "stream",
     "text": [
      "+--------+---------------------+-----------------+---------------+----------+\n",
      "|order_id|order_date           |order_customer_id|order_status   |pading    |\n",
      "+--------+---------------------+-----------------+---------------+----------+\n",
      "|1       |2013-07-25 00:00:00.0|11599            |CLOSED         |0000011599|\n",
      "|2       |2013-07-25 00:00:00.0|256              |PENDING_PAYMENT|0000000256|\n",
      "|3       |2013-07-25 00:00:00.0|12111            |COMPLETE       |0000012111|\n",
      "+--------+---------------------+-----------------+---------------+----------+\n",
      "only showing top 3 rows\n",
      "\n"
     ]
    }
   ],
   "source": [
    "df_ord.withColumn(\"pading\", lpad(\"order_customer_id\", 10, '0')).show(3,truncate=False)"
   ]
  },
  {
   "attachments": {},
   "cell_type": "markdown",
   "metadata": {},
   "source": [
    "concat(*col) and concat_ws(sep, *cols)"
   ]
  },
  {
   "cell_type": "code",
   "execution_count": 34,
   "metadata": {},
   "outputs": [
    {
     "name": "stdout",
     "output_type": "stream",
     "text": [
      "+--------+--------------------+-----------------+---------------+----------------+-----------------+\n",
      "|order_id|          order_date|order_customer_id|   order_status|          concat|        concat_ws|\n",
      "+--------+--------------------+-----------------+---------------+----------------+-----------------+\n",
      "|       1|2013-07-25 00:00:...|            11599|         CLOSED|         1CLOSED|         1 CLOSED|\n",
      "|       2|2013-07-25 00:00:...|              256|PENDING_PAYMENT|2PENDING_PAYMENT|2 PENDING_PAYMENT|\n",
      "|       3|2013-07-25 00:00:...|            12111|       COMPLETE|       3COMPLETE|       3 COMPLETE|\n",
      "+--------+--------------------+-----------------+---------------+----------------+-----------------+\n",
      "only showing top 3 rows\n",
      "\n"
     ]
    }
   ],
   "source": [
    "df_ord\\\n",
    "    .withColumn(\"concat\", concat(col(\"order_id\"),col(\"order_status\")))\\\n",
    "    .withColumn(\"concat_ws\", concat_ws(\" \",col(\"order_id\"),col(\"order_status\")))\\\n",
    "    .show(3)"
   ]
  },
  {
   "attachments": {},
   "cell_type": "markdown",
   "metadata": {},
   "source": [
    "- substring(str,pos,len) and \n",
    "- substring_index(str, delim, count)\n",
    "- instr(str, substr)\n",
    "- locate(substr, str, pos=1)"
   ]
  },
  {
   "cell_type": "code",
   "execution_count": 59,
   "metadata": {},
   "outputs": [
    {
     "name": "stdout",
     "output_type": "stream",
     "text": [
      "+--------+--------------------+-----------------+---------------+----------+-----+-----+------+\n",
      "|order_id|          order_date|order_customer_id|   order_status|order_year|dummy|instr|locate|\n",
      "+--------+--------------------+-----------------+---------------+----------+-----+-----+------+\n",
      "|       1|2013-07-25 00:00:...|            11599|         CLOSED|      2013| 2013|    3|     6|\n",
      "|       2|2013-07-25 00:00:...|              256|PENDING_PAYMENT|      2013| 2013|    0|     6|\n",
      "|       3|2013-07-25 00:00:...|            12111|       COMPLETE|      2013| 2013|    2|     6|\n",
      "+--------+--------------------+-----------------+---------------+----------+-----+-----+------+\n",
      "only showing top 3 rows\n",
      "\n"
     ]
    }
   ],
   "source": [
    "df_ord\\\n",
    "    .withColumn(\"order_year\", substring(\"order_date\", 0, 4))\\\n",
    "    .withColumn(\"dummy\", substring_index(\"order_date\", \"-\",1))\\\n",
    "    .withColumn(\"instr\", instr(col(\"order_status\"), \"O\"))\\\n",
    "    .withColumn(\"locate\", locate(\"0\", col(\"order_date\"),3))\\\n",
    "    .show(3)"
   ]
  }
 ],
 "metadata": {
  "kernelspec": {
   "display_name": "Python 3",
   "language": "python",
   "name": "python3"
  },
  "language_info": {
   "codemirror_mode": {
    "name": "ipython",
    "version": 3
   },
   "file_extension": ".py",
   "mimetype": "text/x-python",
   "name": "python",
   "nbconvert_exporter": "python",
   "pygments_lexer": "ipython3",
   "version": "3.8.10"
  },
  "orig_nbformat": 4
 },
 "nbformat": 4,
 "nbformat_minor": 2
}
