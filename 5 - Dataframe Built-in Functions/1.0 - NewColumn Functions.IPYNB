{
 "cells": [
  {
   "cell_type": "code",
   "execution_count": 4,
   "metadata": {},
   "outputs": [],
   "source": [
    "from pyspark.sql import SparkSession\n",
    "from pyspark.sql.functions import *\n",
    "from pyspark.sql.types import *\n",
    "\n",
    "spark = SparkSession \\\n",
    "    .builder \\\n",
    "    .getOrCreate()"
   ]
  },
  {
   "attachments": {},
   "cell_type": "markdown",
   "metadata": {},
   "source": [
    "Create Dataframe"
   ]
  },
  {
   "cell_type": "code",
   "execution_count": 5,
   "metadata": {},
   "outputs": [
    {
     "name": "stdout",
     "output_type": "stream",
     "text": [
      "+-------+---------+-----+------+---+\n",
      "|empname|     dept|state|salary|age|\n",
      "+-------+---------+-----+------+---+\n",
      "|  James|    Sales|   NY|  9000| 34|\n",
      "| Alicia|    Sales|   NY|  8600| 56|\n",
      "| Robert|    Sales|   CA|  8100| 30|\n",
      "|   John|    Sales|   AZ|  8600| 30|\n",
      "|   Ross|    Sales|   AZ|  8100| 33|\n",
      "|  Khaty|    Sales|   AZ|  1000| 39|\n",
      "|   Lisa|  Finance|   CA|  9000| 24|\n",
      "|   Deja|  Finance|   CA|  9900| 40|\n",
      "|  Sugie|  Finance|   NY|  8300| 36|\n",
      "|    Ram|  Finance|   NY|  7900| 53|\n",
      "|  Sugie|  Finance|   NY|  8300| 36|\n",
      "|   Kyle|Marketing|   CA|  8000| 25|\n",
      "|   Reid|Marketing|   NY|  9100| 50|\n",
      "+-------+---------+-----+------+---+\n",
      "\n"
     ]
    }
   ],
   "source": [
    "data = ((\"James\",\"Sales\",\"NY\",9000,34),\n",
    "(\"Alicia\",\"Sales\",\"NY\",8600,56),\n",
    "(\"Robert\",\"Sales\",\"CA\",8100,30),\n",
    "(\"John\",\"Sales\",\"AZ\",8600,30),\n",
    "(\"Ross\",\"Sales\",\"AZ\",8100,33),\n",
    "(\"Khaty\",\"Sales\",\"AZ\",1000,39),\n",
    "(\"Lisa\",\"Finance\",\"CA\",9000,24),\n",
    "(\"Deja\",\"Finance\",\"CA\",9900,40),\n",
    "(\"Sugie\",\"Finance\",\"NY\",8300,36),\n",
    "(\"Ram\",\"Finance\",\"NY\",7900,53),\n",
    "(\"Sugie\",\"Finance\",\"NY\",8300,36),\n",
    "(\"Kyle\",\"Marketing\",\"CA\",8000,25),\n",
    "(\"Reid\",\"Marketing\",\"NY\",9100,50))\n",
    "\n",
    "schema=(\"empname\", \"dept\", \"state\",\"salary\",\"age\")\n",
    "df = spark.createDataFrame (data,schema =schema)\n",
    "df.show()"
   ]
  },
  {
   "attachments": {},
   "cell_type": "markdown",
   "metadata": {},
   "source": [
    "monotonically_increasing_id()\n",
    "\n",
    "ps: unique id but not sequencial"
   ]
  },
  {
   "cell_type": "code",
   "execution_count": 27,
   "metadata": {},
   "outputs": [
    {
     "name": "stdout",
     "output_type": "stream",
     "text": [
      "+-------+---------+-----+------+---+-----------+\n",
      "|empname|     dept|state|salary|age|         id|\n",
      "+-------+---------+-----+------+---+-----------+\n",
      "|  James|    Sales|   NY|  9000| 34|          0|\n",
      "| Alicia|    Sales|   NY|  8600| 56| 8589934592|\n",
      "| Robert|    Sales|   CA|  8100| 30|17179869184|\n",
      "|   John|    Sales|   AZ|  8600| 30|25769803776|\n",
      "|   Ross|    Sales|   AZ|  8100| 33|34359738368|\n",
      "|  Khaty|    Sales|   AZ|  1000| 39|42949672960|\n",
      "|   Lisa|  Finance|   CA|  9000| 24|51539607552|\n",
      "|   Deja|  Finance|   CA|  9900| 40|60129542144|\n",
      "|  Sugie|  Finance|   NY|  8300| 36|68719476736|\n",
      "|    Ram|  Finance|   NY|  7900| 53|77309411328|\n",
      "|  Sugie|  Finance|   NY|  8300| 36|85899345920|\n",
      "|   Kyle|Marketing|   CA|  8000| 25|94489280512|\n",
      "|   Reid|Marketing|   NY|  9100| 50|94489280513|\n",
      "+-------+---------+-----+------+---+-----------+\n",
      "\n"
     ]
    }
   ],
   "source": [
    "df.withColumn(\"id\", monotonically_increasing_id()).show()"
   ]
  },
  {
   "attachments": {},
   "cell_type": "markdown",
   "metadata": {},
   "source": [
    "lit()\n",
    "- Create static column"
   ]
  },
  {
   "cell_type": "code",
   "execution_count": 43,
   "metadata": {},
   "outputs": [
    {
     "name": "stdout",
     "output_type": "stream",
     "text": [
      "+-------+---------+-----+------+---+-------+\n",
      "|empname|     dept|state|salary|age|country|\n",
      "+-------+---------+-----+------+---+-------+\n",
      "|  James|    Sales|   NY|  9000| 34|    USA|\n",
      "| Alicia|    Sales|   NY|  8600| 56|    USA|\n",
      "| Robert|    Sales|   CA|  8100| 30|    USA|\n",
      "|   John|    Sales|   AZ|  8600| 30|    USA|\n",
      "|   Ross|    Sales|   AZ|  8100| 33|    USA|\n",
      "|  Khaty|    Sales|   AZ|  1000| 39|    USA|\n",
      "|   Lisa|  Finance|   CA|  9000| 24|    USA|\n",
      "|   Deja|  Finance|   CA|  9900| 40|    USA|\n",
      "|  Sugie|  Finance|   NY|  8300| 36|    USA|\n",
      "|    Ram|  Finance|   NY|  7900| 53|    USA|\n",
      "|  Sugie|  Finance|   NY|  8300| 36|    USA|\n",
      "|   Kyle|Marketing|   CA|  8000| 25|    USA|\n",
      "|   Reid|Marketing|   NY|  9100| 50|    USA|\n",
      "+-------+---------+-----+------+---+-------+\n",
      "\n"
     ]
    }
   ],
   "source": [
    "df.withColumn(\"country\", lit(\"USA\")).show()"
   ]
  },
  {
   "attachments": {},
   "cell_type": "markdown",
   "metadata": {},
   "source": [
    "concat()"
   ]
  },
  {
   "cell_type": "code",
   "execution_count": 47,
   "metadata": {},
   "outputs": [
    {
     "name": "stdout",
     "output_type": "stream",
     "text": [
      "+-----------------+\n",
      "|concat_salary_age|\n",
      "+-----------------+\n",
      "|          9000|34|\n",
      "+-----------------+\n",
      "only showing top 1 row\n",
      "\n"
     ]
    }
   ],
   "source": [
    "df.select(concat(\"salary\", lit(\"|\"), \"age\").alias(\"concat_salary_age\")).show(1)"
   ]
  },
  {
   "attachments": {},
   "cell_type": "markdown",
   "metadata": {},
   "source": [
    "expr(str)"
   ]
  },
  {
   "cell_type": "code",
   "execution_count": 72,
   "metadata": {},
   "outputs": [
    {
     "name": "stdout",
     "output_type": "stream",
     "text": [
      "+-------+---------+-----+------+---+-----------+--------------+--------+------+\n",
      "|empname|     dept|state|salary|age|empname_len|      emp-dept|age_desc|age_10|\n",
      "+-------+---------+-----+------+---+-----------+--------------+--------+------+\n",
      "|  James|    Sales|   NY|  9000| 34|          5|   James-Sales|   ADULT|    44|\n",
      "| Alicia|    Sales|   NY|  8600| 56|          6|  Alicia-Sales|  SENIOR|    66|\n",
      "| Robert|    Sales|   CA|  8100| 30|          6|  Robert-Sales|   ADULT|    40|\n",
      "|   John|    Sales|   AZ|  8600| 30|          4|    John-Sales|   ADULT|    40|\n",
      "|   Ross|    Sales|   AZ|  8100| 33|          4|    Ross-Sales|   ADULT|    43|\n",
      "|  Khaty|    Sales|   AZ|  1000| 39|          5|   Khaty-Sales|   ADULT|    49|\n",
      "|   Lisa|  Finance|   CA|  9000| 24|          4|  Lisa-Finance|   ADULT|    34|\n",
      "|   Deja|  Finance|   CA|  9900| 40|          4|  Deja-Finance|   ADULT|    50|\n",
      "|  Sugie|  Finance|   NY|  8300| 36|          5| Sugie-Finance|   ADULT|    46|\n",
      "|    Ram|  Finance|   NY|  7900| 53|          3|   Ram-Finance|  SENIOR|    63|\n",
      "|  Sugie|  Finance|   NY|  8300| 36|          5| Sugie-Finance|   ADULT|    46|\n",
      "|   Kyle|Marketing|   CA|  8000| 25|          4|Kyle-Marketing|   ADULT|    35|\n",
      "|   Reid|Marketing|   NY|  9100| 50|          4|Reid-Marketing|   ADULT|    60|\n",
      "+-------+---------+-----+------+---+-----------+--------------+--------+------+\n",
      "\n"
     ]
    }
   ],
   "source": [
    "df.withColumn(\"empname_len\", expr(\"length(empname)\"))\\\n",
    "    .withColumn(\"emp-dept\", expr(\"empname || '-' || dept\"))\\\n",
    "    .withColumn(\"age_desc\",expr(\"CASE WHEN age > 50 then 'SENIOR' else 'ADULT' END\"))\\\n",
    "    .withColumn(\"age_10\",expr(\"age + 10 as age_10\"))\\\n",
    "    .show()"
   ]
  },
  {
   "attachments": {},
   "cell_type": "markdown",
   "metadata": {},
   "source": [
    "spark_partition_id()"
   ]
  },
  {
   "cell_type": "code",
   "execution_count": 76,
   "metadata": {},
   "outputs": [
    {
     "name": "stdout",
     "output_type": "stream",
     "text": [
      "+-------+---------+-----+------+---+------------+\n",
      "|empname|     dept|state|salary|age|partition_id|\n",
      "+-------+---------+-----+------+---+------------+\n",
      "|  James|    Sales|   NY|  9000| 34|           0|\n",
      "| Alicia|    Sales|   NY|  8600| 56|           1|\n",
      "| Robert|    Sales|   CA|  8100| 30|           2|\n",
      "|   John|    Sales|   AZ|  8600| 30|           3|\n",
      "|   Ross|    Sales|   AZ|  8100| 33|           4|\n",
      "|  Khaty|    Sales|   AZ|  1000| 39|           5|\n",
      "|   Lisa|  Finance|   CA|  9000| 24|           6|\n",
      "|   Deja|  Finance|   CA|  9900| 40|           7|\n",
      "|  Sugie|  Finance|   NY|  8300| 36|           8|\n",
      "|    Ram|  Finance|   NY|  7900| 53|           9|\n",
      "|  Sugie|  Finance|   NY|  8300| 36|          10|\n",
      "|   Kyle|Marketing|   CA|  8000| 25|          11|\n",
      "|   Reid|Marketing|   NY|  9100| 50|          11|\n",
      "+-------+---------+-----+------+---+------------+\n",
      "\n"
     ]
    }
   ],
   "source": [
    "df.rdd.getNumPartitions()\n",
    "df.withColumn(\"partition_id\", spark_partition_id()).show()"
   ]
  }
 ],
 "metadata": {
  "kernelspec": {
   "display_name": "Python 3",
   "language": "python",
   "name": "python3"
  },
  "language_info": {
   "codemirror_mode": {
    "name": "ipython",
    "version": 3
   },
   "file_extension": ".py",
   "mimetype": "text/x-python",
   "name": "python",
   "nbconvert_exporter": "python",
   "pygments_lexer": "ipython3",
   "version": "3.8.10"
  },
  "orig_nbformat": 4
 },
 "nbformat": 4,
 "nbformat_minor": 2
}
