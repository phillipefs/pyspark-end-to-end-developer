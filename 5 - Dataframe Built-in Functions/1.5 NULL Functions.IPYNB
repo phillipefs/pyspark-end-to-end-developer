{
 "cells": [
  {
   "cell_type": "code",
   "execution_count": 4,
   "metadata": {},
   "outputs": [],
   "source": [
    "from pyspark.sql import SparkSession\n",
    "from pyspark.sql.functions import *\n",
    "from pyspark.sql.types import *\n",
    "\n",
    "spark = SparkSession \\\n",
    "    .builder \\\n",
    "    .getOrCreate()"
   ]
  },
  {
   "attachments": {},
   "cell_type": "markdown",
   "metadata": {},
   "source": [
    "Create Dataframe"
   ]
  },
  {
   "cell_type": "code",
   "execution_count": 6,
   "metadata": {},
   "outputs": [
    {
     "name": "stdout",
     "output_type": "stream",
     "text": [
      "+------+----+-----+-----+\n",
      "|  name|  id|phone|stAdd|\n",
      "+------+----+-----+-----+\n",
      "|Robert|   1| null|114.0|\n",
      "|  John|null| 2577|  NaN|\n",
      "+------+----+-----+-----+\n",
      "\n"
     ]
    }
   ],
   "source": [
    "df = spark.createDataFrame([('Robert', 1, None, 114.0), ('John', None, 2577, float('nan'))], ('name', 'id', 'phone', 'stAdd'))\n",
    "df.show()"
   ]
  },
  {
   "attachments": {},
   "cell_type": "markdown",
   "metadata": {},
   "source": [
    "isnull(col) -> Return True if the col is null"
   ]
  },
  {
   "cell_type": "code",
   "execution_count": 14,
   "metadata": {},
   "outputs": [
    {
     "name": "stdout",
     "output_type": "stream",
     "text": [
      "+-----+---------------+\n",
      "|phone|(phone IS NULL)|\n",
      "+-----+---------------+\n",
      "| null|           true|\n",
      "| 2577|          false|\n",
      "+-----+---------------+\n",
      "\n"
     ]
    }
   ],
   "source": [
    "df.select('phone',isnull('phone')).show()"
   ]
  },
  {
   "attachments": {},
   "cell_type": "markdown",
   "metadata": {},
   "source": [
    "isnan(col) -> Return true if the column is NaN"
   ]
  },
  {
   "cell_type": "code",
   "execution_count": 15,
   "metadata": {},
   "outputs": [
    {
     "name": "stdout",
     "output_type": "stream",
     "text": [
      "+-----+---------------+\n",
      "|phone|(phone IS NULL)|\n",
      "+-----+---------------+\n",
      "| null|           true|\n",
      "| 2577|          false|\n",
      "+-----+---------------+\n",
      "\n"
     ]
    }
   ],
   "source": [
    "df.select('phone',isnull('phone')).show()"
   ]
  },
  {
   "attachments": {},
   "cell_type": "markdown",
   "metadata": {},
   "source": [
    "nanvl(col1, col2) -> Returns col 1 if it is not NaN or col2 if col1 is NaN"
   ]
  },
  {
   "cell_type": "code",
   "execution_count": 17,
   "metadata": {},
   "outputs": [
    {
     "name": "stdout",
     "output_type": "stream",
     "text": [
      "+-----+-----+-------------------+\n",
      "|stAdd|phone|nanvl(stAdd, phone)|\n",
      "+-----+-----+-------------------+\n",
      "|114.0| null|              114.0|\n",
      "|  NaN| 2577|             2577.0|\n",
      "+-----+-----+-------------------+\n",
      "\n"
     ]
    }
   ],
   "source": [
    "df.select('stAdd', 'phone', nanvl('stAdd', 'phone')).show()"
   ]
  },
  {
   "attachments": {},
   "cell_type": "markdown",
   "metadata": {},
   "source": [
    "coalesce(*cols) -> Return the first column that is not null"
   ]
  },
  {
   "cell_type": "code",
   "execution_count": 18,
   "metadata": {},
   "outputs": [
    {
     "name": "stdout",
     "output_type": "stream",
     "text": [
      "+-----+-----+----------------------+\n",
      "|phone|stAdd|coalesce(phone, stAdd)|\n",
      "+-----+-----+----------------------+\n",
      "| null|114.0|                 114.0|\n",
      "| 2577|  NaN|                2577.0|\n",
      "+-----+-----+----------------------+\n",
      "\n"
     ]
    }
   ],
   "source": [
    "df.select('phone', 'stAdd', coalesce('phone', 'stAdd')).show()"
   ]
  },
  {
   "attachments": {},
   "cell_type": "markdown",
   "metadata": {},
   "source": [
    "Replace NaN Default Value"
   ]
  },
  {
   "cell_type": "code",
   "execution_count": 27,
   "metadata": {},
   "outputs": [
    {
     "name": "stdout",
     "output_type": "stream",
     "text": [
      "+------+----+-----+-----+\n",
      "|  name|  id|phone|stAdd|\n",
      "+------+----+-----+-----+\n",
      "|Robert|   1| null|114.0|\n",
      "|  John|null| 2577|  0.0|\n",
      "+------+----+-----+-----+\n",
      "\n",
      "+------+---+-----+-----+\n",
      "|  name| id|phone|stAdd|\n",
      "+------+---+-----+-----+\n",
      "|Robert|  1| null|114.0|\n",
      "|  John|  0| 2577|  NaN|\n",
      "+------+---+-----+-----+\n",
      "\n"
     ]
    }
   ],
   "source": [
    "df.na.fill(0, subset=['stAdd']).show()\n",
    "df.na.fill(0, subset=['id']).show()"
   ]
  }
 ],
 "metadata": {
  "kernelspec": {
   "display_name": "Python 3",
   "language": "python",
   "name": "python3"
  },
  "language_info": {
   "codemirror_mode": {
    "name": "ipython",
    "version": 3
   },
   "file_extension": ".py",
   "mimetype": "text/x-python",
   "name": "python",
   "nbconvert_exporter": "python",
   "pygments_lexer": "ipython3",
   "version": "3.8.10"
  },
  "orig_nbformat": 4
 },
 "nbformat": 4,
 "nbformat_minor": 2
}
