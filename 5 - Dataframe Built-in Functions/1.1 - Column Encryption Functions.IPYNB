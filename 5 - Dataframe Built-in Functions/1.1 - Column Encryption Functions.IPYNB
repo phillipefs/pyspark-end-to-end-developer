{
 "cells": [
  {
   "cell_type": "code",
   "execution_count": 3,
   "metadata": {},
   "outputs": [],
   "source": [
    "from pyspark.sql import SparkSession\n",
    "from pyspark.sql.functions import *\n",
    "from pyspark.sql.types import *\n",
    "\n",
    "spark = SparkSession \\\n",
    "    .builder \\\n",
    "    .getOrCreate()"
   ]
  },
  {
   "attachments": {},
   "cell_type": "markdown",
   "metadata": {},
   "source": [
    "Create Dataframe"
   ]
  },
  {
   "cell_type": "code",
   "execution_count": 84,
   "metadata": {},
   "outputs": [
    {
     "name": "stdout",
     "output_type": "stream",
     "text": [
      "+-------+---------+-----+------+---+\n",
      "|empname|     dept|state|salary|age|\n",
      "+-------+---------+-----+------+---+\n",
      "|  James|    Sales|   NY|  9000| 34|\n",
      "| Alicia|    Sales|   NY|  8600| 56|\n",
      "| Robert|    Sales|   CA|  8100| 30|\n",
      "|   John|    Sales|   AZ|  8600| 30|\n",
      "|   Ross|    Sales|   AZ|  8100| 33|\n",
      "|  Khaty|    Sales|   AZ|  1000| 39|\n",
      "|   Lisa|  Finance|   CA|  9000| 24|\n",
      "|   Deja|  Finance|   CA|  9900| 40|\n",
      "|  Sugie|  Finance|   NY|  8300| 36|\n",
      "|    Ram|  Finance|   NY|  7900| 53|\n",
      "|  Sugie|  Finance|   NY|  8300| 36|\n",
      "|   Kyle|Marketing|   CA|  8000| 25|\n",
      "|   Reid|Marketing|   NY|  9100| 50|\n",
      "+-------+---------+-----+------+---+\n",
      "\n"
     ]
    }
   ],
   "source": [
    "data = ((\"James\",\"Sales\",\"NY\",9000,34),\n",
    "(\"Alicia\",\"Sales\",\"NY\",8600,56),\n",
    "(\"Robert\",\"Sales\",\"CA\",8100,30),\n",
    "(\"John\",\"Sales\",\"AZ\",8600,30),\n",
    "(\"Ross\",\"Sales\",\"AZ\",8100,33),\n",
    "(\"Khaty\",\"Sales\",\"AZ\",1000,39),\n",
    "(\"Lisa\",\"Finance\",\"CA\",9000,24),\n",
    "(\"Deja\",\"Finance\",\"CA\",9900,40),\n",
    "(\"Sugie\",\"Finance\",\"NY\",8300,36),\n",
    "(\"Ram\",\"Finance\",\"NY\",7900,53),\n",
    "(\"Sugie\",\"Finance\",\"NY\",8300,36),\n",
    "(\"Kyle\",\"Marketing\",\"CA\",8000,25),\n",
    "(\"Reid\",\"Marketing\",\"NY\",9100,50))\n",
    "\n",
    "schema=(\"empname\", \"dept\", \"state\",\"salary\",\"age\")\n",
    "df = spark.createDataFrame (data,schema =schema)\n",
    "df.show()"
   ]
  },
  {
   "attachments": {},
   "cell_type": "markdown",
   "metadata": {},
   "source": [
    "sha1(col)"
   ]
  },
  {
   "cell_type": "code",
   "execution_count": 16,
   "metadata": {},
   "outputs": [
    {
     "name": "stdout",
     "output_type": "stream",
     "text": [
      "+-------+-----+-----+------+---+----------------------------------------+\n",
      "|empname|dept |state|salary|age|sha1                                    |\n",
      "+-------+-----+-----+------+---+----------------------------------------+\n",
      "|James  |Sales|NY   |9000  |34 |f1f836cb4ea6efb2a0b1b99f41ad8b103eff4b59|\n",
      "+-------+-----+-----+------+---+----------------------------------------+\n",
      "only showing top 1 row\n",
      "\n"
     ]
    }
   ],
   "source": [
    "df.withColumn(\"sha1\", sha1(col(\"age\").cast(\"string\"))).show(1, truncate=False)"
   ]
  },
  {
   "attachments": {},
   "cell_type": "markdown",
   "metadata": {},
   "source": [
    "sha2(col,numBits)"
   ]
  },
  {
   "cell_type": "code",
   "execution_count": 17,
   "metadata": {},
   "outputs": [
    {
     "name": "stdout",
     "output_type": "stream",
     "text": [
      "+-------+-----+-----+------+---+----------------------------------------------------------------+\n",
      "|empname|dept |state|salary|age|sha2                                                            |\n",
      "+-------+-----+-----+------+---+----------------------------------------------------------------+\n",
      "|James  |Sales|NY   |9000  |34 |86e50149658661312a9e0b35558d84f6c6d3da797f552a9657fe0558ca40cdef|\n",
      "+-------+-----+-----+------+---+----------------------------------------------------------------+\n",
      "only showing top 1 row\n",
      "\n"
     ]
    }
   ],
   "source": [
    "df.withColumn(\"sha2\", sha2(col(\"age\").cast(\"string\"),0)).show(1, truncate=False)"
   ]
  },
  {
   "attachments": {},
   "cell_type": "markdown",
   "metadata": {},
   "source": [
    "hash(*cols)"
   ]
  },
  {
   "cell_type": "code",
   "execution_count": 85,
   "metadata": {},
   "outputs": [
    {
     "name": "stdout",
     "output_type": "stream",
     "text": [
      "+-------+---------+-----+------+---+-----------+\n",
      "|empname|dept     |state|salary|age|hash       |\n",
      "+-------+---------+-----+------+---+-----------+\n",
      "|James  |Sales    |NY   |9000  |34 |783586194  |\n",
      "|Alicia |Sales    |NY   |8600  |56 |-1047727165|\n",
      "|Robert |Sales    |CA   |8100  |30 |289334189  |\n",
      "|John   |Sales    |AZ   |8600  |30 |-281909114 |\n",
      "|Ross   |Sales    |AZ   |8100  |33 |-1828742001|\n",
      "|Khaty  |Sales    |AZ   |1000  |39 |-1324150681|\n",
      "|Lisa   |Finance  |CA   |9000  |24 |931623493  |\n",
      "|Deja   |Finance  |CA   |9900  |40 |1489077269 |\n",
      "|Sugie  |Finance  |NY   |8300  |36 |-2146062841|\n",
      "|Ram    |Finance  |NY   |7900  |53 |-1458834559|\n",
      "|Sugie  |Finance  |NY   |8300  |36 |-2146062841|\n",
      "|Kyle   |Marketing|CA   |8000  |25 |2099112954 |\n",
      "|Reid   |Marketing|NY   |9100  |50 |-1715464103|\n",
      "+-------+---------+-----+------+---+-----------+\n",
      "\n"
     ]
    }
   ],
   "source": [
    "cols = df.columns\n",
    "df.withColumn(\"hash\", hash(*cols)).show(truncate=False)"
   ]
  }
 ],
 "metadata": {
  "kernelspec": {
   "display_name": "Python 3",
   "language": "python",
   "name": "python3"
  },
  "language_info": {
   "codemirror_mode": {
    "name": "ipython",
    "version": 3
   },
   "file_extension": ".py",
   "mimetype": "text/x-python",
   "name": "python",
   "nbconvert_exporter": "python",
   "pygments_lexer": "ipython3",
   "version": "3.8.10"
  },
  "orig_nbformat": 4
 },
 "nbformat": 4,
 "nbformat_minor": 2
}
