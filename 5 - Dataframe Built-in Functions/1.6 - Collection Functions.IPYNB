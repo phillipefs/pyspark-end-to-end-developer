{
 "cells": [
  {
   "cell_type": "code",
   "execution_count": 3,
   "metadata": {},
   "outputs": [],
   "source": [
    "from pyspark.sql import SparkSession\n",
    "from pyspark.sql.functions import *\n",
    "from pyspark.sql.types import *\n",
    "\n",
    "spark = SparkSession \\\n",
    "    .builder \\\n",
    "    .getOrCreate()"
   ]
  },
  {
   "attachments": {},
   "cell_type": "markdown",
   "metadata": {},
   "source": [
    "Create Dataframe"
   ]
  },
  {
   "cell_type": "code",
   "execution_count": 14,
   "metadata": {},
   "outputs": [],
   "source": [
    "### emp1 DataFrame\n",
    "data =(('Alicia','Joseph',['Java','Scala','Spark'],{'hair':'black','eye':'brown'}), \\\n",
    "('Robert','Gee',['Spark','Java'],{'hair':'brown','eye':None}),\\\n",
    "('Mike','Bianca',['CSharp',''],{'hair':'red','eye':''}),\\\n",
    "('John','Kumar',None,None),\\\n",
    "('Jeff','L',['1','2'],{}))\n",
    "schema = ('FirstName','LastName','Languages','properties')\n",
    "emp1 = spark.createDataFrame(data=data,schema=schema)\n",
    "\n",
    "### emp2 DataFrame\n",
    "data=(('Robert',35,40,40),('Ram',31,33,29),('John',95,89,91))\n",
    "schema = ('name','score1','score2','score3')\n",
    "emp2= spark.createDataFrame(data=data, schema=schema)\n",
    "\n",
    "### emp3 DataFrame\n",
    "emp3 =spark.createDataFrame(data=(('John',(10,20,20),(25,11,10)),('Robert',(15,13,55),(5,None,29)),('James',(11,13,45),(5,89,79))),schema=('empName', 'score_arr1', 'score_arr2'))\n",
    "\n",
    "### df DataFrame\n",
    "df = spark.sql(\"SELECT array(struct(1, 'a'), struct(2, 'b')) as data\")"
   ]
  },
  {
   "attachments": {},
   "cell_type": "markdown",
   "metadata": {},
   "source": [
    "size(col):\n",
    "- Returns the length of the array or map stored in the column.\n",
    "- Size is -1 for null elements."
   ]
  },
  {
   "cell_type": "code",
   "execution_count": 18,
   "metadata": {},
   "outputs": [
    {
     "name": "stdout",
     "output_type": "stream",
     "text": [
      "+---------+---------------+----------------+\n",
      "|FirstName|size(Languages)|size(properties)|\n",
      "+---------+---------------+----------------+\n",
      "|   Alicia|              3|               2|\n",
      "|   Robert|              2|               2|\n",
      "|     Mike|              2|               2|\n",
      "|     John|             -1|              -1|\n",
      "|     Jeff|              2|               0|\n",
      "+---------+---------------+----------------+\n",
      "\n"
     ]
    }
   ],
   "source": [
    "emp1.select('FirstName',size('Languages'), size('properties')).show()"
   ]
  },
  {
   "attachments": {},
   "cell_type": "markdown",
   "metadata": {},
   "source": [
    "element_at(col,extraction):\n",
    "- Returns element of array at given index in extraction if col is array.\n",
    "- Returns value for the given key in extraction if col is map."
   ]
  },
  {
   "cell_type": "code",
   "execution_count": 30,
   "metadata": {},
   "outputs": [
    {
     "name": "stdout",
     "output_type": "stream",
     "text": [
      "+---------+------------------------+------------+---------------------------+-----+\n",
      "|FirstName|element_at(Languages, 2)|Languages[0]|element_at(properties, eye)|  eye|\n",
      "+---------+------------------------+------------+---------------------------+-----+\n",
      "|   Alicia|                   Scala|        Java|                      brown|brown|\n",
      "|   Robert|                    Java|       Spark|                       null| null|\n",
      "|     Mike|                        |      CSharp|                           |     |\n",
      "|     John|                    null|        null|                       null| null|\n",
      "|     Jeff|                       2|           1|                       null| null|\n",
      "+---------+------------------------+------------+---------------------------+-----+\n",
      "\n"
     ]
    }
   ],
   "source": [
    "emp1.select('FirstName',\n",
    "            element_at('Languages',2),\n",
    "            col('Languages')[0], #Similar element_at\n",
    "            element_at('properties','eye'),\n",
    "            col('properties.eye')#Similar element_at\n",
    "            )\\\n",
    ".show()"
   ]
  },
  {
   "attachments": {},
   "cell_type": "markdown",
   "metadata": {},
   "source": [
    "array(*cols):\n",
    "- Creates a new array column.\n",
    "\n",
    "array_max(col), array_min(col):\n",
    "- Returns maximum or minimum values of an array column.\n",
    "\n",
    "array_distinct(col):\n",
    "- Returns distinct values of an array column.\n",
    "\n",
    "array_repeat(col,count):\n",
    "- Repeated count times."
   ]
  },
  {
   "cell_type": "code",
   "execution_count": 36,
   "metadata": {},
   "outputs": [
    {
     "name": "stdout",
     "output_type": "stream",
     "text": [
      "+------+------+------+------+--------------+---------+--------------+------------------------------------------+\n",
      "|name  |score1|score2|score3|array_elements|array_max|array_distinct|array_repeat                              |\n",
      "+------+------+------+------+--------------+---------+--------------+------------------------------------------+\n",
      "|Robert|35    |40    |40    |[35, 40, 40]  |40       |[35, 40]      |[[35, 40, 40], [35, 40, 40], [35, 40, 40]]|\n",
      "|Ram   |31    |33    |29    |[31, 33, 29]  |33       |[31, 33, 29]  |[[31, 33, 29], [31, 33, 29], [31, 33, 29]]|\n",
      "|John  |95    |89    |91    |[95, 89, 91]  |95       |[95, 89, 91]  |[[95, 89, 91], [95, 89, 91], [95, 89, 91]]|\n",
      "+------+------+------+------+--------------+---------+--------------+------------------------------------------+\n",
      "\n"
     ]
    }
   ],
   "source": [
    "emp2\\\n",
    "    .withColumn('array_elements', array('score1', 'score2', 'score3'))\\\n",
    "    .withColumn('array_max', array_max('array_elements'))\\\n",
    "    .withColumn('array_distinct', array_distinct('array_elements'))\\\n",
    "    .withColumn('array_repeat', array_repeat('array_elements',3))\\\n",
    "    .show(truncate=False)"
   ]
  },
  {
   "attachments": {},
   "cell_type": "markdown",
   "metadata": {},
   "source": [
    "slice(col,start,length)\n",
    "- Returns an array containing all the elements in `col` from index `start` for length `length`.\n",
    "- col is Array Type.\n",
    "\n",
    "array_position(col,value):\n",
    "- Locates the position of the first occurrence of the given value in the given array.\n",
    "- Starts with Index 1.\n",
    "\n",
    "array_remove(col,element):\n",
    "- Remove all elements that equal to element from the given array.\n",
    "\n",
    "array_sort(col):\n",
    "- Sorts the input array in ascending order.\n",
    "- The elements of the input array must be orderable.\n",
    "- Null elements will be placed at the end of the returned array.\n",
    "\n",
    "sort_array(col,asc=True):\n",
    "- Sorts the input array in ascending or descending order according to the natural ordering of the array elements.\n",
    "- Null elements will be placed at the beginning of the returned array in ascending order or at the end of the returned array in\n",
    "descending order.\n"
   ]
  },
  {
   "cell_type": "code",
   "execution_count": 49,
   "metadata": {},
   "outputs": [
    {
     "name": "stdout",
     "output_type": "stream",
     "text": [
      "+---------+--------+--------------------+-----------------------------+-----------+--------------+-------------+--------------------+--------------------+\n",
      "|FirstName|LastName|Languages           |properties                   |slice_array|array_position|array_remove |array_sort          |sort_array          |\n",
      "+---------+--------+--------------------+-----------------------------+-----------+--------------+-------------+--------------------+--------------------+\n",
      "|Alicia   |Joseph  |[Java, Scala, Spark]|{eye -> brown, hair -> black}|[Spark]    |3             |[Java, Scala]|[Java, Scala, Spark]|[Spark, Scala, Java]|\n",
      "|Robert   |Gee     |[Spark, Java]       |{eye -> null, hair -> brown} |[]         |1             |[Java]       |[Java, Spark]       |[Spark, Java]       |\n",
      "|Mike     |Bianca  |[CSharp, ]          |{eye -> , hair -> red}       |[]         |0             |[CSharp, ]   |[, CSharp]          |[CSharp, ]          |\n",
      "|John     |Kumar   |null                |null                         |null       |null          |null         |null                |null                |\n",
      "|Jeff     |L       |[1, 2]              |{}                           |[]         |0             |[1, 2]       |[1, 2]              |[2, 1]              |\n",
      "+---------+--------+--------------------+-----------------------------+-----------+--------------+-------------+--------------------+--------------------+\n",
      "\n"
     ]
    }
   ],
   "source": [
    "emp1\\\n",
    "    .withColumn('slice_array', slice('Languages', 3, 1))\\\n",
    "    .withColumn('array_position', array_position('Languages','Spark'))\\\n",
    "    .withColumn('array_remove', array_remove('Languages', 'Spark'))\\\n",
    "    .withColumn('array_sort', array_sort('Languages'))\\\n",
    "    .withColumn('sort_array', sort_array('Languages', asc=False))\\\n",
    "    .show(truncate=False)"
   ]
  }
 ],
 "metadata": {
  "kernelspec": {
   "display_name": "Python 3",
   "language": "python",
   "name": "python3"
  },
  "language_info": {
   "codemirror_mode": {
    "name": "ipython",
    "version": 3
   },
   "file_extension": ".py",
   "mimetype": "text/x-python",
   "name": "python",
   "nbconvert_exporter": "python",
   "pygments_lexer": "ipython3",
   "version": "3.8.10"
  },
  "orig_nbformat": 4
 },
 "nbformat": 4,
 "nbformat_minor": 2
}
