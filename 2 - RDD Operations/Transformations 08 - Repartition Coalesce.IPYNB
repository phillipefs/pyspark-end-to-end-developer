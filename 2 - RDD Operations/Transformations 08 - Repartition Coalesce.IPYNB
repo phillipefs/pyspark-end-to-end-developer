{
 "cells": [
  {
   "cell_type": "code",
   "execution_count": 2,
   "metadata": {},
   "outputs": [],
   "source": [
    "from pyspark.sql import SparkSession\n",
    "from pyspark.sql.functions import *\n",
    "from pyspark.sql.types import *\n",
    "\n",
    "spark = SparkSession \\\n",
    "    .builder \\\n",
    "    .getOrCreate()\n",
    "\n",
    "sc = spark.sparkContext"
   ]
  },
  {
   "attachments": {},
   "cell_type": "markdown",
   "metadata": {},
   "source": [
    "Creating RDD"
   ]
  },
  {
   "cell_type": "code",
   "execution_count": 11,
   "metadata": {},
   "outputs": [
    {
     "name": "stderr",
     "output_type": "stream",
     "text": [
      "                                                                                \r"
     ]
    }
   ],
   "source": [
    "### Create some Dump data for testing\n",
    "df= spark.range (1000000)\n",
    "df = df.select(df.id,df.id*2,df.id*3)\n",
    "df= df.union (df)\n",
    "df= df.union (df)\n",
    "df= df.union (df)\n",
    "df= df.union (df)\n",
    "df= df.union (df)\n",
    "\n",
    "### Convert DataFrame to RDD.\n",
    "RDD = df.rdd.map (lambda x : str (x[0]) + ',' + str (x[1]) + ',' + str (x[2]))\n",
    "### Save the file at a HDFS Path\n",
    "RDD.coalesce(1).saveAsTextFile ('/home/phillipefs/spark_dev/pyspark-end-to-end-developer/0 - PracticeFiles/test_data')"
   ]
  },
  {
   "cell_type": "code",
   "execution_count": 15,
   "metadata": {},
   "outputs": [
    {
     "data": {
      "text/plain": [
       "21"
      ]
     },
     "execution_count": 15,
     "metadata": {},
     "output_type": "execute_result"
    }
   ],
   "source": [
    "rdd = sc.textFile('/home/phillipefs/spark_dev/pyspark-end-to-end-developer/0 - PracticeFiles/test_data')\n",
    "rdd.getNumPartitions()"
   ]
  },
  {
   "cell_type": "code",
   "execution_count": 16,
   "metadata": {},
   "outputs": [
    {
     "name": "stderr",
     "output_type": "stream",
     "text": [
      "                                                                                \r"
     ]
    },
    {
     "data": {
      "text/plain": [
       "32000000"
      ]
     },
     "execution_count": 16,
     "metadata": {},
     "output_type": "execute_result"
    }
   ],
   "source": [
    "rdd.count()"
   ]
  },
  {
   "cell_type": "code",
   "execution_count": 18,
   "metadata": {},
   "outputs": [
    {
     "data": {
      "text/plain": [
       "21"
      ]
     },
     "execution_count": 18,
     "metadata": {},
     "output_type": "execute_result"
    }
   ],
   "source": [
    "rdd1 =rdd.filter (lambda x : int(x.split (',')[0]) ==1)\n",
    "rdd1.getNumPartitions()"
   ]
  },
  {
   "cell_type": "code",
   "execution_count": 21,
   "metadata": {},
   "outputs": [
    {
     "name": "stderr",
     "output_type": "stream",
     "text": [
      "                                                                                \r"
     ]
    },
    {
     "data": {
      "text/plain": [
       "32"
      ]
     },
     "execution_count": 21,
     "metadata": {},
     "output_type": "execute_result"
    }
   ],
   "source": [
    "rdd1.count()"
   ]
  },
  {
   "attachments": {},
   "cell_type": "markdown",
   "metadata": {},
   "source": [
    "coalesce()"
   ]
  },
  {
   "cell_type": "code",
   "execution_count": 22,
   "metadata": {},
   "outputs": [
    {
     "data": {
      "text/plain": [
       "1"
      ]
     },
     "execution_count": 22,
     "metadata": {},
     "output_type": "execute_result"
    }
   ],
   "source": [
    "rdd1 = rdd1.coalesce(1)\n",
    "rdd1.getNumPartitions()"
   ]
  },
  {
   "attachments": {},
   "cell_type": "markdown",
   "metadata": {},
   "source": [
    "Repartition(numPartitions)\n",
    "- Return a new RDD that has exactly numPartitions partitions\n",
    "- Create almost equal sized partitions\n",
    "- Can increase or decrease the level of parallelism\n",
    "- Spark performs better with equal sized partitions If you need further processing of huge data, it is preferred to have a equal sized partitions\n",
    "- and so we should consider using repartition\n",
    "- Internally, this uses a shuffle to redistribute data from all partitions leading to very expensive operation So avoid if not required\n",
    "- If you are decreasing the number of partitions, consider using coalesce where the movement of data shuffling across the partitions is lower"
   ]
  },
  {
   "cell_type": "code",
   "execution_count": 26,
   "metadata": {},
   "outputs": [
    {
     "data": {
      "text/plain": [
       "[34564, 34319]"
      ]
     },
     "execution_count": 26,
     "metadata": {},
     "output_type": "execute_result"
    }
   ],
   "source": [
    "ord= sc.textFile ('/home/phillipefs/spark_dev/pyspark-end-to-end-developer/0 - PracticeFiles/Orders')\n",
    "#Return num records partition. This RDD have 2 partitions.\n",
    "ord.glom().map(len).collect()"
   ]
  },
  {
   "cell_type": "code",
   "execution_count": 28,
   "metadata": {},
   "outputs": [
    {
     "data": {
      "text/plain": [
       "[13770, 13780, 13774, 13780, 13779]"
      ]
     },
     "execution_count": 28,
     "metadata": {},
     "output_type": "execute_result"
    }
   ],
   "source": [
    "ord = ord.repartition(5)\n",
    "ord.glom().map(len).collect()"
   ]
  },
  {
   "attachments": {},
   "cell_type": "markdown",
   "metadata": {},
   "source": [
    "repartitionAndSortWithinPartitions(numPartitions =None, partitionFunc =<function portable_hash >, ascending=True, keyfunc)\n",
    "- Repartition the RDD according to the given partitioner and, within each resulting partition, sort records by their keys.\n",
    "- Need a key value paid RDD."
   ]
  },
  {
   "cell_type": "code",
   "execution_count": 13,
   "metadata": {},
   "outputs": [
    {
     "data": {
      "text/plain": [
       "[[(4, ('a', 'b')), (6, ('j', 'b')), (8, ('s', 'b'))],\n",
       " [(1, ('a', 'b')), (3, ('x', 'f')), (9, ('a', 'z'))]]"
      ]
     },
     "execution_count": 13,
     "metadata": {},
     "output_type": "execute_result"
    }
   ],
   "source": [
    "rdd= sc.parallelize (((9, ('a','z')), (3, ('x','f')), (6, ('j','b')),(4,('a','b')), (8,('s','b')), (1,('a','b'))),2)\n",
    "rdd2 = rdd.repartitionAndSortWithinPartitions (2, lambda x : x % 2,True)\n",
    "rdd2.glom().collect()"
   ]
  },
  {
   "attachments": {},
   "cell_type": "markdown",
   "metadata": {},
   "source": [
    "coalesce(numPartitions , shuffle=False):\n",
    "- Return a new RDD that is reduced into ` numPartitions `\n",
    "- Optimized version of repartition().\n",
    "- No shuffling.\n",
    "- Results in a narrow dependency, e.g. if you go from 1000 partitions to 100 partitions, there will not be a shuffle,\n",
    "instead each of the 100 new partitions will claim 10 of the current partitions.\n",
    "- If a larger number of partitions is requested, it will stay at the current number of partitions.\n",
    "- By Default Coalesce can be only used for decreasing the partitions. But by passing shuffle=True parameter it behaves\n",
    "like repartition and we can increase the partitions as well."
   ]
  },
  {
   "cell_type": "code",
   "execution_count": 17,
   "metadata": {},
   "outputs": [
    {
     "data": {
      "text/plain": [
       "[13984, 13716, 13732, 13730, 13721]"
      ]
     },
     "execution_count": 17,
     "metadata": {},
     "output_type": "execute_result"
    }
   ],
   "source": [
    "rdd = sc.textFile('/home/phillipefs/spark_dev/pyspark-end-to-end-developer/0 - PracticeFiles/Orders',5)\n",
    "rdd.glom().map(len).collect()"
   ]
  },
  {
   "cell_type": "code",
   "execution_count": 18,
   "metadata": {},
   "outputs": [
    {
     "data": {
      "text/plain": [
       "[13984, 27448, 27451]"
      ]
     },
     "execution_count": 18,
     "metadata": {},
     "output_type": "execute_result"
    }
   ],
   "source": [
    "rdd = rdd.coalesce(3)\n",
    "rdd.glom().map(len).collect()"
   ]
  },
  {
   "cell_type": "code",
   "execution_count": 19,
   "metadata": {},
   "outputs": [
    {
     "data": {
      "text/plain": [
       "[6870, 6880, 6890, 6900, 6900, 6900, 6900, 6889, 6880, 6874]"
      ]
     },
     "execution_count": 19,
     "metadata": {},
     "output_type": "execute_result"
    }
   ],
   "source": [
    "rdd = rdd.coalesce(10, shuffle=True)\n",
    "rdd.glom().map(len).collect()"
   ]
  }
 ],
 "metadata": {
  "kernelspec": {
   "display_name": "Python 3",
   "language": "python",
   "name": "python3"
  },
  "language_info": {
   "codemirror_mode": {
    "name": "ipython",
    "version": 3
   },
   "file_extension": ".py",
   "mimetype": "text/x-python",
   "name": "python",
   "nbconvert_exporter": "python",
   "pygments_lexer": "ipython3",
   "version": "3.8.10"
  },
  "orig_nbformat": 4
 },
 "nbformat": 4,
 "nbformat_minor": 2
}
