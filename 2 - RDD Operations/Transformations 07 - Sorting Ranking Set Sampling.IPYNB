{
 "cells": [
  {
   "cell_type": "code",
   "execution_count": 9,
   "metadata": {},
   "outputs": [],
   "source": [
    "from pyspark.sql import SparkSession\n",
    "\n",
    "spark = SparkSession \\\n",
    "    .builder \\\n",
    "    .getOrCreate()\n",
    "\n",
    "sc = spark.sparkContext"
   ]
  },
  {
   "attachments": {},
   "cell_type": "markdown",
   "metadata": {},
   "source": [
    "Creating RDD"
   ]
  },
  {
   "cell_type": "code",
   "execution_count": 2,
   "metadata": {},
   "outputs": [],
   "source": [
    "ord = sc.textFile('/home/phillipefs/spark_dev/pyspark-end-to-end-developer/0 - PracticeFiles/Orders')\n",
    "ord_items = sc.textFile('/home/phillipefs/spark_dev/pyspark-end-to-end-developer/0 - PracticeFiles/Order_items')"
   ]
  },
  {
   "attachments": {},
   "cell_type": "markdown",
   "metadata": {},
   "source": [
    "#### sortByKey(ascending=True, numPartitions=None, keyfunc=<function <lambda>>)\n",
    "When called on a dataset of (K, V) pairs, returns a dataset of (K, V) pairs sorted by keys in ascending or descending order, as specified in\n",
    "the Boolean ascending argument."
   ]
  },
  {
   "cell_type": "markdown",
   "metadata": {},
   "source": [
    "Example : Sort ordes using customer id."
   ]
  },
  {
   "cell_type": "code",
   "execution_count": 3,
   "metadata": {},
   "outputs": [
    {
     "data": {
      "text/plain": [
       "[(1, '22945,2013-12-13 00:00:00.0,1,COMPLETE'),\n",
       " (2, '15192,2013-10-29 00:00:00.0,2,PENDING_PAYMENT'),\n",
       " (2, '33865,2014-02-18 00:00:00.0,2,COMPLETE'),\n",
       " (2, '57963,2013-08-02 00:00:00.0,2,ON_HOLD'),\n",
       " (2, '67863,2013-11-30 00:00:00.0,2,COMPLETE')]"
      ]
     },
     "execution_count": 3,
     "metadata": {},
     "output_type": "execute_result"
    }
   ],
   "source": [
    "ord.map(lambda x : (int(x.split(',')[2]),x)).sortByKey(ascending=True).take(5)"
   ]
  },
  {
   "attachments": {},
   "cell_type": "markdown",
   "metadata": {},
   "source": [
    "Example (Sort orders using customer and status)"
   ]
  },
  {
   "cell_type": "code",
   "execution_count": 4,
   "metadata": {},
   "outputs": [
    {
     "name": "stdout",
     "output_type": "stream",
     "text": [
      "((12435, 'PENDING'), '41643,2014-04-08 00:00:00.0,12435,PENDING')\n",
      "((12435, 'CANCELED'), '61629,2013-12-21 00:00:00.0,12435,CANCELED')\n",
      "((12434, 'PENDING_PAYMENT'), '4799,2013-08-23 00:00:00.0,12434,PENDING_PAYMENT')\n",
      "((12434, 'PENDING'), '5303,2013-08-26 00:00:00.0,12434,PENDING')\n",
      "((12434, 'PENDING'), '13544,2013-10-16 00:00:00.0,12434,PENDING')\n",
      "((12434, 'ON_HOLD'), '51800,2014-06-14 00:00:00.0,12434,ON_HOLD')\n",
      "((12434, 'COMPLETE'), '6160,2013-09-02 00:00:00.0,12434,COMPLETE')\n",
      "((12434, 'COMPLETE'), '42915,2014-04-16 00:00:00.0,12434,COMPLETE')\n",
      "((12434, 'COMPLETE'), '61777,2013-12-26 00:00:00.0,12434,COMPLETE')\n",
      "((12434, 'CLOSED'), '1868,2013-08-03 00:00:00.0,12434,CLOSED')\n"
     ]
    }
   ],
   "source": [
    "ordPair = ord.map(lambda x : ((int(x.split(',')[2]), x.split(',')[3]),x))\n",
    "ordSort = ordPair.sortByKey(ascending=False)\n",
    "for i in ordSort.take(10) : print(i)"
   ]
  },
  {
   "attachments": {},
   "cell_type": "markdown",
   "metadata": {},
   "source": [
    "#### Global Ranking\n",
    "- sortByKey and take\n",
    "- takeOrdered or top\n",
    "\n",
    "\n",
    "#### Ranking Per Group:\n",
    "- Getting ranking per group is a bit complex but important to know.\n",
    "- Per key or Per group ranking can be achieved using\n",
    "    - groupByKey with flatMap\n",
    "    - Python Knowledge like sorted function, list etc"
   ]
  },
  {
   "attachments": {},
   "cell_type": "markdown",
   "metadata": {},
   "source": [
    "Example: Top five products with highest prices."
   ]
  },
  {
   "cell_type": "code",
   "execution_count": 5,
   "metadata": {},
   "outputs": [
    {
     "data": {
      "text/plain": [
       "['1,2,Quest Q64 10 FT. x 10 FT. Slant Leg Instant U,,59.98,http://images.acmesports.sports/Quest+Q64+10+FT.+x+10+FT.+Slant+Leg+Instant+Up+Canopy',\n",
       " \"2,2,Under Armour Men's Highlight MC Football Clea,,129.99,http://images.acmesports.sports/Under+Armour+Men%27s+Highlight+MC+Football+Cleat\",\n",
       " \"3,2,Under Armour Men's Renegade D Mid Football Cl,,89.99,http://images.acmesports.sports/Under+Armour+Men%27s+Renegade+D+Mid+Football+Cleat\",\n",
       " \"4,2,Under Armour Men's Renegade D Mid Football Cl,,89.99,http://images.acmesports.sports/Under+Armour+Men%27s+Renegade+D+Mid+Football+Cleat\",\n",
       " '5,2,Riddell Youth Revolution Speed Custom Footbal,,199.99,http://images.acmesports.sports/Riddell+Youth+Revolution+Speed+Custom+Football+Helmet']"
      ]
     },
     "execution_count": 5,
     "metadata": {},
     "output_type": "execute_result"
    }
   ],
   "source": [
    "rdd_products = sc.textFile('/home/phillipefs/spark_dev/pyspark-end-to-end-developer/0 - PracticeFiles/Products')\n",
    "rdd_products.take(5)"
   ]
  },
  {
   "cell_type": "code",
   "execution_count": 6,
   "metadata": {},
   "outputs": [
    {
     "data": {
      "text/plain": [
       "[(1999.99,\n",
       "  '208,10,SOLE E35 Elliptical,,1999.99,http://images.acmesports.sports/SOLE+E35+Elliptical'),\n",
       " (1799.99,\n",
       "  '66,4,SOLE F85 Treadmill,,1799.99,http://images.acmesports.sports/SOLE+F85+Treadmill'),\n",
       " (1799.99,\n",
       "  '199,10,SOLE F85 Treadmill,,1799.99,http://images.acmesports.sports/SOLE+F85+Treadmill'),\n",
       " (1799.99,\n",
       "  '496,22,SOLE F85 Treadmill,,1799.99,http://images.acmesports.sports/SOLE+F85+Treadmill'),\n",
       " (1099.99,\n",
       "  '1048,47,\"Spalding Beast 60\"\" Glass Portable Basketball \",,1099.99,http://images.acmesports.sports/Spalding+Beast+60%22+Glass+Portable+Basketball+Hoop')]"
      ]
     },
     "execution_count": 6,
     "metadata": {},
     "output_type": "execute_result"
    }
   ],
   "source": [
    "rdd_products = rdd_products.filter(lambda x : x.split(\",\")[4]!=\"\")\n",
    "pair_rdd = rdd_products.map(lambda x : (float(x.split(',')[4]),x))\n",
    "pair_rdd.sortByKey(ascending=False).take(5)"
   ]
  },
  {
   "attachments": {},
   "cell_type": "markdown",
   "metadata": {},
   "source": [
    "Using takeOrdered"
   ]
  },
  {
   "cell_type": "code",
   "execution_count": 7,
   "metadata": {},
   "outputs": [
    {
     "data": {
      "text/plain": [
       "['208,10,SOLE E35 Elliptical,,1999.99,http://images.acmesports.sports/SOLE+E35+Elliptical',\n",
       " '66,4,SOLE F85 Treadmill,,1799.99,http://images.acmesports.sports/SOLE+F85+Treadmill',\n",
       " '199,10,SOLE F85 Treadmill,,1799.99,http://images.acmesports.sports/SOLE+F85+Treadmill',\n",
       " '496,22,SOLE F85 Treadmill,,1799.99,http://images.acmesports.sports/SOLE+F85+Treadmill',\n",
       " '1048,47,\"Spalding Beast 60\"\" Glass Portable Basketball \",,1099.99,http://images.acmesports.sports/Spalding+Beast+60%22+Glass+Portable+Basketball+Hoop']"
      ]
     },
     "execution_count": 7,
     "metadata": {},
     "output_type": "execute_result"
    }
   ],
   "source": [
    "rdd_products.takeOrdered (5,lambda k: -float( k.split (',')[4]))"
   ]
  },
  {
   "attachments": {},
   "cell_type": "markdown",
   "metadata": {},
   "source": [
    "Example: Top 2 Products with highest Prices per Category."
   ]
  },
  {
   "cell_type": "code",
   "execution_count": 8,
   "metadata": {},
   "outputs": [
    {
     "data": {
      "text/plain": [
       "['5,2,Riddell Youth Revolution Speed Custom Footbal,,199.99,http://images.acmesports.sports/Riddell+Youth+Revolution+Speed+Custom+Football+Helmet',\n",
       " \"2,2,Under Armour Men's Highlight MC Football Clea,,129.99,http://images.acmesports.sports/Under+Armour+Men%27s+Highlight+MC+Football+Cleat\",\n",
       " '49,4,Diamondback Adult Sorrento Mountain Bike 2014,,299.98,http://images.acmesports.sports/Diamondback+Adult+Sorrento+Mountain+Bike+2014',\n",
       " '52,4,Easton Mako Youth Bat 2014 (-11),,249.97,http://images.acmesports.sports/Easton+Mako+Youth+Bat+2014+%28-11%29',\n",
       " \"26,3,Nike Men's USA White Home Stadium Soccer Jers,,90.0,http://images.acmesports.sports/Nike+Men%27s+USA+White+Home+Stadium+Soccer+Jersey\",\n",
       " \"29,3,Nike Men's USA Away Stadium Replica Soccer Je,,90.0,http://images.acmesports.sports/Nike+Men%27s+USA+Away+Stadium+Replica+Soccer+Jersey\"]"
      ]
     },
     "execution_count": 8,
     "metadata": {},
     "output_type": "execute_result"
    }
   ],
   "source": [
    "prod_df = rdd_products.filter(lambda x : (int(x.split (',')[1]) in [2,3,4]) and (int(x.split (',')[0]) in [1,2,3,4,5,25,26,27,28,29,49,50,51,52,53]))\n",
    "\n",
    "prod_groupby = prod_df.map(lambda line : (int(line.split (',')[1]), line)).groupByKey()\n",
    "first = prod_groupby.first()\n",
    "sorted(first[1],key = lambda x : float(x.split (',')[4]),reverse=True)\n",
    "prod_groupby.flatMap(lambda x: sorted(x[1], key=lambda k:float(k.split(\",\")[4]), reverse=True)[:2]).collect()"
   ]
  },
  {
   "attachments": {},
   "cell_type": "markdown",
   "metadata": {},
   "source": [
    "#### union(other)\n",
    "- A union will get all the elements from both the data sets.\n",
    "- In the case of a union, it will not get distinct elements. Apply distinct, if you only want to get distinct elements after un ion\n",
    "operation.\n",
    "- When we use set operations such as union and intersect, data should have a similar structure (Same Columns and Types)."
   ]
  },
  {
   "attachments": {},
   "cell_type": "markdown",
   "metadata": {},
   "source": [
    "Example: Number of customers placed order in July or Aug Month."
   ]
  },
  {
   "cell_type": "code",
   "execution_count": 24,
   "metadata": {},
   "outputs": [
    {
     "data": {
      "text/plain": [
       "7633"
      ]
     },
     "execution_count": 24,
     "metadata": {},
     "output_type": "execute_result"
    }
   ],
   "source": [
    "orders_july = ord.filter(lambda x : x.split(',')[1].split(\"-\")[1]=='07').map(lambda x : x.split(',')[2])\n",
    "orders_ago = ord.filter(lambda x : x.split(',')[1].split(\"-\")[1]=='08').map(lambda x : x.split(',')[2])\n",
    "\n",
    "orders_july.union(orders_ago).distinct().count()"
   ]
  },
  {
   "attachments": {},
   "cell_type": "markdown",
   "metadata": {},
   "source": [
    "#### Intersection(other)\n",
    "- Return the intersection of this RDD and another one.\n",
    "- The output will not contain any duplicate elements, even if the input RDDs did."
   ]
  },
  {
   "attachments": {},
   "cell_type": "markdown",
   "metadata": {},
   "source": [
    "Example: Orders applied both in July and Aug datamonth"
   ]
  },
  {
   "cell_type": "code",
   "execution_count": 26,
   "metadata": {},
   "outputs": [
    {
     "data": {
      "text/plain": [
       "1759"
      ]
     },
     "execution_count": 26,
     "metadata": {},
     "output_type": "execute_result"
    }
   ],
   "source": [
    "orders_july.intersection(orders_ago).count()"
   ]
  },
  {
   "attachments": {},
   "cell_type": "markdown",
   "metadata": {},
   "source": [
    "Example: Check if duplicates are reported."
   ]
  },
  {
   "cell_type": "code",
   "execution_count": 29,
   "metadata": {},
   "outputs": [
    {
     "data": {
      "text/plain": [
       "[1, 3]"
      ]
     },
     "execution_count": 29,
     "metadata": {},
     "output_type": "execute_result"
    }
   ],
   "source": [
    "rdd1=sc.parallelize ([1, 2, 3, 3, 3])    \n",
    "rdd2=sc.parallelize ([1, 3, 5])\n",
    "rdd1.intersection(rdd2).collect()"
   ]
  },
  {
   "attachments": {},
   "cell_type": "markdown",
   "metadata": {},
   "source": [
    "#### sample(withReplacement , fraction, seed=None)\n",
    "- To get random sample records from the RDD.\n",
    "- withReplacment : True or False. With True, Same result can be produced more than\n",
    "- Fraction: Between 0 to 1. 0.3 means 30%. Does not guarantee the exact 30% of the records.\n",
    "- Seed: Reproduce the same sample."
   ]
  },
  {
   "cell_type": "code",
   "execution_count": 65,
   "metadata": {},
   "outputs": [
    {
     "data": {
      "text/plain": [
       "[5, 19, 20, 36, 37, 46, 47, 51, 65, 70, 72, 77, 96]"
      ]
     },
     "execution_count": 65,
     "metadata": {},
     "output_type": "execute_result"
    }
   ],
   "source": [
    "rdd= sc.parallelize (range(100),4)\n",
    "rdd.sample(seed=10,fraction=0.1,withReplacement=False).collect()"
   ]
  },
  {
   "attachments": {},
   "cell_type": "markdown",
   "metadata": {},
   "source": [
    "#### takeSample(withReplacement , num , seed=None)\n",
    "- Return a fixed size sampled subset of this RDD.\n",
    "- This method should only be used if the resulting array is expected to be small, as all the data is loaded into the driver's m emo ry.\n",
    "- num is exact"
   ]
  },
  {
   "cell_type": "code",
   "execution_count": 66,
   "metadata": {},
   "outputs": [
    {
     "data": {
      "text/plain": [
       "[55, 73, 89, 9, 33, 60, 74, 11, 64, 85]"
      ]
     },
     "execution_count": 66,
     "metadata": {},
     "output_type": "execute_result"
    }
   ],
   "source": [
    "rdd.takeSample(seed=10,num=10,withReplacement=True)"
   ]
  }
 ],
 "metadata": {
  "kernelspec": {
   "display_name": "Python 3",
   "language": "python",
   "name": "python3"
  },
  "language_info": {
   "codemirror_mode": {
    "name": "ipython",
    "version": 3
   },
   "file_extension": ".py",
   "mimetype": "text/x-python",
   "name": "python",
   "nbconvert_exporter": "python",
   "pygments_lexer": "ipython3",
   "version": "3.8.10"
  },
  "orig_nbformat": 4
 },
 "nbformat": 4,
 "nbformat_minor": 2
}
