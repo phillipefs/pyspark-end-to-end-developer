{
 "cells": [
  {
   "cell_type": "code",
   "execution_count": 9,
   "metadata": {},
   "outputs": [],
   "source": [
    "from pyspark.sql import SparkSession\n",
    "from pyspark.sql.functions import *\n",
    "from pyspark.sql.types import *\n",
    "\n",
    "\n",
    "spark = SparkSession \\\n",
    "    .builder \\\n",
    "    .getOrCreate()\n",
    "\n",
    "sc = spark.sparkContext"
   ]
  },
  {
   "attachments": {},
   "cell_type": "markdown",
   "metadata": {},
   "source": [
    "flatMap: flatMap(f, preservesPartitioning=False)<br>\n",
    "- Returns a new RDD by first applying a function to all elements of this RDD, and the flattening the results.\n",
    "- Similar to map, but each input item can be mapped to 0 or more output items(so func should return a seq rather than a single item). <br>\n",
    "Number of records in input is less than or equal to output\n",
    "\n",
    "**The flatMap function returns all elements in a single list.**\n"
   ]
  },
  {
   "attachments": {},
   "cell_type": "markdown",
   "metadata": {},
   "source": [
    "Creating RDD"
   ]
  },
  {
   "cell_type": "code",
   "execution_count": 4,
   "metadata": {},
   "outputs": [],
   "source": [
    "ord = sc.textFile('/home/phillipefs/spark_dev/pyspark-end-to-end-developer/0 - PracticeFiles/Orders')\n",
    "ord_items = sc.textFile('/home/phillipefs/spark_dev/pyspark-end-to-end-developer/0 - PracticeFiles/Order_items')"
   ]
  },
  {
   "cell_type": "code",
   "execution_count": 37,
   "metadata": {},
   "outputs": [
    {
     "data": {
      "text/plain": [
       "['1', '2013-07-25 00:00:00.0', '11599', 'CLOSED', '2']"
      ]
     },
     "execution_count": 37,
     "metadata": {},
     "output_type": "execute_result"
    }
   ],
   "source": [
    "ord.flatMap(lambda x : x.split(',')).take(5)"
   ]
  },
  {
   "attachments": {},
   "cell_type": "markdown",
   "metadata": {},
   "source": [
    "Count Words"
   ]
  },
  {
   "cell_type": "code",
   "execution_count": 36,
   "metadata": {},
   "outputs": [
    {
     "data": {
      "text/plain": [
       "[('1', 2),\n",
       " ('CLOSED', 7556),\n",
       " ('256', 11),\n",
       " ('12111', 7),\n",
       " ('4', 7),\n",
       " ('11318', 7),\n",
       " ('7130', 8),\n",
       " ('8', 9),\n",
       " ('2911', 7),\n",
       " ('9', 7),\n",
       " ('5657', 13),\n",
       " ('10', 3),\n",
       " ('12', 9),\n",
       " ('9149', 5),\n",
       " ('14', 10),\n",
       " ('9842', 8),\n",
       " ('16', 8),\n",
       " ('7276', 6),\n",
       " ('17', 6),\n",
       " ('19', 10),\n",
       " ('9488', 8),\n",
       " ('20', 8),\n",
       " ('21', 5),\n",
       " ('2711', 4),\n",
       " ('22', 7),\n",
       " ('333', 7),\n",
       " ('24', 6),\n",
       " ('26', 6),\n",
       " ('656', 6),\n",
       " ('29', 4)]"
      ]
     },
     "execution_count": 36,
     "metadata": {},
     "output_type": "execute_result"
    }
   ],
   "source": [
    "ord.flatMap(lambda x : x.split(',')).map(lambda w : (w,1)).reduceByKey(lambda x, y : x+y).take(30)"
   ]
  }
 ],
 "metadata": {
  "kernelspec": {
   "display_name": "Python 3",
   "language": "python",
   "name": "python3"
  },
  "language_info": {
   "codemirror_mode": {
    "name": "ipython",
    "version": 3
   },
   "file_extension": ".py",
   "mimetype": "text/x-python",
   "name": "python",
   "nbconvert_exporter": "python",
   "pygments_lexer": "ipython3",
   "version": "3.8.10"
  },
  "orig_nbformat": 4
 },
 "nbformat": 4,
 "nbformat_minor": 2
}
