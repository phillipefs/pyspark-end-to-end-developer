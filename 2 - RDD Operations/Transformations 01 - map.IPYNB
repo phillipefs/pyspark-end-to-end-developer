{
 "cells": [
  {
   "cell_type": "code",
   "execution_count": 2,
   "metadata": {},
   "outputs": [],
   "source": [
    "from pyspark.sql import SparkSession\n",
    "from pyspark.sql.functions import *\n",
    "from pyspark.sql.types import *\n",
    "\n",
    "\n",
    "spark = SparkSession \\\n",
    "    .builder \\\n",
    "    .getOrCreate()\n",
    "\n",
    "sc = spark.sparkContext"
   ]
  },
  {
   "attachments": {},
   "cell_type": "markdown",
   "metadata": {},
   "source": [
    "Low Level Transformations (map, flatMap, filter)<br>\n",
    "map: map(f, preservesPartitioning=False)<br>\n",
    "- Perform row level transformations where one record transforms into another record.\n",
    "- Number of records in input is equals to output.\n",
    "- Return a new RDD by applying a function to each element of this RDD\n",
    "- When we apply a map function to an RDD, a pipeline RDD is formed, a subclasss of RDD. It has all the APIs defined in the RDD. \n",
    "\n",
    "**Obs: Function MAP returns each line in a list.**\n"
   ]
  },
  {
   "attachments": {},
   "cell_type": "markdown",
   "metadata": {},
   "source": [
    "Creating RDD"
   ]
  },
  {
   "cell_type": "code",
   "execution_count": 3,
   "metadata": {},
   "outputs": [],
   "source": [
    "ord = sc.textFile('/home/phillipefs/spark_dev/pyspark-end-to-end-developer/0 - PracticeFiles/Orders')\n",
    "ord_items = sc.textFile('/home/phillipefs/spark_dev/pyspark-end-to-end-developer/0 - PracticeFiles/Order_items')"
   ]
  },
  {
   "attachments": {},
   "cell_type": "markdown",
   "metadata": {},
   "source": [
    "#### Project all the orders_ids"
   ]
  },
  {
   "cell_type": "code",
   "execution_count": 18,
   "metadata": {},
   "outputs": [
    {
     "data": {
      "text/plain": [
       "['1,2013-07-25 00:00:00.0,11599,CLOSED',\n",
       " '2,2013-07-25 00:00:00.0,256,PENDING_PAYMENT',\n",
       " '3,2013-07-25 00:00:00.0,12111,COMPLETE',\n",
       " '4,2013-07-25 00:00:00.0,8827,CLOSED',\n",
       " '5,2013-07-25 00:00:00.0,11318,COMPLETE']"
      ]
     },
     "execution_count": 18,
     "metadata": {},
     "output_type": "execute_result"
    }
   ],
   "source": [
    "ord.take(5)"
   ]
  },
  {
   "attachments": {},
   "cell_type": "markdown",
   "metadata": {},
   "source": [
    "Using Function"
   ]
  },
  {
   "cell_type": "code",
   "execution_count": 63,
   "metadata": {},
   "outputs": [
    {
     "data": {
      "text/plain": [
       "['1', '2', '3', '4', '5']"
      ]
     },
     "execution_count": 63,
     "metadata": {},
     "output_type": "execute_result"
    }
   ],
   "source": [
    "def get_ids(line):\n",
    "    element = line.split(\",\")\n",
    "    return element[0]\n",
    "\n",
    "ord.map(get_ids).take(5)"
   ]
  },
  {
   "attachments": {},
   "cell_type": "markdown",
   "metadata": {},
   "source": [
    "Using Lambda"
   ]
  },
  {
   "cell_type": "code",
   "execution_count": 62,
   "metadata": {},
   "outputs": [
    {
     "data": {
      "text/plain": [
       "['1', '2', '3', '4', '5']"
      ]
     },
     "execution_count": 62,
     "metadata": {},
     "output_type": "execute_result"
    }
   ],
   "source": [
    "ord.map(lambda x:x.split(',')[0]).take(5)"
   ]
  },
  {
   "attachments": {},
   "cell_type": "markdown",
   "metadata": {},
   "source": [
    "#### Project all the Orders and their status"
   ]
  },
  {
   "attachments": {},
   "cell_type": "markdown",
   "metadata": {},
   "source": [
    "Using Function"
   ]
  },
  {
   "cell_type": "code",
   "execution_count": 67,
   "metadata": {},
   "outputs": [
    {
     "data": {
      "text/plain": [
       "['1#CLOSED', '2#PENDING_PAYMENT', '3#COMPLETE', '4#CLOSED', '5#COMPLETE']"
      ]
     },
     "execution_count": 67,
     "metadata": {},
     "output_type": "execute_result"
    }
   ],
   "source": [
    "def get_order_status(line):\n",
    "    element = line.split(\",\")\n",
    "    return '#'.join((element[0],element[3]))\n",
    "\n",
    "ord.map(get_order_status).take(5)"
   ]
  },
  {
   "attachments": {},
   "cell_type": "markdown",
   "metadata": {},
   "source": [
    "Using Lambda"
   ]
  },
  {
   "cell_type": "code",
   "execution_count": 49,
   "metadata": {},
   "outputs": [
    {
     "data": {
      "text/plain": [
       "['1#CLOSED', '2#PENDING_PAYMENT', '3#COMPLETE', '4#CLOSED', '5#COMPLETE']"
      ]
     },
     "execution_count": 49,
     "metadata": {},
     "output_type": "execute_result"
    }
   ],
   "source": [
    "ord.map(lambda x : x.split(',')[0] +\"#\"+ x.split(',')[3]).take(5)\n",
    "ord.map(lambda x : \"#\".join((x.split(',')[0],x.split(',')[3]))).take(5)"
   ]
  },
  {
   "attachments": {},
   "cell_type": "markdown",
   "metadata": {},
   "source": [
    "#### Convert the Order date into YYYY/MM/DD Format"
   ]
  },
  {
   "attachments": {},
   "cell_type": "markdown",
   "metadata": {},
   "source": [
    "Using Lambda"
   ]
  },
  {
   "cell_type": "code",
   "execution_count": 51,
   "metadata": {},
   "outputs": [
    {
     "data": {
      "text/plain": [
       "['2013/07/25', '2013/07/25', '2013/07/25', '2013/07/25', '2013/07/25']"
      ]
     },
     "execution_count": 51,
     "metadata": {},
     "output_type": "execute_result"
    }
   ],
   "source": [
    "ord.map(lambda x: x.split(',')[1].split(\" \")[0].replace(\"-\", \"/\")).take(5)"
   ]
  },
  {
   "attachments": {},
   "cell_type": "markdown",
   "metadata": {},
   "source": [
    "#### Convert the Order date into YYYY/MM/DD Format and Return Full Line"
   ]
  },
  {
   "attachments": {},
   "cell_type": "markdown",
   "metadata": {},
   "source": [
    "Using Function"
   ]
  },
  {
   "cell_type": "code",
   "execution_count": 69,
   "metadata": {},
   "outputs": [
    {
     "data": {
      "text/plain": [
       "['1,2013/07/25 00:00:00.0,11599,CLOSED',\n",
       " '2,2013/07/25 00:00:00.0,256,PENDING_PAYMENT',\n",
       " '3,2013/07/25 00:00:00.0,12111,COMPLETE',\n",
       " '4,2013/07/25 00:00:00.0,8827,CLOSED',\n",
       " '5,2013/07/25 00:00:00.0,11318,COMPLETE']"
      ]
     },
     "execution_count": 69,
     "metadata": {},
     "output_type": "execute_result"
    }
   ],
   "source": [
    "def convert_date(line):\n",
    "    list_elements = line.split(',')\n",
    "    date = list_elements[1]\n",
    "    convert_date = date.replace(\"-\",\"/\")\n",
    "    list_elements[1] = convert_date\n",
    "    return \",\".join(list_elements)\n",
    "\n",
    "ord.map(convert_date).take(5)"
   ]
  },
  {
   "attachments": {},
   "cell_type": "markdown",
   "metadata": {},
   "source": [
    "Using Lambda"
   ]
  },
  {
   "cell_type": "code",
   "execution_count": 70,
   "metadata": {},
   "outputs": [
    {
     "data": {
      "text/plain": [
       "['1,2013/07/25 00:00:00.0,11599,CLOSED',\n",
       " '2,2013/07/25 00:00:00.0,256,PENDING_PAYMENT',\n",
       " '3,2013/07/25 00:00:00.0,12111,COMPLETE',\n",
       " '4,2013/07/25 00:00:00.0,8827,CLOSED',\n",
       " '5,2013/07/25 00:00:00.0,11318,COMPLETE']"
      ]
     },
     "execution_count": 70,
     "metadata": {},
     "output_type": "execute_result"
    }
   ],
   "source": [
    "ord.map(lambda x : \",\".join((x.split(',')[0], x.split(',')[1].replace(\"-\", \"/\"), x.split(',')[2], x.split(',')[3]))).take(5)"
   ]
  },
  {
   "attachments": {},
   "cell_type": "markdown",
   "metadata": {},
   "source": [
    "#### Create key-value pairs key as Order Id and values as whole records"
   ]
  },
  {
   "attachments": {},
   "cell_type": "markdown",
   "metadata": {},
   "source": [
    "Using Lambda"
   ]
  },
  {
   "cell_type": "code",
   "execution_count": 13,
   "metadata": {},
   "outputs": [
    {
     "data": {
      "text/plain": [
       "[('1', '1,2013-07-25 00:00:00.0,11599,CLOSED'),\n",
       " ('2', '2,2013-07-25 00:00:00.0,256,PENDING_PAYMENT'),\n",
       " ('3', '3,2013-07-25 00:00:00.0,12111,COMPLETE'),\n",
       " ('4', '4,2013-07-25 00:00:00.0,8827,CLOSED'),\n",
       " ('5', '5,2013-07-25 00:00:00.0,11318,COMPLETE')]"
      ]
     },
     "execution_count": 13,
     "metadata": {},
     "output_type": "execute_result"
    }
   ],
   "source": [
    "ord.map(lambda a : (a.split(',')[0],a)).take(5)"
   ]
  },
  {
   "attachments": {},
   "cell_type": "markdown",
   "metadata": {},
   "source": [
    "Using function"
   ]
  },
  {
   "cell_type": "code",
   "execution_count": 16,
   "metadata": {},
   "outputs": [
    {
     "data": {
      "text/plain": [
       "[('1', '1,2013-07-25 00:00:00.0,11599,CLOSED'),\n",
       " ('2', '2,2013-07-25 00:00:00.0,256,PENDING_PAYMENT'),\n",
       " ('3', '3,2013-07-25 00:00:00.0,12111,COMPLETE'),\n",
       " ('4', '4,2013-07-25 00:00:00.0,8827,CLOSED'),\n",
       " ('5', '5,2013-07-25 00:00:00.0,11318,COMPLETE')]"
      ]
     },
     "execution_count": 16,
     "metadata": {},
     "output_type": "execute_result"
    }
   ],
   "source": [
    "def get_order_value(line):\n",
    "    elements = line.split(',')\n",
    "    id = elements[0]\n",
    "    return (id,line)\n",
    "\n",
    "\n",
    "ord.map(get_order_value).take(5)"
   ]
  },
  {
   "attachments": {},
   "cell_type": "markdown",
   "metadata": {},
   "source": [
    "#### Project all the Order_item_id and their subtotal"
   ]
  },
  {
   "cell_type": "code",
   "execution_count": 19,
   "metadata": {},
   "outputs": [
    {
     "data": {
      "text/plain": [
       "['1,1,957,1,299.98,299.98',\n",
       " '2,2,1073,1,199.99,199.99',\n",
       " '3,2,502,5,250.0,50.0',\n",
       " '4,2,403,1,129.99,129.99',\n",
       " '5,4,897,2,49.98,24.99']"
      ]
     },
     "execution_count": 19,
     "metadata": {},
     "output_type": "execute_result"
    }
   ],
   "source": [
    "ord_items.take(5)"
   ]
  },
  {
   "attachments": {},
   "cell_type": "markdown",
   "metadata": {},
   "source": [
    "Using Lambda"
   ]
  },
  {
   "cell_type": "code",
   "execution_count": 21,
   "metadata": {},
   "outputs": [
    {
     "data": {
      "text/plain": [
       "[('1', '299.98'),\n",
       " ('2', '199.99'),\n",
       " ('3', '250.0'),\n",
       " ('4', '129.99'),\n",
       " ('5', '49.98')]"
      ]
     },
     "execution_count": 21,
     "metadata": {},
     "output_type": "execute_result"
    }
   ],
   "source": [
    "ord_items.map(lambda a : (a.split(',')[0],a.split(',')[4])).take(5)"
   ]
  },
  {
   "attachments": {},
   "cell_type": "markdown",
   "metadata": {},
   "source": [
    "Applied user defined function to convert status into lowercase"
   ]
  },
  {
   "attachments": {},
   "cell_type": "markdown",
   "metadata": {},
   "source": [
    "Using Function"
   ]
  },
  {
   "cell_type": "code",
   "execution_count": 24,
   "metadata": {},
   "outputs": [
    {
     "data": {
      "text/plain": [
       "['1,2013-07-25 00:00:00.0,11599,closed',\n",
       " '2,2013-07-25 00:00:00.0,256,pending_payment',\n",
       " '3,2013-07-25 00:00:00.0,12111,complete',\n",
       " '4,2013-07-25 00:00:00.0,8827,closed',\n",
       " '5,2013-07-25 00:00:00.0,11318,complete']"
      ]
     },
     "execution_count": 24,
     "metadata": {},
     "output_type": "execute_result"
    }
   ],
   "source": [
    "def status_lower_case(line):\n",
    "    elements = line.split(',')\n",
    "    status_lower_case = elements[3].lower()\n",
    "    elements[3] = status_lower_case\n",
    "    return \",\".join(elements)\n",
    "\n",
    "ord.map(status_lower_case).take(5)"
   ]
  },
  {
   "cell_type": "code",
   "execution_count": 25,
   "metadata": {},
   "outputs": [
    {
     "data": {
      "text/plain": [
       "['1,2013-07-25 00:00:00.0,11599,CLOSED',\n",
       " '2,2013-07-25 00:00:00.0,256,PENDING_PAYMENT',\n",
       " '3,2013-07-25 00:00:00.0,12111,COMPLETE',\n",
       " '4,2013-07-25 00:00:00.0,8827,CLOSED',\n",
       " '5,2013-07-25 00:00:00.0,11318,COMPLETE']"
      ]
     },
     "execution_count": 25,
     "metadata": {},
     "output_type": "execute_result"
    }
   ],
   "source": [
    "ord.take(5)"
   ]
  }
 ],
 "metadata": {
  "kernelspec": {
   "display_name": "Python 3",
   "language": "python",
   "name": "python3"
  },
  "language_info": {
   "codemirror_mode": {
    "name": "ipython",
    "version": 3
   },
   "file_extension": ".py",
   "mimetype": "text/x-python",
   "name": "python",
   "nbconvert_exporter": "python",
   "pygments_lexer": "ipython3",
   "version": "3.8.10"
  },
  "orig_nbformat": 4
 },
 "nbformat": 4,
 "nbformat_minor": 2
}
