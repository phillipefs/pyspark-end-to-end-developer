{
 "cells": [
  {
   "cell_type": "code",
   "execution_count": 3,
   "metadata": {},
   "outputs": [],
   "source": [
    "from pyspark.sql import SparkSession\n",
    "\n",
    "spark = SparkSession \\\n",
    "    .builder \\\n",
    "    .getOrCreate()\n",
    "\n",
    "sc = spark.sparkContext"
   ]
  },
  {
   "attachments": {},
   "cell_type": "markdown",
   "metadata": {},
   "source": [
    "Creating RDD"
   ]
  },
  {
   "cell_type": "code",
   "execution_count": 4,
   "metadata": {},
   "outputs": [],
   "source": [
    "ord = sc.textFile('/home/phillipefs/spark_dev/pyspark-end-to-end-developer/0 - PracticeFiles/Orders')\n",
    "ord_items = sc.textFile('/home/phillipefs/spark_dev/pyspark-end-to-end-developer/0 - PracticeFiles/Order_items')"
   ]
  },
  {
   "attachments": {},
   "cell_type": "markdown",
   "metadata": {},
   "source": [
    "#### sortByKey(ascending=True, numPartitions=None, keyfunc=<function <lambda>>)\n",
    "When called on a dataset of (K, V) pairs, returns a dataset of (K, V) pairs sorted by keys in ascending or descending order, as specified in\n",
    "the Boolean ascending argument."
   ]
  },
  {
   "cell_type": "markdown",
   "metadata": {},
   "source": [
    "Example : Sort ordes using customer id."
   ]
  },
  {
   "cell_type": "code",
   "execution_count": 73,
   "metadata": {},
   "outputs": [
    {
     "data": {
      "text/plain": [
       "[(1, '22945,2013-12-13 00:00:00.0,1,COMPLETE'),\n",
       " (2, '15192,2013-10-29 00:00:00.0,2,PENDING_PAYMENT'),\n",
       " (2, '33865,2014-02-18 00:00:00.0,2,COMPLETE'),\n",
       " (2, '57963,2013-08-02 00:00:00.0,2,ON_HOLD'),\n",
       " (2, '67863,2013-11-30 00:00:00.0,2,COMPLETE')]"
      ]
     },
     "execution_count": 73,
     "metadata": {},
     "output_type": "execute_result"
    }
   ],
   "source": [
    "ord.map(lambda x : (int(x.split(',')[2]),x)).sortByKey(ascending=True).take(5)"
   ]
  },
  {
   "attachments": {},
   "cell_type": "markdown",
   "metadata": {},
   "source": [
    "Example (Sort orders using customer and status.)"
   ]
  },
  {
   "cell_type": "code",
   "execution_count": 74,
   "metadata": {},
   "outputs": [
    {
     "name": "stdout",
     "output_type": "stream",
     "text": [
      "((12435, 'PENDING'), '41643,2014-04-08 00:00:00.0,12435,PENDING')\n",
      "((12435, 'CANCELED'), '61629,2013-12-21 00:00:00.0,12435,CANCELED')\n",
      "((12434, 'PENDING_PAYMENT'), '4799,2013-08-23 00:00:00.0,12434,PENDING_PAYMENT')\n",
      "((12434, 'PENDING'), '5303,2013-08-26 00:00:00.0,12434,PENDING')\n",
      "((12434, 'PENDING'), '13544,2013-10-16 00:00:00.0,12434,PENDING')\n",
      "((12434, 'ON_HOLD'), '51800,2014-06-14 00:00:00.0,12434,ON_HOLD')\n",
      "((12434, 'COMPLETE'), '6160,2013-09-02 00:00:00.0,12434,COMPLETE')\n",
      "((12434, 'COMPLETE'), '42915,2014-04-16 00:00:00.0,12434,COMPLETE')\n",
      "((12434, 'COMPLETE'), '61777,2013-12-26 00:00:00.0,12434,COMPLETE')\n",
      "((12434, 'CLOSED'), '1868,2013-08-03 00:00:00.0,12434,CLOSED')\n"
     ]
    }
   ],
   "source": [
    "ordPair = ord.map(lambda x : ((int(x.split(',')[2]), x.split(',')[3]),x))\n",
    "ordSort = ordPair.sortByKey(ascending=False)\n",
    "for i in ordSort.take(10) : print(i)"
   ]
  }
 ],
 "metadata": {
  "kernelspec": {
   "display_name": "Python 3",
   "language": "python",
   "name": "python3"
  },
  "language_info": {
   "codemirror_mode": {
    "name": "ipython",
    "version": 3
   },
   "file_extension": ".py",
   "mimetype": "text/x-python",
   "name": "python",
   "nbconvert_exporter": "python",
   "pygments_lexer": "ipython3",
   "version": "3.8.10"
  },
  "orig_nbformat": 4
 },
 "nbformat": 4,
 "nbformat_minor": 2
}
